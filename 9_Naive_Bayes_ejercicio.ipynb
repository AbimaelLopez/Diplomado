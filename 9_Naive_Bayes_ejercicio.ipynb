{
  "cells": [
    {
      "cell_type": "markdown",
      "metadata": {
        "id": "view-in-github",
        "colab_type": "text"
      },
      "source": [
        "<a href=\"https://colab.research.google.com/github/AbimaelLopez/Diplomado/blob/main/9_Naive_Bayes_ejercicio.ipynb\" target=\"_parent\"><img src=\"https://colab.research.google.com/assets/colab-badge.svg\" alt=\"Open In Colab\"/></a>"
      ]
    },
    {
      "cell_type": "markdown",
      "metadata": {
        "id": "cXkOF_ewIz0Q"
      },
      "source": [
        "# **9. Naive Bayes**\n",
        "\n",
        "### Objetivos\n",
        "Que la o el estudiante entienda los principios básicos del algoritmo de clasificación Naive Bayes y que aprenda a utilizar la clase correspondiente de la biblioteca Sklearn.\n",
        "\n",
        "Que la o el estudiante aprenda a crear Pipelines que incluyen modelos y que se hagan búsqueda de de hiperparámetros y modelos dentro de GridSearchCV.\n",
        "\n",
        "### Descripción del procedimiento a seguir\n",
        "- Se construye un clasificador Naive Bayes desde cero para clasificar el conjunto de datos Iris.\n",
        "- Se utiliza la clase de Sklearn.\n",
        "- Se comparan tres clasificadores distintos para un problema de clasificación.\n",
        "- Se deja como ejercicio comparar clasificadores para un problema de regresón.\n",
        "\n",
        "\n",
        "### Datos\n",
        "**Profesora**: Dra. Jessica Beltrán Márquez<br>\n",
        "Maestría en Ciencia de Datos y Optimización<br>\n",
        "Centro de Investigación en Matemáticas Aplicadas <br>\n",
        "Universidad Autónoma de Coahuila\n",
        "\n",
        "\n",
        "### Bibliografía\n",
        "1. http://www.cs.toronto.edu/~delve/data/boston/bostonDetail.html\n",
        "2. https://raw.githubusercontent.com/JoaquinAmatRodrigo/Estadistica-machine-learning-python/master/data/Boston.csv\n"
      ]
    },
    {
      "cell_type": "code",
      "source": [
        "from google.colab import drive\n",
        "drive.mount('/content/drive')"
      ],
      "metadata": {
        "colab": {
          "base_uri": "https://localhost:8080/"
        },
        "id": "-ylXm2q71cty",
        "outputId": "defe5103-a43f-4bb3-afa9-3910012a9faf"
      },
      "execution_count": 1,
      "outputs": [
        {
          "output_type": "stream",
          "name": "stdout",
          "text": [
            "Mounted at /content/drive\n"
          ]
        }
      ]
    },
    {
      "cell_type": "markdown",
      "source": [
        "## **1. Importar bibliotecas**"
      ],
      "metadata": {
        "id": "xC3hH1-iz3b1"
      }
    },
    {
      "cell_type": "code",
      "execution_count": 2,
      "metadata": {
        "id": "xgVYBLmaIz0S"
      },
      "outputs": [],
      "source": [
        "#Importamos las bibliotecas que vamos a utilizar\n",
        "import math\n",
        "import random\n",
        "import pandas as pd\n",
        "import numpy as np\n",
        "\n",
        "#Datasets\n",
        "from sklearn.datasets import load_iris\n",
        "\n",
        "#Model selection\n",
        "from sklearn.model_selection import train_test_split, GridSearchCV, cross_val_score, StratifiedKFold\n",
        "\n",
        "#Metrics\n",
        "from sklearn.metrics import accuracy_score\n",
        "\n",
        "#Classfier\n",
        "from sklearn.naive_bayes import GaussianNB\n",
        "from sklearn.naive_bayes import CategoricalNB\n",
        "from sklearn.neighbors import KNeighborsClassifier\n",
        "from sklearn.tree import DecisionTreeClassifier\n",
        "\n",
        "#Preprocessing\n",
        "from sklearn.preprocessing import MinMaxScaler, StandardScaler, OneHotEncoder\n",
        "from sklearn.impute import SimpleImputer\n",
        "\n",
        "#Pipeline\n",
        "from sklearn.pipeline import Pipeline\n",
        "from sklearn.compose import ColumnTransformer\n",
        "from sklearn.compose import ColumnTransformer"
      ]
    },
    {
      "cell_type": "markdown",
      "source": [
        "## **2. Un clasificador Naive Bayes desde cero**"
      ],
      "metadata": {
        "id": "-7WgkRXS1Ehn"
      }
    },
    {
      "cell_type": "markdown",
      "source": [
        "### **2.1 Carga y separación del conjunto de datos Iris**\n",
        "- Leemos los datos\n",
        "- Separamos en X y y\n",
        "- Separamos en datos de entrenamiento y de prueba"
      ],
      "metadata": {
        "id": "jiTlbigw1Jtk"
      }
    },
    {
      "cell_type": "code",
      "execution_count": 100,
      "metadata": {
        "id": "NtNrHC_kIz0T"
      },
      "outputs": [],
      "source": [
        "# Nombre del archivo csv con el conjunto de datos\n",
        "#dataset_filename = '/content/drive/MyDrive/Curso ML Diplomado/9. Bayes ingenuo/irisDataset.csv'\n",
        "# Cargar los datos a un dataframe pandas\n",
        "\n",
        "iris = load_iris()\n",
        "\n",
        "\n",
        "# Create a Pandas DataFrame\n",
        "X = pd.DataFrame(data=iris.data, columns=iris.feature_names)\n",
        "\n",
        "# Add the target variable (species) to the DataFrame\n",
        "y = pd.Series(iris.target)\n",
        "#df = pd.read_csv(dataset_filename)\n",
        "#df.head()"
      ]
    },
    {
      "cell_type": "code",
      "source": [
        "X = df.iloc[:,:-1]\n",
        "y= df.iloc[:,-1]"
      ],
      "metadata": {
        "id": "wjGxiCWl14KS"
      },
      "execution_count": 85,
      "outputs": []
    },
    {
      "cell_type": "code",
      "source": [
        "X_train,X_test, y_train, y_test = train_test_split(X,y, test_size=0.2, random_state=10, stratify=y)"
      ],
      "metadata": {
        "id": "R76rr0q61VKN"
      },
      "execution_count": 101,
      "outputs": []
    },
    {
      "cell_type": "markdown",
      "source": [
        "### **2.2 En la variable *classes* guardamos los nombres de las clases**"
      ],
      "metadata": {
        "id": "yL23XaIe1NvP"
      }
    },
    {
      "cell_type": "code",
      "execution_count": 102,
      "metadata": {
        "colab": {
          "base_uri": "https://localhost:8080/"
        },
        "id": "UT0m_heyIz0V",
        "outputId": "c0ea15a9-c7b9-4e3d-dcb7-edfb927caf91"
      },
      "outputs": [
        {
          "output_type": "stream",
          "name": "stdout",
          "text": [
            "[0 1 2]\n"
          ]
        }
      ],
      "source": [
        "#Obtener las clases de flores a partir de la última columna\n",
        "classes = y.unique()\n",
        "print(classes)"
      ]
    },
    {
      "cell_type": "markdown",
      "source": [
        "### **2.3 Definimos una funciones de apoyo**  \n",
        "- Definimos la función *GaussianParametersFeatures** que obtiene las medias y desviaciones estándares de cada columna de un conjunto de datos.\n",
        "- Definimos la función *get_likelihood_normal_distribution* para obtener la verosimuilitud."
      ],
      "metadata": {
        "id": "3Y56a3m53eNl"
      }
    },
    {
      "cell_type": "markdown",
      "source": [
        "**Definimos una funcion que obtiene el vector media y desviación estándar dado un conjunto de datos**\n",
        "- Con el objetivo de probar la función, le pasamos todo el conjunto de datos y nos obtiene las medias y desviaciones estándar de cada una de las características."
      ],
      "metadata": {
        "id": "-RdCTfGg6R5f"
      }
    },
    {
      "cell_type": "code",
      "execution_count": 103,
      "metadata": {
        "id": "O9X8p2EhIz0W"
      },
      "outputs": [],
      "source": [
        "#Esta función obtiene la media y la desviación estándar del dataframe que recibe.\n",
        "# Lo hace sobre el primer eje\n",
        "# Nos sirve para conocer los parámetros de las distribuciones Gaussianas de cada clase\n",
        "def GaussianParametersFeatures(df):\n",
        "    means = df.mean(axis = 0)\n",
        "    stds = df.std(axis = 0)\n",
        "    return means,stds"
      ]
    },
    {
      "cell_type": "code",
      "execution_count": 104,
      "metadata": {
        "colab": {
          "base_uri": "https://localhost:8080/"
        },
        "id": "ZRzVV-r5Iz0Y",
        "outputId": "46348df1-5d9b-4183-ae95-739567a8915f"
      },
      "outputs": [
        {
          "output_type": "stream",
          "name": "stdout",
          "text": [
            "Medias: \n",
            " sepal length (cm)    5.843333\n",
            "sepal width (cm)     3.057333\n",
            "petal length (cm)    3.758000\n",
            "petal width (cm)     1.199333\n",
            "dtype: float64\n",
            "\n",
            "\n",
            "Desviaciones estándar: \n",
            " sepal length (cm)    0.828066\n",
            "sepal width (cm)     0.435866\n",
            "petal length (cm)    1.765298\n",
            "petal width (cm)     0.762238\n",
            "dtype: float64\n"
          ]
        }
      ],
      "source": [
        "# Aplicamos la función sobre nuestro conjunto de datos y obtenemos los promedios y desviaciones estándar\n",
        "(means,stds) = GaussianParametersFeatures(X)\n",
        "print('Medias: \\n', means)\n",
        "print('\\n')\n",
        "print('Desviaciones estándar: \\n', stds)"
      ]
    },
    {
      "cell_type": "markdown",
      "source": [
        "**Definimos una función para obtener la verosimilitud dada una distribución normal**\n",
        "- Con el objetivo de probar la función, le pasamos un vector de medias y un vector de desviaciones estándar.\n",
        "- Ya que *Naive Bayes* supone independencia, obtenemos el producto de las verosimilitudes de todas las características."
      ],
      "metadata": {
        "id": "2EH2Vcse60pj"
      }
    },
    {
      "cell_type": "code",
      "source": [
        "def get_likelihood_normal_distribution(X,mu=0,sigma=1):\n",
        "  #Calculo de p(x_w) en cada característica\n",
        "  p_x_w=np.divide(1,(np.sqrt(2*math.pi)*sigma)) * np.exp(-1/2* np.divide(np.power(X-mu, 2),np.multiply(sigma, sigma)))\n",
        "  return(p_x_w)"
      ],
      "metadata": {
        "id": "pJDsz5IT66LD"
      },
      "execution_count": 105,
      "outputs": []
    },
    {
      "cell_type": "code",
      "source": [
        "#Este código es solo para probar la función, en este caso con varias características\n",
        "p_x_w = get_likelihood_normal_distribution([5.5, 3, 5, 1],mu=means,sigma=stds)\n",
        "print(p_x_w)"
      ],
      "metadata": {
        "colab": {
          "base_uri": "https://localhost:8080/"
        },
        "id": "9X9E5IyT7Dka",
        "outputId": "92e0fb3f-6eef-4797-cb8b-f14576e5ea04"
      },
      "execution_count": 106,
      "outputs": [
        {
          "output_type": "stream",
          "name": "stdout",
          "text": [
            "sepal length (cm)    0.442095\n",
            "sepal width (cm)     0.907402\n",
            "petal length (cm)    0.176443\n",
            "petal width (cm)     0.505789\n",
            "dtype: float64\n"
          ]
        }
      ]
    },
    {
      "cell_type": "code",
      "source": [
        "#Debido a que estamos suponiendo independencia\n",
        "np.prod(p_x_w)"
      ],
      "metadata": {
        "colab": {
          "base_uri": "https://localhost:8080/"
        },
        "id": "h-CfWL9C7JmX",
        "outputId": "fff32486-e62c-4df7-fe02-45d7573d85a9"
      },
      "execution_count": 107,
      "outputs": [
        {
          "output_type": "execute_result",
          "data": {
            "text/plain": [
              "0.035800399490383494"
            ]
          },
          "metadata": {},
          "execution_count": 107
        }
      ]
    },
    {
      "cell_type": "markdown",
      "metadata": {
        "id": "YiPL6vMJIz0Y"
      },
      "source": [
        "### **2.4 Entrenamiento**\n",
        "\n",
        "Como se vio, con Naive Bayes se entrena un módelo por cada clase\n",
        "\n",
        "Este modelo se entrena conociendo las probabilidades a priori y las distribuciones de clase"
      ]
    },
    {
      "cell_type": "markdown",
      "source": [
        "Veamos un ejemplo con la clase 'setosa'"
      ],
      "metadata": {
        "id": "X6Ymmkh95HLY"
      }
    },
    {
      "cell_type": "code",
      "execution_count": 108,
      "metadata": {
        "colab": {
          "base_uri": "https://localhost:8080/"
        },
        "id": "oeGrJl_vIz0a",
        "outputId": "26491a4c-7eb4-4132-bb74-4a0f8ff0f34d"
      },
      "outputs": [
        {
          "output_type": "stream",
          "name": "stdout",
          "text": [
            "    sepal length (cm)  sepal width (cm)  petal length (cm)  petal width (cm)\n",
            "11                4.8               3.4                1.6               0.2\n",
            "17                5.1               3.5                1.4               0.3\n",
            "39                5.1               3.4                1.5               0.2\n",
            "45                4.8               3.0                1.4               0.3\n",
            "4                 5.0               3.6                1.4               0.2\n",
            "40                5.0               3.5                1.3               0.3\n",
            "7                 5.0               3.4                1.5               0.2\n",
            "12                4.8               3.0                1.4               0.1\n",
            "27                5.2               3.5                1.5               0.2\n",
            "2                 4.7               3.2                1.3               0.2\n",
            "35                5.0               3.2                1.2               0.2\n",
            "1                 4.9               3.0                1.4               0.2\n",
            "48                5.3               3.7                1.5               0.2\n",
            "13                4.3               3.0                1.1               0.1\n",
            "38                4.4               3.0                1.3               0.2\n",
            "10                5.4               3.7                1.5               0.2\n",
            "37                4.9               3.6                1.4               0.1\n",
            "3                 4.6               3.1                1.5               0.2\n",
            "21                5.1               3.7                1.5               0.4\n",
            "26                5.0               3.4                1.6               0.4\n",
            "16                5.4               3.9                1.3               0.4\n",
            "31                5.4               3.4                1.5               0.4\n",
            "22                4.6               3.6                1.0               0.2\n",
            "23                5.1               3.3                1.7               0.5\n",
            "18                5.7               3.8                1.7               0.3\n",
            "24                4.8               3.4                1.9               0.2\n",
            "20                5.4               3.4                1.7               0.2\n",
            "44                5.1               3.8                1.9               0.4\n",
            "42                4.4               3.2                1.3               0.2\n",
            "41                4.5               2.3                1.3               0.3\n",
            "34                4.9               3.1                1.5               0.2\n",
            "30                4.8               3.1                1.6               0.2\n",
            "6                 4.6               3.4                1.4               0.3\n",
            "46                5.1               3.8                1.6               0.2\n",
            "47                4.6               3.2                1.4               0.2\n",
            "33                5.5               4.2                1.4               0.2\n",
            "32                5.2               4.1                1.5               0.1\n",
            "5                 5.4               3.9                1.7               0.4\n",
            "14                5.8               4.0                1.2               0.2\n",
            "19                5.1               3.8                1.5               0.3\n"
          ]
        }
      ],
      "source": [
        "#Primero extraemos solo la información que corresponde a las flores de tipo setosa\n",
        "train_set_setosa = X_train.loc[y_train == classes[0]]\n",
        "print(train_set_setosa)"
      ]
    },
    {
      "cell_type": "code",
      "execution_count": 109,
      "metadata": {
        "colab": {
          "base_uri": "https://localhost:8080/"
        },
        "id": "-90keWw8Iz0a",
        "outputId": "f9076fa9-c937-4371-89bb-7023d7fb3707"
      },
      "outputs": [
        {
          "output_type": "stream",
          "name": "stdout",
          "text": [
            "Medias: \n",
            " sepal length (cm)    4.995\n",
            "sepal width (cm)     3.440\n",
            "petal length (cm)    1.460\n",
            "petal width (cm)     0.245\n",
            "dtype: float64\n",
            "\n",
            "\n",
            "Desviaciones estándar: \n",
            " sepal length (cm)    0.352246\n",
            "sepal width (cm)     0.373342\n",
            "petal length (cm)    0.187835\n",
            "petal width (cm)     0.095943\n",
            "dtype: float64\n"
          ]
        }
      ],
      "source": [
        "#Obtenemos las medias y desviaciones estándar de cada característica, lo que nos sirve para describir la distribución Gaussiana\n",
        "(means,stds) = GaussianParametersFeatures(train_set_setosa)\n",
        "print('Medias: \\n', means)\n",
        "print('\\n')\n",
        "print('Desviaciones estándar: \\n', stds)"
      ]
    },
    {
      "cell_type": "markdown",
      "source": [
        "Ahora lo hacemos para las 3 clases distintas: ['setosa' 'versicolor' 'virginica']\n",
        "\n",
        "Almacenamos el modelo en un diccionario llamado summaries"
      ],
      "metadata": {
        "id": "fFLqGfUe5jVv"
      }
    },
    {
      "cell_type": "code",
      "execution_count": 111,
      "metadata": {
        "id": "9B9FqAf6Iz0c"
      },
      "outputs": [],
      "source": [
        "summaries = dict()\n",
        "for className in classes:\n",
        "    #summaries['classNames'] = classes[i]\n",
        "    data_subset_class = X_train[y_train== className]\n",
        "    prior = len(data_subset_class)/len(X_train)              #<- Probabilidad priori\n",
        "    (means,stds) = GaussianParametersFeatures(data_subset_class)\n",
        "    summaries[className] = (prior,means,stds)"
      ]
    },
    {
      "cell_type": "code",
      "execution_count": 112,
      "metadata": {
        "colab": {
          "base_uri": "https://localhost:8080/"
        },
        "id": "8r510RXLIz0c",
        "outputId": "78ba4751-533d-4e47-8920-051c829ad24e"
      },
      "outputs": [
        {
          "output_type": "stream",
          "name": "stdout",
          "text": [
            "{0: (0.3333333333333333, sepal length (cm)    4.995\n",
            "sepal width (cm)     3.440\n",
            "petal length (cm)    1.460\n",
            "petal width (cm)     0.245\n",
            "dtype: float64, sepal length (cm)    0.352246\n",
            "sepal width (cm)     0.373342\n",
            "petal length (cm)    0.187835\n",
            "petal width (cm)     0.095943\n",
            "dtype: float64), 1: (0.3333333333333333, sepal length (cm)    6.0225\n",
            "sepal width (cm)     2.7950\n",
            "petal length (cm)    4.3250\n",
            "petal width (cm)     1.3475\n",
            "dtype: float64, sepal length (cm)    0.477970\n",
            "sepal width (cm)     0.330462\n",
            "petal length (cm)    0.418636\n",
            "petal width (cm)     0.198698\n",
            "dtype: float64), 2: (0.3333333333333333, sepal length (cm)    6.5850\n",
            "sepal width (cm)     2.9550\n",
            "petal length (cm)    5.5625\n",
            "petal width (cm)     2.0200\n",
            "dtype: float64, sepal length (cm)    0.660439\n",
            "sepal width (cm)     0.309632\n",
            "petal length (cm)    0.554093\n",
            "petal width (cm)     0.287518\n",
            "dtype: float64)}\n"
          ]
        }
      ],
      "source": [
        "print(summaries)"
      ]
    },
    {
      "cell_type": "markdown",
      "source": [
        "### **2.5 Aplicamos Naive Bayes**\n",
        "- Tenemos el modelo en summaries (las medias y desviaciones estándar de cada clase).\n",
        "- Definimos una función para evaluar ejemplos.\n",
        "  - Esta función recibe los ejemplos, el modelo, y el nombre de las clases.\n",
        "  - Obtiene la verosimilitud.\n",
        "  - Almacena las probabilidades por cada una de las clases\n",
        "  - Regresa la clase con la probabilidad mayor"
      ],
      "metadata": {
        "id": "egBgEUYE6Bqj"
      }
    },
    {
      "cell_type": "code",
      "execution_count": 113,
      "metadata": {
        "id": "ISu0xaReIz0e"
      },
      "outputs": [],
      "source": [
        "#Aplicamos bayes\n",
        "probs = dict()\n",
        "def evaluateSample(sample,summaries,classes):\n",
        "    for className in classes:\n",
        "        (prior,means,stds) = summaries[className]\n",
        "        p_x_w = get_likelihood_normal_distribution(sample,mu=means,sigma=stds)\n",
        "        probs[className] = np.prod(p_x_w)*prior\n",
        "    return max(probs, key=probs.get)\n"
      ]
    },
    {
      "cell_type": "code",
      "execution_count": 114,
      "metadata": {
        "colab": {
          "base_uri": "https://localhost:8080/"
        },
        "id": "9fbIp4V0Iz0e",
        "outputId": "6804fd5e-cd24-4d25-a54a-0d8942a9219e"
      },
      "outputs": [
        {
          "output_type": "execute_result",
          "data": {
            "text/plain": [
              "0"
            ]
          },
          "metadata": {},
          "execution_count": 114
        }
      ],
      "source": [
        "#Evaluamos sobre un vector\n",
        "evaluateSample([5, 2, 2, 0.3],summaries,classes)\n"
      ]
    },
    {
      "cell_type": "code",
      "execution_count": 115,
      "metadata": {
        "colab": {
          "base_uri": "https://localhost:8080/"
        },
        "id": "v9xlonu2Iz0f",
        "outputId": "e4cdb24f-3aea-4770-a6a9-0a6b9ccaff0d"
      },
      "outputs": [
        {
          "output_type": "execute_result",
          "data": {
            "text/plain": [
              "0"
            ]
          },
          "metadata": {},
          "execution_count": 115
        }
      ],
      "source": [
        "#Evaluar un solo ejemplo del testdata\n",
        "sample=np.array(X_test.iloc[15])\n",
        "evaluateSample(sample,summaries,classes)\n"
      ]
    },
    {
      "cell_type": "code",
      "source": [
        "y_test[15]"
      ],
      "metadata": {
        "colab": {
          "base_uri": "https://localhost:8080/"
        },
        "id": "BmD6uQlB9RFO",
        "outputId": "1149c14f-48ba-4825-d2b5-c9fdf3667a0e"
      },
      "execution_count": 117,
      "outputs": [
        {
          "output_type": "execute_result",
          "data": {
            "text/plain": [
              "0"
            ]
          },
          "metadata": {},
          "execution_count": 117
        }
      ]
    },
    {
      "cell_type": "code",
      "execution_count": 118,
      "metadata": {
        "colab": {
          "base_uri": "https://localhost:8080/"
        },
        "id": "e9mJEPH8Iz0f",
        "outputId": "4210e2c2-8792-4476-c5d4-60295ddd3e51"
      },
      "outputs": [
        {
          "output_type": "stream",
          "name": "stdout",
          "text": [
            "Real:  1  |  1 : Predicted\n",
            "Real:  0  |  0 : Predicted\n",
            "Real:  1  |  1 : Predicted\n",
            "Real:  2  |  2 : Predicted\n",
            "Real:  1  |  1 : Predicted\n",
            "Real:  2  |  2 : Predicted\n",
            "Real:  0  |  0 : Predicted\n",
            "Real:  2  |  2 : Predicted\n",
            "Real:  2  |  2 : Predicted\n",
            "Real:  0  |  0 : Predicted\n",
            "Real:  0  |  0 : Predicted\n",
            "Real:  1  |  1 : Predicted\n",
            "Real:  2  |  2 : Predicted\n",
            "Real:  2  |  2 : Predicted\n",
            "Real:  1  |  1 : Predicted\n",
            "Real:  0  |  0 : Predicted\n",
            "Real:  0  |  0 : Predicted\n",
            "Real:  1  |  1 : Predicted\n",
            "Real:  2  |  2 : Predicted\n",
            "Real:  0  |  0 : Predicted\n",
            "Real:  2  |  2 : Predicted\n",
            "Real:  2  |  2 : Predicted\n",
            "Real:  2  |  2 : Predicted\n",
            "Real:  0  |  0 : Predicted\n",
            "Real:  0  |  0 : Predicted\n",
            "Real:  1  |  1 : Predicted\n",
            "Real:  1  |  1 : Predicted\n",
            "Real:  0  |  0 : Predicted\n",
            "Real:  1  |  1 : Predicted\n",
            "Real:  1  |  1 : Predicted\n"
          ]
        }
      ],
      "source": [
        "#Evaluar todos los ejemplos del testdata\n",
        "for row in range(X_test.shape[0]):\n",
        "    sample=np.array(X_test.iloc[row])\n",
        "    class_sample = y_test.iloc[row]\n",
        "    class_predicted = evaluateSample(sample,summaries,classes)\n",
        "    print(\"Real: \", class_sample, \" | \" , class_predicted, \": Predicted\")"
      ]
    },
    {
      "cell_type": "markdown",
      "source": [
        "## **3. Uso del modelo GaussianNB de Sklearn**\n",
        "- Instanciamos el modelo\n",
        "- Ajustamos el modelo sobre los datos de entrenamiento\n",
        "- Predecimos usando el conjunto de prueba\n",
        "- Evaluamos"
      ],
      "metadata": {
        "id": "4GzwWK7Y-PAw"
      }
    },
    {
      "cell_type": "code",
      "execution_count": 119,
      "metadata": {
        "id": "NGUTD8O3Iz0g",
        "colab": {
          "base_uri": "https://localhost:8080/"
        },
        "outputId": "a25a0253-81c1-4572-c6ab-3cee8d380550"
      },
      "outputs": [
        {
          "output_type": "stream",
          "name": "stdout",
          "text": [
            "Accuracy: 1.00\n"
          ]
        }
      ],
      "source": [
        "# Create and fit the Gaussian Naive Bayes classifier\n",
        "naive_bayes_classifier = GaussianNB()\n",
        "naive_bayes_classifier.fit(X_train, y_train)\n",
        "\n",
        "# Make predictions on the test set\n",
        "y_pred = naive_bayes_classifier.predict(X_test)\n",
        "\n",
        "# Evaluate the model accuracy\n",
        "accuracy = accuracy_score(y_test, y_pred)\n",
        "print(f'Accuracy: {accuracy:.2f}')\n"
      ]
    },
    {
      "cell_type": "markdown",
      "source": [
        "## **4. Comparación de desempeño de modelos e hiperparámetros para clasificar el conjunto de datos Titanic**"
      ],
      "metadata": {
        "id": "u_a7a5np_t0i"
      }
    },
    {
      "cell_type": "markdown",
      "source": [
        "### **4.1 Carga y separación de datos**"
      ],
      "metadata": {
        "id": "EMXqPvgDAB7N"
      }
    },
    {
      "cell_type": "code",
      "source": [
        "# Load the Titanic dataset (replace the path with your actual file path)\n",
        "titanic_data = pd.read_csv('/content/titanic (1).csv')\n",
        "\n",
        "# Drop irrelevant columns\n",
        "titanic_data = titanic_data.drop(['PassengerId', 'Name', 'Ticket', 'Cabin'], axis=1)\n",
        "\n",
        "# Separate features and target variable\n",
        "X = titanic_data.drop('Survived', axis=1)\n",
        "y = titanic_data['Survived']\n",
        "\n",
        "# Split the dataset into training and testing sets\n",
        "X_train, X_test, y_train, y_test = train_test_split(X, y, test_size=0.2, random_state=42, stratify=y)\n",
        "\n"
      ],
      "metadata": {
        "id": "CrxL8Q1pAFt9"
      },
      "execution_count": 120,
      "outputs": []
    },
    {
      "cell_type": "markdown",
      "source": [
        "### **4.2 Definición de Pipeline para preprocesamiento de datos numéricos y categóricos**"
      ],
      "metadata": {
        "id": "mldzr5J3APz2"
      }
    },
    {
      "cell_type": "code",
      "source": [
        "# Define numerical and categorical features\n",
        "numerical_features = X.select_dtypes(include=['int64', 'float64']).columns\n",
        "categorical_features = X.select_dtypes(include=['object']).columns\n",
        "\n",
        "# Create preprocessing steps for numerical and categorical features\n",
        "numerical_transformer = Pipeline(steps=[\n",
        "    ('imputer', SimpleImputer(strategy='mean')),\n",
        "    ('scaler', MinMaxScaler())\n",
        "])\n",
        "\n",
        "categorical_transformer = Pipeline(steps=[\n",
        "    ('imputer', SimpleImputer(strategy='most_frequent')),\n",
        "    ('onehot', OneHotEncoder(handle_unknown='ignore'))\n",
        "])\n",
        "\n",
        "# Create column transformer to apply transformations to numerical and categorical columns\n",
        "preprocessor = ColumnTransformer(\n",
        "    transformers=[\n",
        "        ('num', numerical_transformer, numerical_features),\n",
        "        ('cat', categorical_transformer, categorical_features)\n",
        "    ])\n"
      ],
      "metadata": {
        "id": "y_gFlyHcAU9X"
      },
      "execution_count": 121,
      "outputs": []
    },
    {
      "cell_type": "markdown",
      "source": [
        "### **4.3 Instanciamiento de tres clasificadores**"
      ],
      "metadata": {
        "id": "7pz5PhuAAe5-"
      }
    },
    {
      "cell_type": "code",
      "source": [
        "# each of these models will take a turn as the second Pipeline step\n",
        "clf1 = CategoricalNB()\n",
        "clf2 = KNeighborsClassifier()\n",
        "clf3 = DecisionTreeClassifier()"
      ],
      "metadata": {
        "id": "LYoxITiGAlJw"
      },
      "execution_count": 122,
      "outputs": []
    },
    {
      "cell_type": "markdown",
      "source": [
        "### **4.4 Creación de Pipeline con preprocesamiento y clasificador**\n",
        "NOTA: Se deja un clasificador como *placeholder*, pero esto se sobreescribe con los parámetros definindos."
      ],
      "metadata": {
        "id": "pWtkgEnfAnCx"
      }
    },
    {
      "cell_type": "code",
      "source": [
        "# create the Pipeline\n",
        "pipe = Pipeline([('preprocessor', preprocessor), ('classifier', clf1)])"
      ],
      "metadata": {
        "id": "t8Sd9Hw-AzJ_"
      },
      "execution_count": 123,
      "outputs": []
    },
    {
      "cell_type": "markdown",
      "source": [
        "### **4.5 Se definen diccionarios de hyperparametros para cada modelo**"
      ],
      "metadata": {
        "id": "66rbbyQMA0gu"
      }
    },
    {
      "cell_type": "code",
      "source": [
        "\n",
        "# create the parameter dictionary for clf1\n",
        "params1 = {}\n",
        "params1['classifier__alpha'] = [1.0, 2.0]\n",
        "params1['classifier'] = [clf1]\n",
        "\n",
        "# create the parameter dictionary for clf2\n",
        "params2 = {}\n",
        "params2['classifier__n_neighbors'] =  [3, 5, 7]\n",
        "params2['classifier__weights'] = ['uniform', 'distance']\n",
        "params2['classifier'] = [clf2]\n",
        "\n",
        "# create the parameter dictionary for clf2\n",
        "params3 = {}\n",
        "params3['classifier__criterion'] = ['gini', 'entropy']\n",
        "params3['classifier__max_depth'] = [None, 5, 10, 15]\n",
        "params3['classifier'] = [clf3]\n"
      ],
      "metadata": {
        "id": "79cUQYDhA6cE"
      },
      "execution_count": 124,
      "outputs": []
    },
    {
      "cell_type": "markdown",
      "source": [
        "### **4.6 Creación de lista de diccionarios de parámetros**"
      ],
      "metadata": {
        "id": "MWyiEfn_A8ro"
      }
    },
    {
      "cell_type": "code",
      "source": [
        "# create a list of parameter dictionaries\n",
        "params = [params1, params2, params3]"
      ],
      "metadata": {
        "id": "hAVUmxw5BCDe"
      },
      "execution_count": 125,
      "outputs": []
    },
    {
      "cell_type": "markdown",
      "source": [
        "### **4.7 Busqueda de mejores modelos con *GridSearchCV***"
      ],
      "metadata": {
        "id": "3lOgcUwDBGOw"
      }
    },
    {
      "cell_type": "code",
      "source": [
        "# this will search every parameter combination within each dictionary\n",
        "grid = GridSearchCV(pipe, params)\n",
        "grid.fit(X_train, y_train)\n",
        "grid.best_params_\n",
        "print(grid.best_params_)"
      ],
      "metadata": {
        "colab": {
          "base_uri": "https://localhost:8080/"
        },
        "id": "MKAP5mfPBNIH",
        "outputId": "972ffcb3-d313-42db-d399-debb0661646e"
      },
      "execution_count": 126,
      "outputs": [
        {
          "output_type": "stream",
          "name": "stdout",
          "text": [
            "{'classifier': DecisionTreeClassifier(max_depth=5), 'classifier__criterion': 'gini', 'classifier__max_depth': 5}\n"
          ]
        }
      ]
    },
    {
      "cell_type": "markdown",
      "source": [
        "### **4.8 Acceso al mejor modelo y evaluación en conjunto de prueba**"
      ],
      "metadata": {
        "id": "-uFy3KkpBP6X"
      }
    },
    {
      "cell_type": "code",
      "source": [
        "# Access the best model (best estimator) directly\n",
        "best_model = grid.best_estimator_\n",
        "best_model_name = best_model.named_steps['classifier'].__class__.__name__\n",
        "# Now you can use the best_model for further analysis or evaluation\n",
        "best_predictions = best_model.predict(X_test)\n",
        "best_accuracy = accuracy_score(y_test, best_predictions)\n",
        "\n",
        "print(f\"Best Model Test Accuracy: {best_accuracy}\")\n",
        "\n",
        "print(f\"Best Model: {best_model_name}\")\n",
        "print(f\"Best Model parameters: {best_model['classifier'].get_params()}\")\n"
      ],
      "metadata": {
        "colab": {
          "base_uri": "https://localhost:8080/"
        },
        "id": "WlHRHdRzN_du",
        "outputId": "784b87a3-c4e7-484f-8a0d-3c23773ff463"
      },
      "execution_count": 127,
      "outputs": [
        {
          "output_type": "stream",
          "name": "stdout",
          "text": [
            "Best Model Test Accuracy: 0.7653631284916201\n",
            "Best Model: DecisionTreeClassifier\n",
            "Best Model parameters: {'ccp_alpha': 0.0, 'class_weight': None, 'criterion': 'gini', 'max_depth': 5, 'max_features': None, 'max_leaf_nodes': None, 'min_impurity_decrease': 0.0, 'min_samples_leaf': 1, 'min_samples_split': 2, 'min_weight_fraction_leaf': 0.0, 'random_state': None, 'splitter': 'best'}\n"
          ]
        }
      ]
    },
    {
      "cell_type": "markdown",
      "source": [
        "## **5. Ejercicio. Comparación de modelos con problema de regresión**\n",
        "- Se comparan los modelos de regresión de KNN y Decisión Tree para regresión.\n",
        "- Se usa el conjunto de datos Boston House\n",
        "- La variable a predecir es 'MEDV'\n",
        "- Crear un pipeline para transformación de columnas numéricas\n",
        "- Crear un pipeline con preprocesador y regresor (como placeholder)\n",
        "- Definir una lista de diccionario de parametros y regresores.\n",
        "- Encontrar el mejor modelo con GridSearchCV\n",
        "- Evaluar en el conjunto de prueba.\n",
        "\n",
        "NOTA: No olvidar hacer las importaciones y cambios necesarios para trabajar con el problema de regresión.\n",
        "\n",
        "-https://raw.githubusercontent.com/JoaquinAmatRodrigo/Estadistica-machine-learning-python/master/data/Boston.csv"
      ],
      "metadata": {
        "id": "vL3ofnZJBbr_"
      }
    },
    {
      "cell_type": "code",
      "source": [
        "from sklearn.tree import DecisionTreeRegressor\n",
        "from sklearn.neighbors import KNeighborsRegressor\n",
        "#Metrics\n",
        "from sklearn.metrics import r2_score"
      ],
      "metadata": {
        "id": "kzD6_1knlDlI"
      },
      "execution_count": 158,
      "outputs": []
    },
    {
      "cell_type": "code",
      "source": [
        "url = \"https://raw.githubusercontent.com/JoaquinAmatRodrigo/Estadistica-machine-learning-python/master/data/Boston.csv\"\n",
        "#column_names = ['CRIM', 'ZN', 'INDUS', 'CHAS','NOX', 'RM', 'AGE', 'DIS', 'RAD', 'RAX', 'PTRATIO', 'B', 'LSTAT', 'MEDV']\n",
        "#boston_data = pd.read_csv(url, names=column_names)\n",
        "\n",
        "boston_data = pd.read_csv(url)\n",
        "\n",
        "boston_data.head()\n",
        ""
      ],
      "metadata": {
        "id": "ndJjE6cNT5wM",
        "colab": {
          "base_uri": "https://localhost:8080/",
          "height": 206
        },
        "outputId": "a3853991-e691-48d4-f1fd-d8c449584686"
      },
      "execution_count": 128,
      "outputs": [
        {
          "output_type": "execute_result",
          "data": {
            "text/plain": [
              "      CRIM    ZN  INDUS  CHAS    NOX     RM   AGE     DIS  RAD  TAX  PTRATIO  \\\n",
              "0  0.00632  18.0   2.31     0  0.538  6.575  65.2  4.0900    1  296     15.3   \n",
              "1  0.02731   0.0   7.07     0  0.469  6.421  78.9  4.9671    2  242     17.8   \n",
              "2  0.02729   0.0   7.07     0  0.469  7.185  61.1  4.9671    2  242     17.8   \n",
              "3  0.03237   0.0   2.18     0  0.458  6.998  45.8  6.0622    3  222     18.7   \n",
              "4  0.06905   0.0   2.18     0  0.458  7.147  54.2  6.0622    3  222     18.7   \n",
              "\n",
              "   LSTAT  MEDV  \n",
              "0   4.98  24.0  \n",
              "1   9.14  21.6  \n",
              "2   4.03  34.7  \n",
              "3   2.94  33.4  \n",
              "4   5.33  36.2  "
            ],
            "text/html": [
              "\n",
              "  <div id=\"df-6e160b25-172d-4ec4-a27e-6e35d67f0ed9\" class=\"colab-df-container\">\n",
              "    <div>\n",
              "<style scoped>\n",
              "    .dataframe tbody tr th:only-of-type {\n",
              "        vertical-align: middle;\n",
              "    }\n",
              "\n",
              "    .dataframe tbody tr th {\n",
              "        vertical-align: top;\n",
              "    }\n",
              "\n",
              "    .dataframe thead th {\n",
              "        text-align: right;\n",
              "    }\n",
              "</style>\n",
              "<table border=\"1\" class=\"dataframe\">\n",
              "  <thead>\n",
              "    <tr style=\"text-align: right;\">\n",
              "      <th></th>\n",
              "      <th>CRIM</th>\n",
              "      <th>ZN</th>\n",
              "      <th>INDUS</th>\n",
              "      <th>CHAS</th>\n",
              "      <th>NOX</th>\n",
              "      <th>RM</th>\n",
              "      <th>AGE</th>\n",
              "      <th>DIS</th>\n",
              "      <th>RAD</th>\n",
              "      <th>TAX</th>\n",
              "      <th>PTRATIO</th>\n",
              "      <th>LSTAT</th>\n",
              "      <th>MEDV</th>\n",
              "    </tr>\n",
              "  </thead>\n",
              "  <tbody>\n",
              "    <tr>\n",
              "      <th>0</th>\n",
              "      <td>0.00632</td>\n",
              "      <td>18.0</td>\n",
              "      <td>2.31</td>\n",
              "      <td>0</td>\n",
              "      <td>0.538</td>\n",
              "      <td>6.575</td>\n",
              "      <td>65.2</td>\n",
              "      <td>4.0900</td>\n",
              "      <td>1</td>\n",
              "      <td>296</td>\n",
              "      <td>15.3</td>\n",
              "      <td>4.98</td>\n",
              "      <td>24.0</td>\n",
              "    </tr>\n",
              "    <tr>\n",
              "      <th>1</th>\n",
              "      <td>0.02731</td>\n",
              "      <td>0.0</td>\n",
              "      <td>7.07</td>\n",
              "      <td>0</td>\n",
              "      <td>0.469</td>\n",
              "      <td>6.421</td>\n",
              "      <td>78.9</td>\n",
              "      <td>4.9671</td>\n",
              "      <td>2</td>\n",
              "      <td>242</td>\n",
              "      <td>17.8</td>\n",
              "      <td>9.14</td>\n",
              "      <td>21.6</td>\n",
              "    </tr>\n",
              "    <tr>\n",
              "      <th>2</th>\n",
              "      <td>0.02729</td>\n",
              "      <td>0.0</td>\n",
              "      <td>7.07</td>\n",
              "      <td>0</td>\n",
              "      <td>0.469</td>\n",
              "      <td>7.185</td>\n",
              "      <td>61.1</td>\n",
              "      <td>4.9671</td>\n",
              "      <td>2</td>\n",
              "      <td>242</td>\n",
              "      <td>17.8</td>\n",
              "      <td>4.03</td>\n",
              "      <td>34.7</td>\n",
              "    </tr>\n",
              "    <tr>\n",
              "      <th>3</th>\n",
              "      <td>0.03237</td>\n",
              "      <td>0.0</td>\n",
              "      <td>2.18</td>\n",
              "      <td>0</td>\n",
              "      <td>0.458</td>\n",
              "      <td>6.998</td>\n",
              "      <td>45.8</td>\n",
              "      <td>6.0622</td>\n",
              "      <td>3</td>\n",
              "      <td>222</td>\n",
              "      <td>18.7</td>\n",
              "      <td>2.94</td>\n",
              "      <td>33.4</td>\n",
              "    </tr>\n",
              "    <tr>\n",
              "      <th>4</th>\n",
              "      <td>0.06905</td>\n",
              "      <td>0.0</td>\n",
              "      <td>2.18</td>\n",
              "      <td>0</td>\n",
              "      <td>0.458</td>\n",
              "      <td>7.147</td>\n",
              "      <td>54.2</td>\n",
              "      <td>6.0622</td>\n",
              "      <td>3</td>\n",
              "      <td>222</td>\n",
              "      <td>18.7</td>\n",
              "      <td>5.33</td>\n",
              "      <td>36.2</td>\n",
              "    </tr>\n",
              "  </tbody>\n",
              "</table>\n",
              "</div>\n",
              "    <div class=\"colab-df-buttons\">\n",
              "\n",
              "  <div class=\"colab-df-container\">\n",
              "    <button class=\"colab-df-convert\" onclick=\"convertToInteractive('df-6e160b25-172d-4ec4-a27e-6e35d67f0ed9')\"\n",
              "            title=\"Convert this dataframe to an interactive table.\"\n",
              "            style=\"display:none;\">\n",
              "\n",
              "  <svg xmlns=\"http://www.w3.org/2000/svg\" height=\"24px\" viewBox=\"0 -960 960 960\">\n",
              "    <path d=\"M120-120v-720h720v720H120Zm60-500h600v-160H180v160Zm220 220h160v-160H400v160Zm0 220h160v-160H400v160ZM180-400h160v-160H180v160Zm440 0h160v-160H620v160ZM180-180h160v-160H180v160Zm440 0h160v-160H620v160Z\"/>\n",
              "  </svg>\n",
              "    </button>\n",
              "\n",
              "  <style>\n",
              "    .colab-df-container {\n",
              "      display:flex;\n",
              "      gap: 12px;\n",
              "    }\n",
              "\n",
              "    .colab-df-convert {\n",
              "      background-color: #E8F0FE;\n",
              "      border: none;\n",
              "      border-radius: 50%;\n",
              "      cursor: pointer;\n",
              "      display: none;\n",
              "      fill: #1967D2;\n",
              "      height: 32px;\n",
              "      padding: 0 0 0 0;\n",
              "      width: 32px;\n",
              "    }\n",
              "\n",
              "    .colab-df-convert:hover {\n",
              "      background-color: #E2EBFA;\n",
              "      box-shadow: 0px 1px 2px rgba(60, 64, 67, 0.3), 0px 1px 3px 1px rgba(60, 64, 67, 0.15);\n",
              "      fill: #174EA6;\n",
              "    }\n",
              "\n",
              "    .colab-df-buttons div {\n",
              "      margin-bottom: 4px;\n",
              "    }\n",
              "\n",
              "    [theme=dark] .colab-df-convert {\n",
              "      background-color: #3B4455;\n",
              "      fill: #D2E3FC;\n",
              "    }\n",
              "\n",
              "    [theme=dark] .colab-df-convert:hover {\n",
              "      background-color: #434B5C;\n",
              "      box-shadow: 0px 1px 3px 1px rgba(0, 0, 0, 0.15);\n",
              "      filter: drop-shadow(0px 1px 2px rgba(0, 0, 0, 0.3));\n",
              "      fill: #FFFFFF;\n",
              "    }\n",
              "  </style>\n",
              "\n",
              "    <script>\n",
              "      const buttonEl =\n",
              "        document.querySelector('#df-6e160b25-172d-4ec4-a27e-6e35d67f0ed9 button.colab-df-convert');\n",
              "      buttonEl.style.display =\n",
              "        google.colab.kernel.accessAllowed ? 'block' : 'none';\n",
              "\n",
              "      async function convertToInteractive(key) {\n",
              "        const element = document.querySelector('#df-6e160b25-172d-4ec4-a27e-6e35d67f0ed9');\n",
              "        const dataTable =\n",
              "          await google.colab.kernel.invokeFunction('convertToInteractive',\n",
              "                                                    [key], {});\n",
              "        if (!dataTable) return;\n",
              "\n",
              "        const docLinkHtml = 'Like what you see? Visit the ' +\n",
              "          '<a target=\"_blank\" href=https://colab.research.google.com/notebooks/data_table.ipynb>data table notebook</a>'\n",
              "          + ' to learn more about interactive tables.';\n",
              "        element.innerHTML = '';\n",
              "        dataTable['output_type'] = 'display_data';\n",
              "        await google.colab.output.renderOutput(dataTable, element);\n",
              "        const docLink = document.createElement('div');\n",
              "        docLink.innerHTML = docLinkHtml;\n",
              "        element.appendChild(docLink);\n",
              "      }\n",
              "    </script>\n",
              "  </div>\n",
              "\n",
              "\n",
              "<div id=\"df-809c922e-1522-4e1a-9feb-244bdaa0e77a\">\n",
              "  <button class=\"colab-df-quickchart\" onclick=\"quickchart('df-809c922e-1522-4e1a-9feb-244bdaa0e77a')\"\n",
              "            title=\"Suggest charts\"\n",
              "            style=\"display:none;\">\n",
              "\n",
              "<svg xmlns=\"http://www.w3.org/2000/svg\" height=\"24px\"viewBox=\"0 0 24 24\"\n",
              "     width=\"24px\">\n",
              "    <g>\n",
              "        <path d=\"M19 3H5c-1.1 0-2 .9-2 2v14c0 1.1.9 2 2 2h14c1.1 0 2-.9 2-2V5c0-1.1-.9-2-2-2zM9 17H7v-7h2v7zm4 0h-2V7h2v10zm4 0h-2v-4h2v4z\"/>\n",
              "    </g>\n",
              "</svg>\n",
              "  </button>\n",
              "\n",
              "<style>\n",
              "  .colab-df-quickchart {\n",
              "      --bg-color: #E8F0FE;\n",
              "      --fill-color: #1967D2;\n",
              "      --hover-bg-color: #E2EBFA;\n",
              "      --hover-fill-color: #174EA6;\n",
              "      --disabled-fill-color: #AAA;\n",
              "      --disabled-bg-color: #DDD;\n",
              "  }\n",
              "\n",
              "  [theme=dark] .colab-df-quickchart {\n",
              "      --bg-color: #3B4455;\n",
              "      --fill-color: #D2E3FC;\n",
              "      --hover-bg-color: #434B5C;\n",
              "      --hover-fill-color: #FFFFFF;\n",
              "      --disabled-bg-color: #3B4455;\n",
              "      --disabled-fill-color: #666;\n",
              "  }\n",
              "\n",
              "  .colab-df-quickchart {\n",
              "    background-color: var(--bg-color);\n",
              "    border: none;\n",
              "    border-radius: 50%;\n",
              "    cursor: pointer;\n",
              "    display: none;\n",
              "    fill: var(--fill-color);\n",
              "    height: 32px;\n",
              "    padding: 0;\n",
              "    width: 32px;\n",
              "  }\n",
              "\n",
              "  .colab-df-quickchart:hover {\n",
              "    background-color: var(--hover-bg-color);\n",
              "    box-shadow: 0 1px 2px rgba(60, 64, 67, 0.3), 0 1px 3px 1px rgba(60, 64, 67, 0.15);\n",
              "    fill: var(--button-hover-fill-color);\n",
              "  }\n",
              "\n",
              "  .colab-df-quickchart-complete:disabled,\n",
              "  .colab-df-quickchart-complete:disabled:hover {\n",
              "    background-color: var(--disabled-bg-color);\n",
              "    fill: var(--disabled-fill-color);\n",
              "    box-shadow: none;\n",
              "  }\n",
              "\n",
              "  .colab-df-spinner {\n",
              "    border: 2px solid var(--fill-color);\n",
              "    border-color: transparent;\n",
              "    border-bottom-color: var(--fill-color);\n",
              "    animation:\n",
              "      spin 1s steps(1) infinite;\n",
              "  }\n",
              "\n",
              "  @keyframes spin {\n",
              "    0% {\n",
              "      border-color: transparent;\n",
              "      border-bottom-color: var(--fill-color);\n",
              "      border-left-color: var(--fill-color);\n",
              "    }\n",
              "    20% {\n",
              "      border-color: transparent;\n",
              "      border-left-color: var(--fill-color);\n",
              "      border-top-color: var(--fill-color);\n",
              "    }\n",
              "    30% {\n",
              "      border-color: transparent;\n",
              "      border-left-color: var(--fill-color);\n",
              "      border-top-color: var(--fill-color);\n",
              "      border-right-color: var(--fill-color);\n",
              "    }\n",
              "    40% {\n",
              "      border-color: transparent;\n",
              "      border-right-color: var(--fill-color);\n",
              "      border-top-color: var(--fill-color);\n",
              "    }\n",
              "    60% {\n",
              "      border-color: transparent;\n",
              "      border-right-color: var(--fill-color);\n",
              "    }\n",
              "    80% {\n",
              "      border-color: transparent;\n",
              "      border-right-color: var(--fill-color);\n",
              "      border-bottom-color: var(--fill-color);\n",
              "    }\n",
              "    90% {\n",
              "      border-color: transparent;\n",
              "      border-bottom-color: var(--fill-color);\n",
              "    }\n",
              "  }\n",
              "</style>\n",
              "\n",
              "  <script>\n",
              "    async function quickchart(key) {\n",
              "      const quickchartButtonEl =\n",
              "        document.querySelector('#' + key + ' button');\n",
              "      quickchartButtonEl.disabled = true;  // To prevent multiple clicks.\n",
              "      quickchartButtonEl.classList.add('colab-df-spinner');\n",
              "      try {\n",
              "        const charts = await google.colab.kernel.invokeFunction(\n",
              "            'suggestCharts', [key], {});\n",
              "      } catch (error) {\n",
              "        console.error('Error during call to suggestCharts:', error);\n",
              "      }\n",
              "      quickchartButtonEl.classList.remove('colab-df-spinner');\n",
              "      quickchartButtonEl.classList.add('colab-df-quickchart-complete');\n",
              "    }\n",
              "    (() => {\n",
              "      let quickchartButtonEl =\n",
              "        document.querySelector('#df-809c922e-1522-4e1a-9feb-244bdaa0e77a button');\n",
              "      quickchartButtonEl.style.display =\n",
              "        google.colab.kernel.accessAllowed ? 'block' : 'none';\n",
              "    })();\n",
              "  </script>\n",
              "</div>\n",
              "\n",
              "    </div>\n",
              "  </div>\n"
            ],
            "application/vnd.google.colaboratory.intrinsic+json": {
              "type": "dataframe",
              "variable_name": "boston_data",
              "summary": "{\n  \"name\": \"boston_data\",\n  \"rows\": 506,\n  \"fields\": [\n    {\n      \"column\": \"CRIM\",\n      \"properties\": {\n        \"dtype\": \"number\",\n        \"std\": 8.60154510533249,\n        \"min\": 0.00632,\n        \"max\": 88.9762,\n        \"samples\": [\n          0.09178,\n          0.05644,\n          0.10574\n        ],\n        \"num_unique_values\": 504,\n        \"semantic_type\": \"\",\n        \"description\": \"\"\n      }\n    },\n    {\n      \"column\": \"ZN\",\n      \"properties\": {\n        \"dtype\": \"number\",\n        \"std\": 23.32245299451514,\n        \"min\": 0.0,\n        \"max\": 100.0,\n        \"samples\": [\n          25.0,\n          30.0,\n          18.0\n        ],\n        \"num_unique_values\": 26,\n        \"semantic_type\": \"\",\n        \"description\": \"\"\n      }\n    },\n    {\n      \"column\": \"INDUS\",\n      \"properties\": {\n        \"dtype\": \"number\",\n        \"std\": 6.860352940897585,\n        \"min\": 0.46,\n        \"max\": 27.74,\n        \"samples\": [\n          8.14,\n          1.47,\n          1.22\n        ],\n        \"num_unique_values\": 76,\n        \"semantic_type\": \"\",\n        \"description\": \"\"\n      }\n    },\n    {\n      \"column\": \"CHAS\",\n      \"properties\": {\n        \"dtype\": \"number\",\n        \"std\": 0,\n        \"min\": 0,\n        \"max\": 1,\n        \"samples\": [\n          1,\n          0\n        ],\n        \"num_unique_values\": 2,\n        \"semantic_type\": \"\",\n        \"description\": \"\"\n      }\n    },\n    {\n      \"column\": \"NOX\",\n      \"properties\": {\n        \"dtype\": \"number\",\n        \"std\": 0.11587767566755595,\n        \"min\": 0.385,\n        \"max\": 0.871,\n        \"samples\": [\n          0.401,\n          0.538\n        ],\n        \"num_unique_values\": 81,\n        \"semantic_type\": \"\",\n        \"description\": \"\"\n      }\n    },\n    {\n      \"column\": \"RM\",\n      \"properties\": {\n        \"dtype\": \"number\",\n        \"std\": 0.7026171434153233,\n        \"min\": 3.561,\n        \"max\": 8.78,\n        \"samples\": [\n          6.849,\n          4.88\n        ],\n        \"num_unique_values\": 446,\n        \"semantic_type\": \"\",\n        \"description\": \"\"\n      }\n    },\n    {\n      \"column\": \"AGE\",\n      \"properties\": {\n        \"dtype\": \"number\",\n        \"std\": 28.148861406903617,\n        \"min\": 2.9,\n        \"max\": 100.0,\n        \"samples\": [\n          51.8,\n          33.8\n        ],\n        \"num_unique_values\": 356,\n        \"semantic_type\": \"\",\n        \"description\": \"\"\n      }\n    },\n    {\n      \"column\": \"DIS\",\n      \"properties\": {\n        \"dtype\": \"number\",\n        \"std\": 2.105710126627611,\n        \"min\": 1.1296,\n        \"max\": 12.1265,\n        \"samples\": [\n          2.2955,\n          4.2515\n        ],\n        \"num_unique_values\": 412,\n        \"semantic_type\": \"\",\n        \"description\": \"\"\n      }\n    },\n    {\n      \"column\": \"RAD\",\n      \"properties\": {\n        \"dtype\": \"number\",\n        \"std\": 8,\n        \"min\": 1,\n        \"max\": 24,\n        \"samples\": [\n          7,\n          2\n        ],\n        \"num_unique_values\": 9,\n        \"semantic_type\": \"\",\n        \"description\": \"\"\n      }\n    },\n    {\n      \"column\": \"TAX\",\n      \"properties\": {\n        \"dtype\": \"number\",\n        \"std\": 168,\n        \"min\": 187,\n        \"max\": 711,\n        \"samples\": [\n          370,\n          666\n        ],\n        \"num_unique_values\": 66,\n        \"semantic_type\": \"\",\n        \"description\": \"\"\n      }\n    },\n    {\n      \"column\": \"PTRATIO\",\n      \"properties\": {\n        \"dtype\": \"number\",\n        \"std\": 2.1649455237144406,\n        \"min\": 12.6,\n        \"max\": 22.0,\n        \"samples\": [\n          19.6,\n          15.6\n        ],\n        \"num_unique_values\": 46,\n        \"semantic_type\": \"\",\n        \"description\": \"\"\n      }\n    },\n    {\n      \"column\": \"LSTAT\",\n      \"properties\": {\n        \"dtype\": \"number\",\n        \"std\": 7.141061511348571,\n        \"min\": 1.73,\n        \"max\": 37.97,\n        \"samples\": [\n          6.15,\n          4.32\n        ],\n        \"num_unique_values\": 455,\n        \"semantic_type\": \"\",\n        \"description\": \"\"\n      }\n    },\n    {\n      \"column\": \"MEDV\",\n      \"properties\": {\n        \"dtype\": \"number\",\n        \"std\": 9.197104087379818,\n        \"min\": 5.0,\n        \"max\": 50.0,\n        \"samples\": [\n          14.1,\n          22.5\n        ],\n        \"num_unique_values\": 229,\n        \"semantic_type\": \"\",\n        \"description\": \"\"\n      }\n    }\n  ]\n}"
            }
          },
          "metadata": {},
          "execution_count": 128
        }
      ]
    },
    {
      "cell_type": "code",
      "source": [
        "# Select features and target variable\n",
        "X = boston_data[['CRIM', 'ZN', 'INDUS', 'CHAS', 'NOX', 'RM', 'AGE', 'DIS', 'RAD', 'TAX', 'PTRATIO', 'LSTAT']]\n",
        "y = boston_data['MEDV']\n",
        "X.describe()\n",
        ""
      ],
      "metadata": {
        "colab": {
          "base_uri": "https://localhost:8080/",
          "height": 300
        },
        "id": "wOU2vrX5kjZ_",
        "outputId": "ac085486-98fd-4739-8eb5-cb47d6952c34"
      },
      "execution_count": 129,
      "outputs": [
        {
          "output_type": "execute_result",
          "data": {
            "text/plain": [
              "             CRIM          ZN       INDUS        CHAS         NOX          RM  \\\n",
              "count  506.000000  506.000000  506.000000  506.000000  506.000000  506.000000   \n",
              "mean     3.613524   11.363636   11.136779    0.069170    0.554695    6.284634   \n",
              "std      8.601545   23.322453    6.860353    0.253994    0.115878    0.702617   \n",
              "min      0.006320    0.000000    0.460000    0.000000    0.385000    3.561000   \n",
              "25%      0.082045    0.000000    5.190000    0.000000    0.449000    5.885500   \n",
              "50%      0.256510    0.000000    9.690000    0.000000    0.538000    6.208500   \n",
              "75%      3.677083   12.500000   18.100000    0.000000    0.624000    6.623500   \n",
              "max     88.976200  100.000000   27.740000    1.000000    0.871000    8.780000   \n",
              "\n",
              "              AGE         DIS         RAD         TAX     PTRATIO       LSTAT  \n",
              "count  506.000000  506.000000  506.000000  506.000000  506.000000  506.000000  \n",
              "mean    68.574901    3.795043    9.549407  408.237154   18.455534   12.653063  \n",
              "std     28.148861    2.105710    8.707259  168.537116    2.164946    7.141062  \n",
              "min      2.900000    1.129600    1.000000  187.000000   12.600000    1.730000  \n",
              "25%     45.025000    2.100175    4.000000  279.000000   17.400000    6.950000  \n",
              "50%     77.500000    3.207450    5.000000  330.000000   19.050000   11.360000  \n",
              "75%     94.075000    5.188425   24.000000  666.000000   20.200000   16.955000  \n",
              "max    100.000000   12.126500   24.000000  711.000000   22.000000   37.970000  "
            ],
            "text/html": [
              "\n",
              "  <div id=\"df-13bbb58e-a6c6-4b50-9626-35c0683593f4\" class=\"colab-df-container\">\n",
              "    <div>\n",
              "<style scoped>\n",
              "    .dataframe tbody tr th:only-of-type {\n",
              "        vertical-align: middle;\n",
              "    }\n",
              "\n",
              "    .dataframe tbody tr th {\n",
              "        vertical-align: top;\n",
              "    }\n",
              "\n",
              "    .dataframe thead th {\n",
              "        text-align: right;\n",
              "    }\n",
              "</style>\n",
              "<table border=\"1\" class=\"dataframe\">\n",
              "  <thead>\n",
              "    <tr style=\"text-align: right;\">\n",
              "      <th></th>\n",
              "      <th>CRIM</th>\n",
              "      <th>ZN</th>\n",
              "      <th>INDUS</th>\n",
              "      <th>CHAS</th>\n",
              "      <th>NOX</th>\n",
              "      <th>RM</th>\n",
              "      <th>AGE</th>\n",
              "      <th>DIS</th>\n",
              "      <th>RAD</th>\n",
              "      <th>TAX</th>\n",
              "      <th>PTRATIO</th>\n",
              "      <th>LSTAT</th>\n",
              "    </tr>\n",
              "  </thead>\n",
              "  <tbody>\n",
              "    <tr>\n",
              "      <th>count</th>\n",
              "      <td>506.000000</td>\n",
              "      <td>506.000000</td>\n",
              "      <td>506.000000</td>\n",
              "      <td>506.000000</td>\n",
              "      <td>506.000000</td>\n",
              "      <td>506.000000</td>\n",
              "      <td>506.000000</td>\n",
              "      <td>506.000000</td>\n",
              "      <td>506.000000</td>\n",
              "      <td>506.000000</td>\n",
              "      <td>506.000000</td>\n",
              "      <td>506.000000</td>\n",
              "    </tr>\n",
              "    <tr>\n",
              "      <th>mean</th>\n",
              "      <td>3.613524</td>\n",
              "      <td>11.363636</td>\n",
              "      <td>11.136779</td>\n",
              "      <td>0.069170</td>\n",
              "      <td>0.554695</td>\n",
              "      <td>6.284634</td>\n",
              "      <td>68.574901</td>\n",
              "      <td>3.795043</td>\n",
              "      <td>9.549407</td>\n",
              "      <td>408.237154</td>\n",
              "      <td>18.455534</td>\n",
              "      <td>12.653063</td>\n",
              "    </tr>\n",
              "    <tr>\n",
              "      <th>std</th>\n",
              "      <td>8.601545</td>\n",
              "      <td>23.322453</td>\n",
              "      <td>6.860353</td>\n",
              "      <td>0.253994</td>\n",
              "      <td>0.115878</td>\n",
              "      <td>0.702617</td>\n",
              "      <td>28.148861</td>\n",
              "      <td>2.105710</td>\n",
              "      <td>8.707259</td>\n",
              "      <td>168.537116</td>\n",
              "      <td>2.164946</td>\n",
              "      <td>7.141062</td>\n",
              "    </tr>\n",
              "    <tr>\n",
              "      <th>min</th>\n",
              "      <td>0.006320</td>\n",
              "      <td>0.000000</td>\n",
              "      <td>0.460000</td>\n",
              "      <td>0.000000</td>\n",
              "      <td>0.385000</td>\n",
              "      <td>3.561000</td>\n",
              "      <td>2.900000</td>\n",
              "      <td>1.129600</td>\n",
              "      <td>1.000000</td>\n",
              "      <td>187.000000</td>\n",
              "      <td>12.600000</td>\n",
              "      <td>1.730000</td>\n",
              "    </tr>\n",
              "    <tr>\n",
              "      <th>25%</th>\n",
              "      <td>0.082045</td>\n",
              "      <td>0.000000</td>\n",
              "      <td>5.190000</td>\n",
              "      <td>0.000000</td>\n",
              "      <td>0.449000</td>\n",
              "      <td>5.885500</td>\n",
              "      <td>45.025000</td>\n",
              "      <td>2.100175</td>\n",
              "      <td>4.000000</td>\n",
              "      <td>279.000000</td>\n",
              "      <td>17.400000</td>\n",
              "      <td>6.950000</td>\n",
              "    </tr>\n",
              "    <tr>\n",
              "      <th>50%</th>\n",
              "      <td>0.256510</td>\n",
              "      <td>0.000000</td>\n",
              "      <td>9.690000</td>\n",
              "      <td>0.000000</td>\n",
              "      <td>0.538000</td>\n",
              "      <td>6.208500</td>\n",
              "      <td>77.500000</td>\n",
              "      <td>3.207450</td>\n",
              "      <td>5.000000</td>\n",
              "      <td>330.000000</td>\n",
              "      <td>19.050000</td>\n",
              "      <td>11.360000</td>\n",
              "    </tr>\n",
              "    <tr>\n",
              "      <th>75%</th>\n",
              "      <td>3.677083</td>\n",
              "      <td>12.500000</td>\n",
              "      <td>18.100000</td>\n",
              "      <td>0.000000</td>\n",
              "      <td>0.624000</td>\n",
              "      <td>6.623500</td>\n",
              "      <td>94.075000</td>\n",
              "      <td>5.188425</td>\n",
              "      <td>24.000000</td>\n",
              "      <td>666.000000</td>\n",
              "      <td>20.200000</td>\n",
              "      <td>16.955000</td>\n",
              "    </tr>\n",
              "    <tr>\n",
              "      <th>max</th>\n",
              "      <td>88.976200</td>\n",
              "      <td>100.000000</td>\n",
              "      <td>27.740000</td>\n",
              "      <td>1.000000</td>\n",
              "      <td>0.871000</td>\n",
              "      <td>8.780000</td>\n",
              "      <td>100.000000</td>\n",
              "      <td>12.126500</td>\n",
              "      <td>24.000000</td>\n",
              "      <td>711.000000</td>\n",
              "      <td>22.000000</td>\n",
              "      <td>37.970000</td>\n",
              "    </tr>\n",
              "  </tbody>\n",
              "</table>\n",
              "</div>\n",
              "    <div class=\"colab-df-buttons\">\n",
              "\n",
              "  <div class=\"colab-df-container\">\n",
              "    <button class=\"colab-df-convert\" onclick=\"convertToInteractive('df-13bbb58e-a6c6-4b50-9626-35c0683593f4')\"\n",
              "            title=\"Convert this dataframe to an interactive table.\"\n",
              "            style=\"display:none;\">\n",
              "\n",
              "  <svg xmlns=\"http://www.w3.org/2000/svg\" height=\"24px\" viewBox=\"0 -960 960 960\">\n",
              "    <path d=\"M120-120v-720h720v720H120Zm60-500h600v-160H180v160Zm220 220h160v-160H400v160Zm0 220h160v-160H400v160ZM180-400h160v-160H180v160Zm440 0h160v-160H620v160ZM180-180h160v-160H180v160Zm440 0h160v-160H620v160Z\"/>\n",
              "  </svg>\n",
              "    </button>\n",
              "\n",
              "  <style>\n",
              "    .colab-df-container {\n",
              "      display:flex;\n",
              "      gap: 12px;\n",
              "    }\n",
              "\n",
              "    .colab-df-convert {\n",
              "      background-color: #E8F0FE;\n",
              "      border: none;\n",
              "      border-radius: 50%;\n",
              "      cursor: pointer;\n",
              "      display: none;\n",
              "      fill: #1967D2;\n",
              "      height: 32px;\n",
              "      padding: 0 0 0 0;\n",
              "      width: 32px;\n",
              "    }\n",
              "\n",
              "    .colab-df-convert:hover {\n",
              "      background-color: #E2EBFA;\n",
              "      box-shadow: 0px 1px 2px rgba(60, 64, 67, 0.3), 0px 1px 3px 1px rgba(60, 64, 67, 0.15);\n",
              "      fill: #174EA6;\n",
              "    }\n",
              "\n",
              "    .colab-df-buttons div {\n",
              "      margin-bottom: 4px;\n",
              "    }\n",
              "\n",
              "    [theme=dark] .colab-df-convert {\n",
              "      background-color: #3B4455;\n",
              "      fill: #D2E3FC;\n",
              "    }\n",
              "\n",
              "    [theme=dark] .colab-df-convert:hover {\n",
              "      background-color: #434B5C;\n",
              "      box-shadow: 0px 1px 3px 1px rgba(0, 0, 0, 0.15);\n",
              "      filter: drop-shadow(0px 1px 2px rgba(0, 0, 0, 0.3));\n",
              "      fill: #FFFFFF;\n",
              "    }\n",
              "  </style>\n",
              "\n",
              "    <script>\n",
              "      const buttonEl =\n",
              "        document.querySelector('#df-13bbb58e-a6c6-4b50-9626-35c0683593f4 button.colab-df-convert');\n",
              "      buttonEl.style.display =\n",
              "        google.colab.kernel.accessAllowed ? 'block' : 'none';\n",
              "\n",
              "      async function convertToInteractive(key) {\n",
              "        const element = document.querySelector('#df-13bbb58e-a6c6-4b50-9626-35c0683593f4');\n",
              "        const dataTable =\n",
              "          await google.colab.kernel.invokeFunction('convertToInteractive',\n",
              "                                                    [key], {});\n",
              "        if (!dataTable) return;\n",
              "\n",
              "        const docLinkHtml = 'Like what you see? Visit the ' +\n",
              "          '<a target=\"_blank\" href=https://colab.research.google.com/notebooks/data_table.ipynb>data table notebook</a>'\n",
              "          + ' to learn more about interactive tables.';\n",
              "        element.innerHTML = '';\n",
              "        dataTable['output_type'] = 'display_data';\n",
              "        await google.colab.output.renderOutput(dataTable, element);\n",
              "        const docLink = document.createElement('div');\n",
              "        docLink.innerHTML = docLinkHtml;\n",
              "        element.appendChild(docLink);\n",
              "      }\n",
              "    </script>\n",
              "  </div>\n",
              "\n",
              "\n",
              "<div id=\"df-6cc1da92-f7ce-48f2-bad9-0fbcc24ca9d8\">\n",
              "  <button class=\"colab-df-quickchart\" onclick=\"quickchart('df-6cc1da92-f7ce-48f2-bad9-0fbcc24ca9d8')\"\n",
              "            title=\"Suggest charts\"\n",
              "            style=\"display:none;\">\n",
              "\n",
              "<svg xmlns=\"http://www.w3.org/2000/svg\" height=\"24px\"viewBox=\"0 0 24 24\"\n",
              "     width=\"24px\">\n",
              "    <g>\n",
              "        <path d=\"M19 3H5c-1.1 0-2 .9-2 2v14c0 1.1.9 2 2 2h14c1.1 0 2-.9 2-2V5c0-1.1-.9-2-2-2zM9 17H7v-7h2v7zm4 0h-2V7h2v10zm4 0h-2v-4h2v4z\"/>\n",
              "    </g>\n",
              "</svg>\n",
              "  </button>\n",
              "\n",
              "<style>\n",
              "  .colab-df-quickchart {\n",
              "      --bg-color: #E8F0FE;\n",
              "      --fill-color: #1967D2;\n",
              "      --hover-bg-color: #E2EBFA;\n",
              "      --hover-fill-color: #174EA6;\n",
              "      --disabled-fill-color: #AAA;\n",
              "      --disabled-bg-color: #DDD;\n",
              "  }\n",
              "\n",
              "  [theme=dark] .colab-df-quickchart {\n",
              "      --bg-color: #3B4455;\n",
              "      --fill-color: #D2E3FC;\n",
              "      --hover-bg-color: #434B5C;\n",
              "      --hover-fill-color: #FFFFFF;\n",
              "      --disabled-bg-color: #3B4455;\n",
              "      --disabled-fill-color: #666;\n",
              "  }\n",
              "\n",
              "  .colab-df-quickchart {\n",
              "    background-color: var(--bg-color);\n",
              "    border: none;\n",
              "    border-radius: 50%;\n",
              "    cursor: pointer;\n",
              "    display: none;\n",
              "    fill: var(--fill-color);\n",
              "    height: 32px;\n",
              "    padding: 0;\n",
              "    width: 32px;\n",
              "  }\n",
              "\n",
              "  .colab-df-quickchart:hover {\n",
              "    background-color: var(--hover-bg-color);\n",
              "    box-shadow: 0 1px 2px rgba(60, 64, 67, 0.3), 0 1px 3px 1px rgba(60, 64, 67, 0.15);\n",
              "    fill: var(--button-hover-fill-color);\n",
              "  }\n",
              "\n",
              "  .colab-df-quickchart-complete:disabled,\n",
              "  .colab-df-quickchart-complete:disabled:hover {\n",
              "    background-color: var(--disabled-bg-color);\n",
              "    fill: var(--disabled-fill-color);\n",
              "    box-shadow: none;\n",
              "  }\n",
              "\n",
              "  .colab-df-spinner {\n",
              "    border: 2px solid var(--fill-color);\n",
              "    border-color: transparent;\n",
              "    border-bottom-color: var(--fill-color);\n",
              "    animation:\n",
              "      spin 1s steps(1) infinite;\n",
              "  }\n",
              "\n",
              "  @keyframes spin {\n",
              "    0% {\n",
              "      border-color: transparent;\n",
              "      border-bottom-color: var(--fill-color);\n",
              "      border-left-color: var(--fill-color);\n",
              "    }\n",
              "    20% {\n",
              "      border-color: transparent;\n",
              "      border-left-color: var(--fill-color);\n",
              "      border-top-color: var(--fill-color);\n",
              "    }\n",
              "    30% {\n",
              "      border-color: transparent;\n",
              "      border-left-color: var(--fill-color);\n",
              "      border-top-color: var(--fill-color);\n",
              "      border-right-color: var(--fill-color);\n",
              "    }\n",
              "    40% {\n",
              "      border-color: transparent;\n",
              "      border-right-color: var(--fill-color);\n",
              "      border-top-color: var(--fill-color);\n",
              "    }\n",
              "    60% {\n",
              "      border-color: transparent;\n",
              "      border-right-color: var(--fill-color);\n",
              "    }\n",
              "    80% {\n",
              "      border-color: transparent;\n",
              "      border-right-color: var(--fill-color);\n",
              "      border-bottom-color: var(--fill-color);\n",
              "    }\n",
              "    90% {\n",
              "      border-color: transparent;\n",
              "      border-bottom-color: var(--fill-color);\n",
              "    }\n",
              "  }\n",
              "</style>\n",
              "\n",
              "  <script>\n",
              "    async function quickchart(key) {\n",
              "      const quickchartButtonEl =\n",
              "        document.querySelector('#' + key + ' button');\n",
              "      quickchartButtonEl.disabled = true;  // To prevent multiple clicks.\n",
              "      quickchartButtonEl.classList.add('colab-df-spinner');\n",
              "      try {\n",
              "        const charts = await google.colab.kernel.invokeFunction(\n",
              "            'suggestCharts', [key], {});\n",
              "      } catch (error) {\n",
              "        console.error('Error during call to suggestCharts:', error);\n",
              "      }\n",
              "      quickchartButtonEl.classList.remove('colab-df-spinner');\n",
              "      quickchartButtonEl.classList.add('colab-df-quickchart-complete');\n",
              "    }\n",
              "    (() => {\n",
              "      let quickchartButtonEl =\n",
              "        document.querySelector('#df-6cc1da92-f7ce-48f2-bad9-0fbcc24ca9d8 button');\n",
              "      quickchartButtonEl.style.display =\n",
              "        google.colab.kernel.accessAllowed ? 'block' : 'none';\n",
              "    })();\n",
              "  </script>\n",
              "</div>\n",
              "\n",
              "    </div>\n",
              "  </div>\n"
            ],
            "application/vnd.google.colaboratory.intrinsic+json": {
              "type": "dataframe",
              "summary": "{\n  \"name\": \"X\",\n  \"rows\": 8,\n  \"fields\": [\n    {\n      \"column\": \"CRIM\",\n      \"properties\": {\n        \"dtype\": \"number\",\n        \"std\": 176.21241273856964,\n        \"min\": 0.00632,\n        \"max\": 506.0,\n        \"samples\": [\n          3.613523557312254,\n          0.25651,\n          506.0\n        ],\n        \"num_unique_values\": 8,\n        \"semantic_type\": \"\",\n        \"description\": \"\"\n      }\n    },\n    {\n      \"column\": \"ZN\",\n      \"properties\": {\n        \"dtype\": \"number\",\n        \"std\": 174.65631992520622,\n        \"min\": 0.0,\n        \"max\": 506.0,\n        \"samples\": [\n          506.0,\n          11.363636363636363,\n          100.0\n        ],\n        \"num_unique_values\": 6,\n        \"semantic_type\": \"\",\n        \"description\": \"\"\n      }\n    },\n    {\n      \"column\": \"INDUS\",\n      \"properties\": {\n        \"dtype\": \"number\",\n        \"std\": 175.10046881853455,\n        \"min\": 0.46,\n        \"max\": 506.0,\n        \"samples\": [\n          11.13677865612648,\n          9.69,\n          506.0\n        ],\n        \"num_unique_values\": 8,\n        \"semantic_type\": \"\",\n        \"description\": \"\"\n      }\n    },\n    {\n      \"column\": \"CHAS\",\n      \"properties\": {\n        \"dtype\": \"number\",\n        \"std\": 178.83151296515905,\n        \"min\": 0.0,\n        \"max\": 506.0,\n        \"samples\": [\n          0.0691699604743083,\n          1.0,\n          0.25399404134041037\n        ],\n        \"num_unique_values\": 5,\n        \"semantic_type\": \"\",\n        \"description\": \"\"\n      }\n    },\n    {\n      \"column\": \"NOX\",\n      \"properties\": {\n        \"dtype\": \"number\",\n        \"std\": 178.71946937975397,\n        \"min\": 0.11587767566755595,\n        \"max\": 506.0,\n        \"samples\": [\n          0.5546950592885376,\n          0.538,\n          506.0\n        ],\n        \"num_unique_values\": 8,\n        \"semantic_type\": \"\",\n        \"description\": \"\"\n      }\n    },\n    {\n      \"column\": \"RM\",\n      \"properties\": {\n        \"dtype\": \"number\",\n        \"std\": 176.99257138815915,\n        \"min\": 0.7026171434153233,\n        \"max\": 506.0,\n        \"samples\": [\n          6.284634387351779,\n          6.2085,\n          506.0\n        ],\n        \"num_unique_values\": 8,\n        \"semantic_type\": \"\",\n        \"description\": \"\"\n      }\n    },\n    {\n      \"column\": \"AGE\",\n      \"properties\": {\n        \"dtype\": \"number\",\n        \"std\": 161.29423343904304,\n        \"min\": 2.9,\n        \"max\": 506.0,\n        \"samples\": [\n          68.57490118577076,\n          77.5,\n          506.0\n        ],\n        \"num_unique_values\": 8,\n        \"semantic_type\": \"\",\n        \"description\": \"\"\n      }\n    },\n    {\n      \"column\": \"DIS\",\n      \"properties\": {\n        \"dtype\": \"number\",\n        \"std\": 177.4338019618181,\n        \"min\": 1.1296,\n        \"max\": 506.0,\n        \"samples\": [\n          3.795042687747036,\n          3.2074499999999997,\n          506.0\n        ],\n        \"num_unique_values\": 8,\n        \"semantic_type\": \"\",\n        \"description\": \"\"\n      }\n    },\n    {\n      \"column\": \"RAD\",\n      \"properties\": {\n        \"dtype\": \"number\",\n        \"std\": 175.26272292595036,\n        \"min\": 1.0,\n        \"max\": 506.0,\n        \"samples\": [\n          506.0,\n          9.549407114624506,\n          5.0\n        ],\n        \"num_unique_values\": 7,\n        \"semantic_type\": \"\",\n        \"description\": \"\"\n      }\n    },\n    {\n      \"column\": \"TAX\",\n      \"properties\": {\n        \"dtype\": \"number\",\n        \"std\": 205.93933614417858,\n        \"min\": 168.53711605495903,\n        \"max\": 711.0,\n        \"samples\": [\n          408.2371541501976,\n          330.0,\n          506.0\n        ],\n        \"num_unique_values\": 8,\n        \"semantic_type\": \"\",\n        \"description\": \"\"\n      }\n    },\n    {\n      \"column\": \"PTRATIO\",\n      \"properties\": {\n        \"dtype\": \"number\",\n        \"std\": 173.36059244426346,\n        \"min\": 2.1649455237144406,\n        \"max\": 506.0,\n        \"samples\": [\n          18.455533596837945,\n          19.05,\n          506.0\n        ],\n        \"num_unique_values\": 8,\n        \"semantic_type\": \"\",\n        \"description\": \"\"\n      }\n    },\n    {\n      \"column\": \"LSTAT\",\n      \"properties\": {\n        \"dtype\": \"number\",\n        \"std\": 174.45535325169888,\n        \"min\": 1.73,\n        \"max\": 506.0,\n        \"samples\": [\n          12.653063241106722,\n          11.36,\n          506.0\n        ],\n        \"num_unique_values\": 8,\n        \"semantic_type\": \"\",\n        \"description\": \"\"\n      }\n    }\n  ]\n}"
            }
          },
          "metadata": {},
          "execution_count": 129
        }
      ]
    },
    {
      "cell_type": "code",
      "source": [
        "rows_with_nan = X[X.isna().any(axis=1)]\n",
        "print(\"Rows with NaN values:\\n\", rows_with_nan)"
      ],
      "metadata": {
        "colab": {
          "base_uri": "https://localhost:8080/"
        },
        "id": "9ZXfu_a9kpA_",
        "outputId": "1dba1af9-860d-4666-cb10-a141a8f52475"
      },
      "execution_count": 130,
      "outputs": [
        {
          "output_type": "stream",
          "name": "stdout",
          "text": [
            "Rows with NaN values:\n",
            " Empty DataFrame\n",
            "Columns: [CRIM, ZN, INDUS, CHAS, NOX, RM, AGE, DIS, RAD, TAX, PTRATIO, LSTAT]\n",
            "Index: []\n"
          ]
        }
      ]
    },
    {
      "cell_type": "code",
      "source": [],
      "metadata": {
        "id": "w1x7wOc-k22a"
      },
      "execution_count": null,
      "outputs": []
    },
    {
      "cell_type": "code",
      "source": [
        "# Split the data into training and testing sets using stratified split\n",
        "X_train, X_test, y_train, y_test = train_test_split(X, y, test_size=0.2, random_state=42)"
      ],
      "metadata": {
        "id": "NOnU3cshkssw"
      },
      "execution_count": 131,
      "outputs": []
    },
    {
      "cell_type": "code",
      "source": [
        "# Define numerical and categorical features\n",
        "numerical_features = X.select_dtypes(include=['float64']).columns\n",
        "categorical_features = X.select_dtypes(include=['int64']).columns\n",
        "\n",
        "# Create preprocessing steps for numerical and categorical features\n",
        "numerical_transformer = Pipeline(steps=[\n",
        "    ('imputer', SimpleImputer(strategy='mean')),\n",
        "    ('scaler', StandardScaler())\n",
        "])\n",
        "\n",
        "categorical_transformer = Pipeline(steps=[\n",
        "    ('imputer', SimpleImputer(strategy='most_frequent')),\n",
        "    ('onehot', OneHotEncoder(handle_unknown='ignore'))\n",
        "])\n",
        "\n",
        "# Create column transformer to apply transformations to numerical and categorical columns\n",
        "preprocessor = ColumnTransformer(\n",
        "    transformers=[\n",
        "        ('num', numerical_transformer, numerical_features),\n",
        "        ('cat', categorical_transformer, categorical_features)\n",
        "    ])\n",
        ""
      ],
      "metadata": {
        "id": "fH4uIA3ek3eV"
      },
      "execution_count": 135,
      "outputs": []
    },
    {
      "cell_type": "code",
      "source": [
        "# each of these models will take a turn as the second Pipeline step\n",
        "rg1 = DecisionTreeRegressor()\n",
        "rg2 = KNeighborsRegressor()"
      ],
      "metadata": {
        "id": "7GPIoGMHmJTd"
      },
      "execution_count": 145,
      "outputs": []
    },
    {
      "cell_type": "code",
      "source": [
        "# create the Pipeline\n",
        "pipe = Pipeline([('preprocessor', preprocessor), ('regressor', rg1)])"
      ],
      "metadata": {
        "id": "vDxvRdH6mCXi"
      },
      "execution_count": 146,
      "outputs": []
    },
    {
      "cell_type": "code",
      "source": [
        "\n",
        "# create the parameter dictionary for clf1\n",
        "params1 = {}\n",
        "#params1['classifier__alpha'] = [1.0, 2.0]\n",
        "params1['regressor__criterion'] = ['squared_error','absolute_error','friedman_mse', 'poisson']\n",
        "params1['regressor__max_depth'] = [None, 5, 10, 15, 20]\n",
        "params1['regressor__min_samples_split'] = [2, 5, 10]\n",
        "params1['regressor__min_samples_leaf']= [ 1, 2, 4,8]\n",
        "params1['regressor'] = [rg1]\n",
        "\n",
        "# create the parameter dictionary for clf2\n",
        "params2 = {}\n",
        "params2['regressor__n_neighbors'] =  [3, 5, 7]\n",
        "params2['regressor__weights'] = ['uniform', 'distance']\n",
        "params2['regressor'] = [rg2]"
      ],
      "metadata": {
        "id": "6Ail-1Dvmdzb"
      },
      "execution_count": 153,
      "outputs": []
    },
    {
      "cell_type": "code",
      "source": [
        "# create a list of parameter dictionaries\n",
        "params = [params1, params2]"
      ],
      "metadata": {
        "id": "QFpmkcN8n1K_"
      },
      "execution_count": 154,
      "outputs": []
    },
    {
      "cell_type": "code",
      "source": [
        "# this will search every parameter combination within each dictionary\n",
        "grid = GridSearchCV(pipe, params,scoring='neg_mean_squared_error', error_score='raise')\n",
        "grid.fit(X_train, y_train)\n",
        "grid.best_params_\n",
        "print(grid.best_params_)"
      ],
      "metadata": {
        "colab": {
          "base_uri": "https://localhost:8080/"
        },
        "id": "ZLFiC4TLn7_I",
        "outputId": "1a009b4d-aed2-44a8-9633-1bc4662e6c37"
      },
      "execution_count": 155,
      "outputs": [
        {
          "output_type": "stream",
          "name": "stdout",
          "text": [
            "{'regressor': KNeighborsRegressor(n_neighbors=3, weights='distance'), 'regressor__n_neighbors': 3, 'regressor__weights': 'distance'}\n"
          ]
        }
      ]
    },
    {
      "cell_type": "code",
      "source": [
        "# Access the best model (best estimator) directly\n",
        "best_model = grid.best_estimator_\n",
        "best_model_name = best_model.named_steps['regressor'].__class__.__name__\n",
        "# Now you can use the best_model for further analysis or evaluation\n",
        "best_predictions = best_model.predict(X_test)\n",
        "best_accuracy = r2_score(y_test, best_predictions)\n",
        "\n",
        "print(f\"Best Model Test Accuracy: {best_accuracy}\")\n",
        "\n",
        "print(f\"Best Model: {best_model_name}\")\n",
        "print(f\"Best Model parameters: {best_model['regressor'].get_params()}\")"
      ],
      "metadata": {
        "colab": {
          "base_uri": "https://localhost:8080/"
        },
        "id": "M7waiZZroKWF",
        "outputId": "9f3ad3a6-76e3-4abc-d427-14142c829896"
      },
      "execution_count": 159,
      "outputs": [
        {
          "output_type": "stream",
          "name": "stdout",
          "text": [
            "Best Model Test Accuracy: 0.772119714397104\n",
            "Best Model: KNeighborsRegressor\n",
            "Best Model parameters: {'algorithm': 'auto', 'leaf_size': 30, 'metric': 'minkowski', 'metric_params': None, 'n_jobs': None, 'n_neighbors': 3, 'p': 2, 'weights': 'distance'}\n"
          ]
        }
      ]
    }
  ],
  "metadata": {
    "kernelspec": {
      "display_name": "Python 3.9.12 ('base')",
      "language": "python",
      "name": "python3"
    },
    "language_info": {
      "codemirror_mode": {
        "name": "ipython",
        "version": 3
      },
      "file_extension": ".py",
      "mimetype": "text/x-python",
      "name": "python",
      "nbconvert_exporter": "python",
      "pygments_lexer": "ipython3",
      "version": "3.9.12"
    },
    "vscode": {
      "interpreter": {
        "hash": "807f89556be232cec2a18d9223a5637cebf4bf294ef4691a50d73d3ccaece48f"
      }
    },
    "colab": {
      "provenance": [],
      "include_colab_link": true
    }
  },
  "nbformat": 4,
  "nbformat_minor": 0
}