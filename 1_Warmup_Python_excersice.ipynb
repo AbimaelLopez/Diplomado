{
  "nbformat": 4,
  "nbformat_minor": 0,
  "metadata": {
    "colab": {
      "provenance": [],
      "include_colab_link": true
    },
    "kernelspec": {
      "name": "python3",
      "display_name": "Python 3"
    },
    "language_info": {
      "name": "python"
    }
  },
  "cells": [
    {
      "cell_type": "markdown",
      "metadata": {
        "id": "view-in-github",
        "colab_type": "text"
      },
      "source": [
        "<a href=\"https://colab.research.google.com/github/AbimaelLopez/Diplomado/blob/main/1_Warmup_Python_excersice.ipynb\" target=\"_parent\"><img src=\"https://colab.research.google.com/assets/colab-badge.svg\" alt=\"Open In Colab\"/></a>"
      ]
    },
    {
      "cell_type": "markdown",
      "source": [
        "# 1 Práctica Muestreo simple y estratificado<br>\n",
        "\n",
        "### Objetivo\n",
        "Que la o el estudiante conozca cómo usar bibliotecas de Python (numpy, pandas, matplotlib) para muestrear una población y conocer la diferencia en muestro simple y estratificado.\n",
        "\n",
        "### Descripción del procedimiento a seguir\n",
        "- Se carga el conjunto de datos \"GenderData.csv\" (que fue creado sintéticamente para esta práctica) <br>\n",
        "- Se explora el contenido del conjunto de datos y se identifican los tipos de datos.\n",
        "- Se explora visualmente graficando la cantidad de Males and Females.\n",
        "- Se obtiene una muestra simple y se explora visualmente la cantidad de Males and Females.\n",
        "- Se obtiene una muestra estratificada y se explora visualmente la cantidad de Males and Females.\n",
        "- No olvides responder las preguntas en los puntos 3 y 7.\n",
        "- Haz el ejercicio con los datos del Titanic\n",
        "\n",
        "\n",
        "**Profesora**: Dra. Jessica Beltrán Márquez<br>\n",
        "Maestría en Ciencia de Datos y Optimización<br>\n",
        "Universidad Autónoma de Coahuila\n",
        "\n",
        "### Bibliografía\n",
        "\n",
        "1. https://pandas.pydata.org/\n",
        "2. https://numpy.org/]\n",
        "3. https://matplotlib.org/\n",
        "4. https://www.kaggle.com/competitions/titanic/data"
      ],
      "metadata": {
        "id": "8t7UZjVPrvov"
      }
    },
    {
      "cell_type": "code",
      "source": [],
      "metadata": {
        "id": "SFX6oYhHWtsu"
      },
      "execution_count": null,
      "outputs": []
    },
    {
      "cell_type": "markdown",
      "source": [
        "### 1. Importar bibliotecas\n",
        "Para esta práctica se utilizan las bibliotecas: <br>\n",
        "Pandas [https://pandas.pydata.org/] que nos permite manipular datos para su análisis. <br>\n",
        "Numpy [https://numpy.org/] para la semilla de números aleatorios <br>\n",
        "Matploblib [https://matplotlib.org/] que nos permite generar gráficas. <br>"
      ],
      "metadata": {
        "id": "zqbQoW0Kr6f8"
      }
    },
    {
      "cell_type": "code",
      "source": [
        "import pandas as pd\n",
        "import matplotlib.pyplot as plt\n",
        "import numpy as np"
      ],
      "metadata": {
        "id": "kMd_7PXzr4XI"
      },
      "execution_count": null,
      "outputs": []
    },
    {
      "cell_type": "markdown",
      "source": [
        "### 2. Carga de datos\n",
        "- Se utiliza la función \"read_csv()\" de Pandas para cargar el archivo \"GenderData.csv\" y almacenarlo en la variable \"df\"<br>\n",
        "NOTA: Este archivo debe estar en forma local en tu computadora. Si estas usando \"colab\" entonces debe estar en tu \"google drive\".\n",
        "\n",
        "- Se utiliza la función \"head(10)\" para ver los primeros 10 renglones de la matriz de datos."
      ],
      "metadata": {
        "id": "PzRwM95hr-0F"
      }
    },
    {
      "cell_type": "code",
      "source": [
        "df = pd.read_csv('/content/GenderData.csv')\n",
        "df.head(10)"
      ],
      "metadata": {
        "id": "6sBUAoqrsA5V",
        "outputId": "2e217909-fd61-4233-e107-b6d82ab9b4c3",
        "colab": {
          "base_uri": "https://localhost:8080/",
          "height": 363
        }
      },
      "execution_count": null,
      "outputs": [
        {
          "output_type": "execute_result",
          "data": {
            "text/plain": [
              "   ID  Gender  Age\n",
              "0   1  Female   34\n",
              "1   2  Female   29\n",
              "2   3    Male   30\n",
              "3   4  Female   27\n",
              "4   5  Female   22\n",
              "5   6  Female   30\n",
              "6   7    Male   24\n",
              "7   8  Female   28\n",
              "8   9    Male   34\n",
              "9  10    Male   35"
            ],
            "text/html": [
              "\n",
              "  <div id=\"df-693a2d0e-8149-4e9d-b135-788c7b5b97a0\" class=\"colab-df-container\">\n",
              "    <div>\n",
              "<style scoped>\n",
              "    .dataframe tbody tr th:only-of-type {\n",
              "        vertical-align: middle;\n",
              "    }\n",
              "\n",
              "    .dataframe tbody tr th {\n",
              "        vertical-align: top;\n",
              "    }\n",
              "\n",
              "    .dataframe thead th {\n",
              "        text-align: right;\n",
              "    }\n",
              "</style>\n",
              "<table border=\"1\" class=\"dataframe\">\n",
              "  <thead>\n",
              "    <tr style=\"text-align: right;\">\n",
              "      <th></th>\n",
              "      <th>ID</th>\n",
              "      <th>Gender</th>\n",
              "      <th>Age</th>\n",
              "    </tr>\n",
              "  </thead>\n",
              "  <tbody>\n",
              "    <tr>\n",
              "      <th>0</th>\n",
              "      <td>1</td>\n",
              "      <td>Female</td>\n",
              "      <td>34</td>\n",
              "    </tr>\n",
              "    <tr>\n",
              "      <th>1</th>\n",
              "      <td>2</td>\n",
              "      <td>Female</td>\n",
              "      <td>29</td>\n",
              "    </tr>\n",
              "    <tr>\n",
              "      <th>2</th>\n",
              "      <td>3</td>\n",
              "      <td>Male</td>\n",
              "      <td>30</td>\n",
              "    </tr>\n",
              "    <tr>\n",
              "      <th>3</th>\n",
              "      <td>4</td>\n",
              "      <td>Female</td>\n",
              "      <td>27</td>\n",
              "    </tr>\n",
              "    <tr>\n",
              "      <th>4</th>\n",
              "      <td>5</td>\n",
              "      <td>Female</td>\n",
              "      <td>22</td>\n",
              "    </tr>\n",
              "    <tr>\n",
              "      <th>5</th>\n",
              "      <td>6</td>\n",
              "      <td>Female</td>\n",
              "      <td>30</td>\n",
              "    </tr>\n",
              "    <tr>\n",
              "      <th>6</th>\n",
              "      <td>7</td>\n",
              "      <td>Male</td>\n",
              "      <td>24</td>\n",
              "    </tr>\n",
              "    <tr>\n",
              "      <th>7</th>\n",
              "      <td>8</td>\n",
              "      <td>Female</td>\n",
              "      <td>28</td>\n",
              "    </tr>\n",
              "    <tr>\n",
              "      <th>8</th>\n",
              "      <td>9</td>\n",
              "      <td>Male</td>\n",
              "      <td>34</td>\n",
              "    </tr>\n",
              "    <tr>\n",
              "      <th>9</th>\n",
              "      <td>10</td>\n",
              "      <td>Male</td>\n",
              "      <td>35</td>\n",
              "    </tr>\n",
              "  </tbody>\n",
              "</table>\n",
              "</div>\n",
              "    <div class=\"colab-df-buttons\">\n",
              "\n",
              "  <div class=\"colab-df-container\">\n",
              "    <button class=\"colab-df-convert\" onclick=\"convertToInteractive('df-693a2d0e-8149-4e9d-b135-788c7b5b97a0')\"\n",
              "            title=\"Convert this dataframe to an interactive table.\"\n",
              "            style=\"display:none;\">\n",
              "\n",
              "  <svg xmlns=\"http://www.w3.org/2000/svg\" height=\"24px\" viewBox=\"0 -960 960 960\">\n",
              "    <path d=\"M120-120v-720h720v720H120Zm60-500h600v-160H180v160Zm220 220h160v-160H400v160Zm0 220h160v-160H400v160ZM180-400h160v-160H180v160Zm440 0h160v-160H620v160ZM180-180h160v-160H180v160Zm440 0h160v-160H620v160Z\"/>\n",
              "  </svg>\n",
              "    </button>\n",
              "\n",
              "  <style>\n",
              "    .colab-df-container {\n",
              "      display:flex;\n",
              "      gap: 12px;\n",
              "    }\n",
              "\n",
              "    .colab-df-convert {\n",
              "      background-color: #E8F0FE;\n",
              "      border: none;\n",
              "      border-radius: 50%;\n",
              "      cursor: pointer;\n",
              "      display: none;\n",
              "      fill: #1967D2;\n",
              "      height: 32px;\n",
              "      padding: 0 0 0 0;\n",
              "      width: 32px;\n",
              "    }\n",
              "\n",
              "    .colab-df-convert:hover {\n",
              "      background-color: #E2EBFA;\n",
              "      box-shadow: 0px 1px 2px rgba(60, 64, 67, 0.3), 0px 1px 3px 1px rgba(60, 64, 67, 0.15);\n",
              "      fill: #174EA6;\n",
              "    }\n",
              "\n",
              "    .colab-df-buttons div {\n",
              "      margin-bottom: 4px;\n",
              "    }\n",
              "\n",
              "    [theme=dark] .colab-df-convert {\n",
              "      background-color: #3B4455;\n",
              "      fill: #D2E3FC;\n",
              "    }\n",
              "\n",
              "    [theme=dark] .colab-df-convert:hover {\n",
              "      background-color: #434B5C;\n",
              "      box-shadow: 0px 1px 3px 1px rgba(0, 0, 0, 0.15);\n",
              "      filter: drop-shadow(0px 1px 2px rgba(0, 0, 0, 0.3));\n",
              "      fill: #FFFFFF;\n",
              "    }\n",
              "  </style>\n",
              "\n",
              "    <script>\n",
              "      const buttonEl =\n",
              "        document.querySelector('#df-693a2d0e-8149-4e9d-b135-788c7b5b97a0 button.colab-df-convert');\n",
              "      buttonEl.style.display =\n",
              "        google.colab.kernel.accessAllowed ? 'block' : 'none';\n",
              "\n",
              "      async function convertToInteractive(key) {\n",
              "        const element = document.querySelector('#df-693a2d0e-8149-4e9d-b135-788c7b5b97a0');\n",
              "        const dataTable =\n",
              "          await google.colab.kernel.invokeFunction('convertToInteractive',\n",
              "                                                    [key], {});\n",
              "        if (!dataTable) return;\n",
              "\n",
              "        const docLinkHtml = 'Like what you see? Visit the ' +\n",
              "          '<a target=\"_blank\" href=https://colab.research.google.com/notebooks/data_table.ipynb>data table notebook</a>'\n",
              "          + ' to learn more about interactive tables.';\n",
              "        element.innerHTML = '';\n",
              "        dataTable['output_type'] = 'display_data';\n",
              "        await google.colab.output.renderOutput(dataTable, element);\n",
              "        const docLink = document.createElement('div');\n",
              "        docLink.innerHTML = docLinkHtml;\n",
              "        element.appendChild(docLink);\n",
              "      }\n",
              "    </script>\n",
              "  </div>\n",
              "\n",
              "\n",
              "<div id=\"df-3828a76f-40cc-428c-b4d5-e74e25bc01de\">\n",
              "  <button class=\"colab-df-quickchart\" onclick=\"quickchart('df-3828a76f-40cc-428c-b4d5-e74e25bc01de')\"\n",
              "            title=\"Suggest charts\"\n",
              "            style=\"display:none;\">\n",
              "\n",
              "<svg xmlns=\"http://www.w3.org/2000/svg\" height=\"24px\"viewBox=\"0 0 24 24\"\n",
              "     width=\"24px\">\n",
              "    <g>\n",
              "        <path d=\"M19 3H5c-1.1 0-2 .9-2 2v14c0 1.1.9 2 2 2h14c1.1 0 2-.9 2-2V5c0-1.1-.9-2-2-2zM9 17H7v-7h2v7zm4 0h-2V7h2v10zm4 0h-2v-4h2v4z\"/>\n",
              "    </g>\n",
              "</svg>\n",
              "  </button>\n",
              "\n",
              "<style>\n",
              "  .colab-df-quickchart {\n",
              "      --bg-color: #E8F0FE;\n",
              "      --fill-color: #1967D2;\n",
              "      --hover-bg-color: #E2EBFA;\n",
              "      --hover-fill-color: #174EA6;\n",
              "      --disabled-fill-color: #AAA;\n",
              "      --disabled-bg-color: #DDD;\n",
              "  }\n",
              "\n",
              "  [theme=dark] .colab-df-quickchart {\n",
              "      --bg-color: #3B4455;\n",
              "      --fill-color: #D2E3FC;\n",
              "      --hover-bg-color: #434B5C;\n",
              "      --hover-fill-color: #FFFFFF;\n",
              "      --disabled-bg-color: #3B4455;\n",
              "      --disabled-fill-color: #666;\n",
              "  }\n",
              "\n",
              "  .colab-df-quickchart {\n",
              "    background-color: var(--bg-color);\n",
              "    border: none;\n",
              "    border-radius: 50%;\n",
              "    cursor: pointer;\n",
              "    display: none;\n",
              "    fill: var(--fill-color);\n",
              "    height: 32px;\n",
              "    padding: 0;\n",
              "    width: 32px;\n",
              "  }\n",
              "\n",
              "  .colab-df-quickchart:hover {\n",
              "    background-color: var(--hover-bg-color);\n",
              "    box-shadow: 0 1px 2px rgba(60, 64, 67, 0.3), 0 1px 3px 1px rgba(60, 64, 67, 0.15);\n",
              "    fill: var(--button-hover-fill-color);\n",
              "  }\n",
              "\n",
              "  .colab-df-quickchart-complete:disabled,\n",
              "  .colab-df-quickchart-complete:disabled:hover {\n",
              "    background-color: var(--disabled-bg-color);\n",
              "    fill: var(--disabled-fill-color);\n",
              "    box-shadow: none;\n",
              "  }\n",
              "\n",
              "  .colab-df-spinner {\n",
              "    border: 2px solid var(--fill-color);\n",
              "    border-color: transparent;\n",
              "    border-bottom-color: var(--fill-color);\n",
              "    animation:\n",
              "      spin 1s steps(1) infinite;\n",
              "  }\n",
              "\n",
              "  @keyframes spin {\n",
              "    0% {\n",
              "      border-color: transparent;\n",
              "      border-bottom-color: var(--fill-color);\n",
              "      border-left-color: var(--fill-color);\n",
              "    }\n",
              "    20% {\n",
              "      border-color: transparent;\n",
              "      border-left-color: var(--fill-color);\n",
              "      border-top-color: var(--fill-color);\n",
              "    }\n",
              "    30% {\n",
              "      border-color: transparent;\n",
              "      border-left-color: var(--fill-color);\n",
              "      border-top-color: var(--fill-color);\n",
              "      border-right-color: var(--fill-color);\n",
              "    }\n",
              "    40% {\n",
              "      border-color: transparent;\n",
              "      border-right-color: var(--fill-color);\n",
              "      border-top-color: var(--fill-color);\n",
              "    }\n",
              "    60% {\n",
              "      border-color: transparent;\n",
              "      border-right-color: var(--fill-color);\n",
              "    }\n",
              "    80% {\n",
              "      border-color: transparent;\n",
              "      border-right-color: var(--fill-color);\n",
              "      border-bottom-color: var(--fill-color);\n",
              "    }\n",
              "    90% {\n",
              "      border-color: transparent;\n",
              "      border-bottom-color: var(--fill-color);\n",
              "    }\n",
              "  }\n",
              "</style>\n",
              "\n",
              "  <script>\n",
              "    async function quickchart(key) {\n",
              "      const quickchartButtonEl =\n",
              "        document.querySelector('#' + key + ' button');\n",
              "      quickchartButtonEl.disabled = true;  // To prevent multiple clicks.\n",
              "      quickchartButtonEl.classList.add('colab-df-spinner');\n",
              "      try {\n",
              "        const charts = await google.colab.kernel.invokeFunction(\n",
              "            'suggestCharts', [key], {});\n",
              "      } catch (error) {\n",
              "        console.error('Error during call to suggestCharts:', error);\n",
              "      }\n",
              "      quickchartButtonEl.classList.remove('colab-df-spinner');\n",
              "      quickchartButtonEl.classList.add('colab-df-quickchart-complete');\n",
              "    }\n",
              "    (() => {\n",
              "      let quickchartButtonEl =\n",
              "        document.querySelector('#df-3828a76f-40cc-428c-b4d5-e74e25bc01de button');\n",
              "      quickchartButtonEl.style.display =\n",
              "        google.colab.kernel.accessAllowed ? 'block' : 'none';\n",
              "    })();\n",
              "  </script>\n",
              "</div>\n",
              "\n",
              "    </div>\n",
              "  </div>\n"
            ]
          },
          "metadata": {},
          "execution_count": 2
        }
      ]
    },
    {
      "cell_type": "markdown",
      "source": [
        "### 3. Identificación de tipos de datos\n",
        "- Como se observa en la tabla anterior, el conjunto de datos posee varias columnas. Algunas columnas contienen números, otras contienen texto.\n",
        "- La o el estudiante debe analizar a que tipo de dato corresponde cada una de las variables del conjunto de datos: Categórica (Nominal, Ordinal), Numérica (Continua, Discreta).\n",
        "- Nos auxiliamos de la función \"dtypes\" que nos indica el tipo de dato de cada una de las variables."
      ],
      "metadata": {
        "id": "6mJotgh5sCjr"
      }
    },
    {
      "cell_type": "code",
      "source": [
        "df.dtypes"
      ],
      "metadata": {
        "id": "VLWnDWNCsIpH",
        "outputId": "73c7fd53-707b-4f0d-c782-b7a561a78461",
        "colab": {
          "base_uri": "https://localhost:8080/"
        }
      },
      "execution_count": null,
      "outputs": [
        {
          "output_type": "execute_result",
          "data": {
            "text/plain": [
              "ID         int64\n",
              "Gender    object\n",
              "Age        int64\n",
              "dtype: object"
            ]
          },
          "metadata": {},
          "execution_count": 8
        }
      ]
    },
    {
      "cell_type": "markdown",
      "source": [
        "**Anota aqui los tipos de datos de las siguientes columnas:** <br>\n",
        "Id:    <br>\n",
        "Gender:   <br>\n",
        "Age:   <br>\n"
      ],
      "metadata": {
        "id": "QV8Z2-pdsJvR"
      }
    },
    {
      "cell_type": "markdown",
      "source": [
        "### 4. Exploración visual usando gráfica de barras\n",
        "- Se genera una función que grafica en barras la cantidad de hombres (males) y mujeres (females) del conjunto de datos.\n",
        "- Se utiliza el método value_counts() para contar la frecuencia de los valores únicos en una Serie.\n",
        "- Posteriormente se manda llamar la función con el dataframe con los datos y se genera la gráfica."
      ],
      "metadata": {
        "id": "Pe87DjHGsMd7"
      }
    },
    {
      "cell_type": "code",
      "source": [
        "def plot_gender_distribution(dataframe):\n",
        "    # Plot the number of males and females\n",
        "    gender_counts = dataframe['Gender'].value_counts()\n",
        "    plt.bar(gender_counts.index, gender_counts.values, color=['blue', 'pink'])\n",
        "    plt.xlabel('Gender')\n",
        "    plt.ylabel('Count')\n",
        "    plt.title('Number of Males and Females')\n",
        "    plt.show()"
      ],
      "metadata": {
        "id": "AkL3qVhJsOUg"
      },
      "execution_count": null,
      "outputs": []
    },
    {
      "cell_type": "code",
      "source": [
        "plot_gender_distribution(df)"
      ],
      "metadata": {
        "id": "n8t3aij4sQFp",
        "outputId": "f65f74e3-b7a6-40ec-e8d5-460c0766991b",
        "colab": {
          "base_uri": "https://localhost:8080/",
          "height": 472
        }
      },
      "execution_count": null,
      "outputs": [
        {
          "output_type": "display_data",
          "data": {
            "text/plain": [
              "<Figure size 640x480 with 1 Axes>"
            ],
            "image/png": "[encoded data removed]"
          },
          "metadata": {}
        }
      ]
    },
    {
      "cell_type": "markdown",
      "source": [
        "### 5. Muestreo simple\n",
        "- Se utiliza la función *random.seed* para inicializar el generador de números pseudoaleatorios en el módulo y tener reproducibilidad.\n",
        "- Se utiliza el método *sample* de pandas para realizar un muestreo aleatorio de las filas de un DataFrame."
      ],
      "metadata": {
        "id": "TOZqu7pVsSD5"
      }
    },
    {
      "cell_type": "code",
      "source": [
        "# Se pone una semilla para la reproducibilidad\n",
        "np.random.seed(42)\n",
        "\n",
        "# Se especifica el número de muestras a obtener\n",
        "num_samples_to_obtain = 50\n",
        "\n",
        "# Se realiza un muestreo simple\n",
        "random_sample = df.sample(n=num_samples_to_obtain)\n",
        "\n",
        "# Se imprime la muestra obtenida\n",
        "print(random_sample)\n",
        "\n",
        "#Se muestra la gráfica de barras con la cantidad de personas en cada género\n",
        "plot_gender_distribution(random_sample)"
      ],
      "metadata": {
        "id": "4f_mhOEBsTkZ",
        "outputId": "670c81cc-b9ec-420a-e6fb-ca62371af14f",
        "colab": {
          "base_uri": "https://localhost:8080/",
          "height": 1000
        }
      },
      "execution_count": null,
      "outputs": [
        {
          "output_type": "stream",
          "name": "stdout",
          "text": [
            "      ID  Gender  Age\n",
            "521  522    Male   31\n",
            "737  738  Female   31\n",
            "740  741  Female   32\n",
            "660  661  Female   29\n",
            "411  412  Female   30\n",
            "678  679    Male   29\n",
            "626  627    Male   24\n",
            "513  514  Female   28\n",
            "859  860  Female   27\n",
            "136  137  Female   34\n",
            "811  812  Female   24\n",
            "76    77  Female   34\n",
            "636  637    Male   26\n",
            "973  974  Female   35\n",
            "938  939    Male   31\n",
            "899  900    Male   34\n",
            "280  281  Female   33\n",
            "883  884  Female   23\n",
            "761  762  Female   29\n",
            "319  320    Male   30\n",
            "549  550    Male   23\n",
            "174  175  Female   23\n",
            "371  372    Male   27\n",
            "527  528  Female   25\n",
            "210  211  Female   32\n",
            "235  236    Male   28\n",
            "101  102  Female   28\n",
            "986  987  Female   32\n",
            "902  903  Female   25\n",
            "947  948  Female   24\n",
            "346  347  Female   23\n",
            "139  140  Female   21\n",
            "621  622  Female   23\n",
            "499  500  Female   25\n",
            "370  371    Male   28\n",
            "198  199  Female   33\n",
            "687  688    Male   27\n",
            "584  585  Female   31\n",
            "901  902  Female   35\n",
            "59    60    Male   28\n",
            "328  329  Female   28\n",
            "96    97  Female   36\n",
            "312  313    Male   30\n",
            "974  975  Female   32\n",
            "299  300  Female   25\n",
            "277  278  Female   25\n",
            "924  925  Female   20\n",
            "601  602    Male   19\n",
            "439  440  Female   37\n",
            "837  838    Male   24\n"
          ]
        },
        {
          "output_type": "display_data",
          "data": {
            "text/plain": [
              "<Figure size 640x480 with 1 Axes>"
            ],
            "image/png": "[encoded data removed]"
          },
          "metadata": {}
        }
      ]
    },
    {
      "cell_type": "markdown",
      "source": [
        "### 6. Muestreo estratificado\n",
        "Además de los métodos usados en el muestreo simple, aquí: <br>\n",
        "- Se utiliza el método *groupby* para dividir un DataFrame en grupos basados en algunos criterios, aplicar una función a cada grupo de manera independiente y luego combinar los resultados en un nuevo DataFrame.\n",
        "- La función que se aplica a cada función se pasa como parámetro a *apply*."
      ],
      "metadata": {
        "id": "w9txDPuVsXef"
      }
    },
    {
      "cell_type": "code",
      "source": [
        "# Se pone una semilla para la reproducibilidad\n",
        "np.random.seed(42)\n",
        "\n",
        "# Se especifica el número de muestras por género\n",
        "num_samples_per_gender = 25\n",
        "\n",
        "#Se define una función para obtener una muestra estratificada por cada género\n",
        "def stratified_sample(group):\n",
        "    return group.sample(n=num_samples_per_gender)\n",
        "\n",
        "#Se realiza el muestreo estratificado basado en 'Gender'\n",
        "stratified_sample = df.groupby('Gender', group_keys=False, sort=False).apply(stratified_sample)\n",
        "\n",
        "# Display the stratified sample\n",
        "# Se imprime la muestra obtenida\n",
        "print(stratified_sample)\n",
        "\n",
        "#Se muestra la gráfica de barras con la cantidad de personas en cada género\n",
        "plot_gender_distribution(stratified_sample)"
      ],
      "metadata": {
        "id": "F3nMRKsjsVG6",
        "outputId": "aac81d32-3b5a-40f4-e0e3-3f48acc50304",
        "colab": {
          "base_uri": "https://localhost:8080/",
          "height": 1000
        }
      },
      "execution_count": null,
      "outputs": [
        {
          "output_type": "stream",
          "name": "stdout",
          "text": [
            "      ID  Gender  Age\n",
            "324  325  Female   32\n",
            "402  403  Female   37\n",
            "796  797  Female   23\n",
            "799  800  Female   32\n",
            "309  310  Female   28\n",
            "513  514  Female   28\n",
            "178  179  Female   31\n",
            "487  488  Female   30\n",
            "671  672  Female   25\n",
            "957  958  Female   37\n",
            "585  586  Female   33\n",
            "306  307  Female   21\n",
            "3      4  Female   27\n",
            "133  134  Female   25\n",
            "939  940  Female   44\n",
            "60    61  Female   27\n",
            "482  483  Female   30\n",
            "608  609  Female   31\n",
            "485  486  Female   28\n",
            "749  750  Female   30\n",
            "200  201  Female   29\n",
            "494  495  Female   33\n",
            "116  117  Female   35\n",
            "145  146  Female   29\n",
            "181  182  Female   27\n",
            "478  479    Male   34\n",
            "108  109    Male   21\n",
            "497  498    Male   28\n",
            "33    34    Male   23\n",
            "321  322    Male   28\n",
            "259  260    Male   31\n",
            "894  895    Male   32\n",
            "612  613    Male   33\n",
            "969  970    Male   26\n",
            "567  568    Male   19\n",
            "808  809    Male   36\n",
            "681  682    Male   39\n",
            "507  508    Male   29\n",
            "725  726    Male   32\n",
            "634  635    Male   28\n",
            "636  637    Male   26\n",
            "53    54    Male   29\n",
            "502  503    Male   24\n",
            "227  228    Male   30\n",
            "782  783    Male   22\n",
            "474  475    Male   27\n",
            "312  313    Male   30\n",
            "430  431    Male   29\n",
            "664  665    Male   28\n",
            "298  299    Male   32\n"
          ]
        },
        {
          "output_type": "display_data",
          "data": {
            "text/plain": [
              "<Figure size 640x480 with 1 Axes>"
            ],
            "image/png": "[encoded data removed]"
          },
          "metadata": {}
        }
      ]
    },
    {
      "cell_type": "markdown",
      "source": [
        "### 7. Responde lo siguiente: <br>\n",
        "¿Qué diferencias tienen los conjuntos de datos muestreados en cada uno de los casos?"
      ],
      "metadata": {
        "id": "PaDKiU2esbj_"
      }
    },
    {
      "cell_type": "markdown",
      "source": [
        "Descarga el conjunto de datos *train* del Titanic [https://www.kaggle.com/competitions/titanic/data] <br>\n",
        "- Identifica los tipos de datos de todas las columnas: Categórica (Nominal, Ordinal), Numérica (Continua, Discreta).\n",
        "- Obtén una muestra simple de 20 personas y obtén una gráfica de barras con los conteos de si sobrevivió o no.\n",
        "- Obtén una muestra estratificada con 10 personas de cada grupo de si sobrevivió o no y obtén una gráfica de barras.\n"
      ],
      "metadata": {
        "id": "2vOvgqyRsdqn"
      }
    },
    {
      "cell_type": "code",
      "source": [
        "!pip install kaggle"
      ],
      "metadata": {
        "id": "zX3alKSesNbM",
        "outputId": "13c3089a-f13f-4ef4-a7df-8384f9e7c5cb",
        "colab": {
          "base_uri": "https://localhost:8080/"
        }
      },
      "execution_count": null,
      "outputs": [
        {
          "output_type": "stream",
          "name": "stdout",
          "text": [
            "Requirement already satisfied: kaggle in /usr/local/lib/python3.10/dist-packages (1.5.16)\n",
            "Requirement already satisfied: six>=1.10 in /usr/local/lib/python3.10/dist-packages (from kaggle) (1.16.0)\n",
            "Requirement already satisfied: certifi in /usr/local/lib/python3.10/dist-packages (from kaggle) (2023.11.17)\n",
            "Requirement already satisfied: python-dateutil in /usr/local/lib/python3.10/dist-packages (from kaggle) (2.8.2)\n",
            "Requirement already satisfied: requests in /usr/local/lib/python3.10/dist-packages (from kaggle) (2.31.0)\n",
            "Requirement already satisfied: tqdm in /usr/local/lib/python3.10/dist-packages (from kaggle) (4.66.1)\n",
            "Requirement already satisfied: python-slugify in /usr/local/lib/python3.10/dist-packages (from kaggle) (8.0.1)\n",
            "Requirement already satisfied: urllib3 in /usr/local/lib/python3.10/dist-packages (from kaggle) (2.0.7)\n",
            "Requirement already satisfied: bleach in /usr/local/lib/python3.10/dist-packages (from kaggle) (6.1.0)\n",
            "Requirement already satisfied: webencodings in /usr/local/lib/python3.10/dist-packages (from bleach->kaggle) (0.5.1)\n",
            "Requirement already satisfied: text-unidecode>=1.3 in /usr/local/lib/python3.10/dist-packages (from python-slugify->kaggle) (1.3)\n",
            "Requirement already satisfied: charset-normalizer<4,>=2 in /usr/local/lib/python3.10/dist-packages (from requests->kaggle) (3.3.2)\n",
            "Requirement already satisfied: idna<4,>=2.5 in /usr/local/lib/python3.10/dist-packages (from requests->kaggle) (3.6)\n"
          ]
        }
      ]
    },
    {
      "cell_type": "code",
      "source": [
        "df = pd.read_csv('/content/train.csv')\n",
        "df.dtypes\n",
        "df['Survived'].replace(0,'Valioquesito',inplace=True)\n",
        "df['Survived'].replace(1,'Sobrevivio',inplace=True)"
      ],
      "metadata": {
        "id": "4qLewFSIyaQ3"
      },
      "execution_count": null,
      "outputs": []
    },
    {
      "cell_type": "code",
      "source": [
        "def plot_gender_distribution(dataframe):\n",
        "    # Plot the number of males and females\n",
        "    gender_counts = dataframe['Survived'].value_counts()\n",
        "    plt.bar(gender_counts.index, gender_counts.values, color=['red', 'blue'])\n",
        "    plt.xlabel('Survived')\n",
        "    plt.ylabel('Count')\n",
        "    plt.title('Number Survivors')\n",
        "    plt.show()\n",
        "\n",
        "# Se pone una semilla para la reproducibilidad\n",
        "np.random.seed(5)\n",
        "\n",
        "# Se especifica el número de muestras a obtener\n",
        "num_samples_to_obtain = 20\n",
        "\n",
        "# Se realiza un muestreo simple\n",
        "random_sample = df.sample(n=num_samples_to_obtain)\n",
        "\n",
        "# Se imprime la muestra obtenida\n",
        "#print(random_sample)\n",
        "\n",
        "#Se muestra la gráfica de barras con la cantidad de personas en cada género\n",
        "plot_gender_distribution(random_sample)"
      ],
      "metadata": {
        "id": "jPpsqFUKnWf7",
        "outputId": "6ea7bbfa-4b4c-4fe2-add0-58ff07e8a658",
        "colab": {
          "base_uri": "https://localhost:8080/",
          "height": 472
        }
      },
      "execution_count": null,
      "outputs": [
        {
          "output_type": "display_data",
          "data": {
            "text/plain": [
              "<Figure size 640x480 with 1 Axes>"
            ],
            "image/png": "[encoded data removed]"
          },
          "metadata": {}
        }
      ]
    },
    {
      "cell_type": "code",
      "source": [
        "# Se pone una semilla para la reproducibilidad\n",
        "np.random.seed()\n",
        "\n",
        "# Se especifica el número de muestras por género\n",
        "num_samples_per_gender = 10\n",
        "\n",
        "#Se define una función para obtener una muestra estratificada por cada género\n",
        "def stratified_sample(group):\n",
        "    return group.sample(n=num_samples_per_gender)\n",
        "\n",
        "#Se realiza el muestreo estratificado basado en 'Gender'\n",
        "stratified_sample = df.groupby('Survived', group_keys=False, sort=False).apply(stratified_sample)\n",
        "\n",
        "# Display the stratified sample\n",
        "# Se imprime la muestra obtenida\n",
        "#print(stratified_sample)\n",
        "\n",
        "#Se muestra la gráfica de barras con la cantidad de personas en cada género\n",
        "plot_gender_distribution(stratified_sample)"
      ],
      "metadata": {
        "id": "TkRk-2ALonb5",
        "outputId": "97b00fc6-917a-4022-dd0e-ec874c1e355f",
        "colab": {
          "base_uri": "https://localhost:8080/",
          "height": 472
        }
      },
      "execution_count": null,
      "outputs": [
        {
          "output_type": "display_data",
          "data": {
            "text/plain": [
              "<Figure size 640x480 with 1 Axes>"
            ],
            "image/png": "[encoded data removed]"
          },
          "metadata": {}
        }
      ]
    }
  ]
}