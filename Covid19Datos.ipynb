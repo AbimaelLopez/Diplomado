{
  "nbformat": 4,
  "nbformat_minor": 0,
  "metadata": {
    "colab": {
      "provenance": [],
      "authorship_tag": "ABX9TyMkT8kveBegRbDPPlsiTHaQ",
      "include_colab_link": true
    },
    "kernelspec": {
      "name": "python3",
      "display_name": "Python 3"
    },
    "language_info": {
      "name": "python"
    }
  },
  "cells": [
    {
      "cell_type": "markdown",
      "metadata": {
        "id": "view-in-github",
        "colab_type": "text"
      },
      "source": [
        "<a href=\"https://colab.research.google.com/github/AbimaelLopez/Diplomado/blob/main/Covid19Datos.ipynb\" target=\"_parent\"><img src=\"https://colab.research.google.com/assets/colab-badge.svg\" alt=\"Open In Colab\"/></a>"
      ]
    },
    {
      "cell_type": "code",
      "execution_count": 26,
      "metadata": {
        "colab": {
          "base_uri": "https://localhost:8080/"
        },
        "id": "Ek22ow8hoEbg",
        "outputId": "baed0baa-2aee-4860-cff7-0e7190d6bafe"
      },
      "outputs": [
        {
          "output_type": "stream",
          "name": "stderr",
          "text": [
            "<ipython-input-26-a86c4a803dfc>:15: DtypeWarning: Columns (38) have mixed types. Specify dtype option on import or set low_memory=False.\n",
            "  covid_data = pd.read_csv(url)\n"
          ]
        },
        {
          "output_type": "stream",
          "name": "stdout",
          "text": [
            "             ORIGEN        SECTOR    ENTIDAD_UM          SEXO   ENTIDAD_NAC  \\\n",
            "count  1.267606e+06  1.267606e+06  1.267606e+06  1.267606e+06  1.267606e+06   \n",
            "mean   1.648311e+00  7.111490e+00  1.462129e+01  1.412794e+00  1.542067e+01   \n",
            "std    4.774977e-01  3.846018e+00  7.830616e+00  4.923366e-01  9.542388e+00   \n",
            "min    1.000000e+00  1.000000e+00  1.000000e+00  1.000000e+00  1.000000e+00   \n",
            "25%    1.000000e+00  4.000000e+00  9.000000e+00  1.000000e+00  9.000000e+00   \n",
            "50%    2.000000e+00  4.000000e+00  1.300000e+01  1.000000e+00  1.400000e+01   \n",
            "75%    2.000000e+00  1.200000e+01  2.100000e+01  2.000000e+00  2.100000e+01   \n",
            "max    2.000000e+00  9.900000e+01  3.200000e+01  2.000000e+00  9.900000e+01   \n",
            "\n",
            "        ENTIDAD_RES  MUNICIPIO_RES  TIPO_PACIENTE      INTUBADO      NEUMONIA  \\\n",
            "count  1.267606e+06   1.267606e+06   1.267606e+06  1.267606e+06  1.267606e+06   \n",
            "mean   1.480011e+01   3.865859e+01   1.101725e+00  8.734962e+01  2.399891e+00   \n",
            "std    7.792611e+00   7.368068e+01   3.022862e-01  2.870811e+01  6.540487e+00   \n",
            "min    1.000000e+00   1.000000e+00   1.000000e+00  1.000000e+00  1.000000e+00   \n",
            "25%    9.000000e+00   7.000000e+00   1.000000e+00  9.700000e+01  2.000000e+00   \n",
            "50%    1.400000e+01   1.700000e+01   1.000000e+00  9.700000e+01  2.000000e+00   \n",
            "75%    2.100000e+01   4.400000e+01   1.000000e+00  9.700000e+01  2.000000e+00   \n",
            "max    3.200000e+01   9.990000e+02   2.000000e+00  9.900000e+01  9.900000e+01   \n",
            "\n",
            "       ...  RENAL_CRONICA    TABAQUISMO     OTRO_CASO  TOMA_MUESTRA_LAB  \\\n",
            "count  ...   1.267606e+06  1.267606e+06  1.267606e+06      1.267606e+06   \n",
            "mean   ...   2.073508e+00  2.049267e+00  3.492097e+00      1.779408e+00   \n",
            "std    ...   2.873840e+00  2.949162e+00  1.250106e+01      4.146461e-01   \n",
            "min    ...   1.000000e+00  1.000000e+00  1.000000e+00      1.000000e+00   \n",
            "25%    ...   2.000000e+00  2.000000e+00  2.000000e+00      2.000000e+00   \n",
            "50%    ...   2.000000e+00  2.000000e+00  2.000000e+00      2.000000e+00   \n",
            "75%    ...   2.000000e+00  2.000000e+00  2.000000e+00      2.000000e+00   \n",
            "max    ...   9.800000e+01  9.800000e+01  9.900000e+01      2.000000e+00   \n",
            "\n",
            "       RESULTADO_LAB  TOMA_MUESTRA_ANTIGENO  RESULTADO_ANTIGENO  \\\n",
            "count   1.267606e+06           1.267606e+06        1.267606e+06   \n",
            "mean    7.603137e+01           1.200391e+00        2.072887e+01   \n",
            "std     3.941577e+01           4.002932e-01        3.818467e+01   \n",
            "min     1.000000e+00           1.000000e+00        1.000000e+00   \n",
            "25%     9.700000e+01           1.000000e+00        1.000000e+00   \n",
            "50%     9.700000e+01           1.000000e+00        2.000000e+00   \n",
            "75%     9.700000e+01           1.000000e+00        2.000000e+00   \n",
            "max     9.700000e+01           2.000000e+00        9.700000e+01   \n",
            "\n",
            "       CLASIFICACION_FINAL      MIGRANTE           UCI  \n",
            "count         1.267606e+06  1.267606e+06  1.267606e+06  \n",
            "mean          5.540695e+00  9.865508e+01  8.735084e+01  \n",
            "std           1.882379e+00  5.785245e+00  2.870459e+01  \n",
            "min           1.000000e+00  1.000000e+00  1.000000e+00  \n",
            "25%           3.000000e+00  9.900000e+01  9.700000e+01  \n",
            "50%           7.000000e+00  9.900000e+01  9.700000e+01  \n",
            "75%           7.000000e+00  9.900000e+01  9.700000e+01  \n",
            "max           7.000000e+00  9.900000e+01  9.900000e+01  \n",
            "\n",
            "[8 rows x 33 columns]\n"
          ]
        }
      ],
      "source": [
        "import pandas as pd\n",
        "from sklearn.model_selection import train_test_split\n",
        "from sklearn.neighbors import KNeighborsClassifier\n",
        "from sklearn.preprocessing import StandardScaler\n",
        "from sklearn.metrics import classification_report\n",
        "from sklearn.pipeline import Pipeline\n",
        "from sklearn.model_selection import KFold\n",
        "from sklearn.model_selection import GridSearchCV\n",
        "from sklearn.metrics import f1_score, accuracy_score\n",
        "import numpy as np\n",
        "\n",
        "\n",
        "url = \"/content/COVID19MEXICO.csv\"\n",
        "\n",
        "covid_data = pd.read_csv(url)\n",
        "\n",
        "\n",
        "print(covid_data.describe())"
      ]
    },
    {
      "cell_type": "code",
      "source": [
        "for col in covid_data.columns:\n",
        "    print(col)"
      ],
      "metadata": {
        "colab": {
          "base_uri": "https://localhost:8080/"
        },
        "id": "3MT9fWtLtJdl",
        "outputId": "6cfc01b5-489e-412c-dc30-61c51bdddb7c"
      },
      "execution_count": 27,
      "outputs": [
        {
          "output_type": "stream",
          "name": "stdout",
          "text": [
            "FECHA_ACTUALIZACION\n",
            "ID_REGISTRO\n",
            "ORIGEN\n",
            "SECTOR\n",
            "ENTIDAD_UM\n",
            "SEXO\n",
            "ENTIDAD_NAC\n",
            "ENTIDAD_RES\n",
            "MUNICIPIO_RES\n",
            "TIPO_PACIENTE\n",
            "FECHA_INGRESO\n",
            "FECHA_SINTOMAS\n",
            "FECHA_DEF\n",
            "INTUBADO\n",
            "NEUMONIA\n",
            "EDAD\n",
            "NACIONALIDAD\n",
            "EMBARAZO\n",
            "HABLA_LENGUA_INDIG\n",
            "INDIGENA\n",
            "DIABETES\n",
            "EPOC\n",
            "ASMA\n",
            "INMUSUPR\n",
            "HIPERTENSION\n",
            "OTRA_COM\n",
            "CARDIOVASCULAR\n",
            "OBESIDAD\n",
            "RENAL_CRONICA\n",
            "TABAQUISMO\n",
            "OTRO_CASO\n",
            "TOMA_MUESTRA_LAB\n",
            "RESULTADO_LAB\n",
            "TOMA_MUESTRA_ANTIGENO\n",
            "RESULTADO_ANTIGENO\n",
            "CLASIFICACION_FINAL\n",
            "MIGRANTE\n",
            "PAIS_NACIONALIDAD\n",
            "PAIS_ORIGEN\n",
            "UCI\n"
          ]
        }
      ]
    },
    {
      "cell_type": "markdown",
      "source": [],
      "metadata": {
        "id": "HPlaPCkAuRoE"
      }
    },
    {
      "cell_type": "code",
      "source": [
        "covid_data_t = covid_data.drop(columns=['FECHA_ACTUALIZACION', 'ID_REGISTRO','ORIGEN','SECTOR','ENTIDAD_UM','SEXO','ENTIDAD_NAC','TIPO_PACIENTE','FECHA_INGRESO','FECHA_DEF','INTUBADO','NEUMONIA','EDAD','NACIONALIDAD','EMBARAZO','HABLA_LENGUA_INDIG','INDIGENA','DIABETES','EPOC','ASMA','INMUSUPR','HIPERTENSION','OTRA_COM','CARDIOVASCULAR','OBESIDAD','RENAL_CRONICA','TABAQUISMO','OTRO_CASO','TOMA_MUESTRA_LAB','RESULTADO_LAB','TOMA_MUESTRA_ANTIGENO','RESULTADO_ANTIGENO','MIGRANTE','PAIS_NACIONALIDAD','PAIS_ORIGEN','UCI'])\n",
        "for col in covid_data_t.columns:\n",
        "    print(col)\n",
        "\n",
        "covid_data_t = covid_data_t[((covid_data_t.CLASIFICACION_FINAL == 1) | (covid_data_t.CLASIFICACION_FINAL == 2) | (covid_data_t.CLASIFICACION_FINAL==3)) & (covid_data_t.ENTIDAD_RES == 9)]\n",
        "\n",
        "covid_data_t = covid_data_t.drop(columns=['CLASIFICACION_FINAL','ENTIDAD_RES'])\n",
        "\n",
        "print(covid_data_t.head)\n",
        "\n",
        "print(covid_data_t.describe())\n"
      ],
      "metadata": {
        "colab": {
          "base_uri": "https://localhost:8080/"
        },
        "id": "WYO07wx8ps2G",
        "outputId": "314133fb-b194-4a0f-b566-4295f7204c6f"
      },
      "execution_count": 28,
      "outputs": [
        {
          "output_type": "stream",
          "name": "stdout",
          "text": [
            "ENTIDAD_RES\n",
            "MUNICIPIO_RES\n",
            "FECHA_SINTOMAS\n",
            "CLASIFICACION_FINAL\n",
            "<bound method NDFrame.head of          MUNICIPIO_RES FECHA_SINTOMAS\n",
            "24                   5     2023-01-30\n",
            "29                  13     2023-01-08\n",
            "30                  13     2023-01-02\n",
            "50                  16     2023-05-08\n",
            "74                  15     2023-02-07\n",
            "...                ...            ...\n",
            "1265533              7     2023-03-06\n",
            "1266527              4     2023-05-15\n",
            "1266682             12     2023-05-25\n",
            "1266841              4     2023-06-01\n",
            "1267596             16     2023-08-29\n",
            "\n",
            "[116825 rows x 2 columns]>\n",
            "       MUNICIPIO_RES\n",
            "count  116825.000000\n",
            "mean        8.975065\n",
            "std         5.311545\n",
            "min         2.000000\n",
            "25%         5.000000\n",
            "50%         8.000000\n",
            "75%        12.000000\n",
            "max       999.000000\n"
          ]
        }
      ]
    },
    {
      "cell_type": "code",
      "source": [
        "covid_data_daily = covid_data_t.groupby(by = ['FECHA_SINTOMAS','MUNICIPIO_RES'])['MUNICIPIO_RES'].count().to_frame(name='CANTIDAD').reset_index()\n",
        "\n",
        "print(covid_data_daily.head)\n",
        "\n",
        "print(covid_data_daily.describe())\n",
        "\n",
        "for col in covid_data_daily.columns:\n",
        "    print(col)"
      ],
      "metadata": {
        "colab": {
          "base_uri": "https://localhost:8080/"
        },
        "id": "TEuxbVa94PhB",
        "outputId": "aa5a5a14-60e5-48e4-ec92-23355934df0a"
      },
      "execution_count": 29,
      "outputs": [
        {
          "output_type": "stream",
          "name": "stdout",
          "text": [
            "<bound method NDFrame.head of      FECHA_SINTOMAS  MUNICIPIO_RES  CANTIDAD\n",
            "0        2023-01-01              2        82\n",
            "1        2023-01-01              3       102\n",
            "2        2023-01-01              4        13\n",
            "3        2023-01-01              5       233\n",
            "4        2023-01-01              6        78\n",
            "...             ...            ...       ...\n",
            "5067     2024-02-22             12         1\n",
            "5068     2024-02-22             14         1\n",
            "5069     2024-02-22             16         1\n",
            "5070     2024-02-23             13         1\n",
            "5071     2024-02-25             12         1\n",
            "\n",
            "[5072 rows x 3 columns]>\n",
            "       MUNICIPIO_RES     CANTIDAD\n",
            "count    5072.000000  5072.000000\n",
            "mean        9.713328    23.033320\n",
            "std        14.623354    30.053195\n",
            "min         2.000000     1.000000\n",
            "25%         6.000000     4.000000\n",
            "50%        10.000000    11.000000\n",
            "75%        13.000000    30.000000\n",
            "max       999.000000   270.000000\n",
            "FECHA_SINTOMAS\n",
            "MUNICIPIO_RES\n",
            "CANTIDAD\n"
          ]
        }
      ]
    },
    {
      "cell_type": "code",
      "source": [
        "covid_data_daily['MUNICIPIO_RES'] = covid_data_daily['MUNICIPIO_RES'].replace([2], 'AZCAPOTZALCO')\n",
        "covid_data_daily['MUNICIPIO_RES'] = covid_data_daily['MUNICIPIO_RES'].replace([3], 'COYOACAN')\n",
        "covid_data_daily['MUNICIPIO_RES'] = covid_data_daily['MUNICIPIO_RES'].replace([4], 'CUAJIMALPA')\n",
        "covid_data_daily['MUNICIPIO_RES'] = covid_data_daily['MUNICIPIO_RES'].replace([5], 'GUSTAVOAMADERO')\n",
        "covid_data_daily['MUNICIPIO_RES'] = covid_data_daily['MUNICIPIO_RES'].replace([6], 'IZTACALCO')\n",
        "covid_data_daily['MUNICIPIO_RES'] = covid_data_daily['MUNICIPIO_RES'].replace([7], 'IZTAPALAPA')\n",
        "covid_data_daily['MUNICIPIO_RES'] = covid_data_daily['MUNICIPIO_RES'].replace([8], 'N/A')\n",
        "covid_data_daily['MUNICIPIO_RES'] = covid_data_daily['MUNICIPIO_RES'].replace([9], 'N/A')\n",
        "covid_data_daily['MUNICIPIO_RES'] = covid_data_daily['MUNICIPIO_RES'].replace([10], 'ALVAROOBREGON')\n",
        "covid_data_daily['MUNICIPIO_RES'] = covid_data_daily['MUNICIPIO_RES'].replace([11], 'TLAHUAC')\n",
        "covid_data_daily['MUNICIPIO_RES'] = covid_data_daily['MUNICIPIO_RES'].replace([12], 'TLALPAN')\n",
        "covid_data_daily['MUNICIPIO_RES'] = covid_data_daily['MUNICIPIO_RES'].replace([13], 'N/A')\n",
        "covid_data_daily['MUNICIPIO_RES'] = covid_data_daily['MUNICIPIO_RES'].replace([14], 'BENITOJUAREZ')\n",
        "covid_data_daily['MUNICIPIO_RES'] = covid_data_daily['MUNICIPIO_RES'].replace([15], 'CUAHUTEMOC')\n",
        "covid_data_daily['MUNICIPIO_RES'] = covid_data_daily['MUNICIPIO_RES'].replace([16], 'MIGUELHIDALGO')\n",
        "covid_data_daily['MUNICIPIO_RES'] = covid_data_daily['MUNICIPIO_RES'].replace([17], 'VENUSTIANOCARRANZA')"
      ],
      "metadata": {
        "id": "fp0OQ3oY-rw7"
      },
      "execution_count": 30,
      "outputs": []
    },
    {
      "cell_type": "code",
      "source": [
        "print(covid_data_daily.head)\n",
        "\n",
        "print(covid_data_daily.describe())\n",
        "\n",
        "covid_data_daily['FECHA_SINTOMAS'] = pd.to_datetime(covid_data_daily['FECHA_SINTOMAS'], infer_datetime_format=True)\n",
        "covid_data_daily[\"CO\"]= np.nan\n",
        "covid_data_daily[\"O3\"]= np.nan\n",
        "covid_data_daily[\"PM25\"]= np.nan\n",
        "\n",
        "print(covid_data_daily.head())"
      ],
      "metadata": {
        "colab": {
          "base_uri": "https://localhost:8080/"
        },
        "id": "RYvj4fzTGAw2",
        "outputId": "cdd7ce3a-ea77-476e-e42a-3a3a3ebe22b5"
      },
      "execution_count": 31,
      "outputs": [
        {
          "output_type": "stream",
          "name": "stdout",
          "text": [
            "<bound method NDFrame.head of      FECHA_SINTOMAS   MUNICIPIO_RES  CANTIDAD\n",
            "0        2023-01-01    AZCAPOTZALCO        82\n",
            "1        2023-01-01        COYOACAN       102\n",
            "2        2023-01-01      CUAJIMALPA        13\n",
            "3        2023-01-01  GUSTAVOAMADERO       233\n",
            "4        2023-01-01       IZTACALCO        78\n",
            "...             ...             ...       ...\n",
            "5067     2024-02-22         TLALPAN         1\n",
            "5068     2024-02-22    BENITOJUAREZ         1\n",
            "5069     2024-02-22   MIGUELHIDALGO         1\n",
            "5070     2024-02-23             N/A         1\n",
            "5071     2024-02-25         TLALPAN         1\n",
            "\n",
            "[5072 rows x 3 columns]>\n",
            "          CANTIDAD\n",
            "count  5072.000000\n",
            "mean     23.033320\n",
            "std      30.053195\n",
            "min       1.000000\n",
            "25%       4.000000\n",
            "50%      11.000000\n",
            "75%      30.000000\n",
            "max     270.000000\n"
          ]
        }
      ]
    },
    {
      "cell_type": "code",
      "source": [
        "urlpm25 = \"/content/Maximos_PM2-5_2020_-_2024.csv\"\n",
        "urlco = \"/content/Alcaldias_CO.csv\"\n",
        "urlo3 =\"/content/Maximos_O3_2020_-_2024.csv\"\n",
        "\n",
        "PM25_data = pd.read_csv(urlpm25)\n",
        "co_data = pd.read_csv(urlco)\n",
        "o3_data = pd.read_csv(urlo3)\n",
        "#PM25_data = PM25_data.rename(columns={'IZTAPA': 'IZTAPALAPA'})\n",
        "\n",
        "print(PM25_data.describe())\n",
        "\n",
        "#for col in PM25_data.columns:\n",
        "    #print(col)\n",
        "\n",
        "PM25_data['Fecha'] = pd.to_datetime(PM25_data['Fecha'], infer_datetime_format=True)\n",
        "co_data['Fecha'] = pd.to_datetime(co_data['Fecha'], infer_datetime_format=True)\n",
        "o3_data['Fecha'] = pd.to_datetime(o3_data['Fecha'], infer_datetime_format=True)\n",
        "\n",
        "print(PM25_data.head())\n",
        "print(co_data.head())\n",
        "print(o3_data.head())\n"
      ],
      "metadata": {
        "colab": {
          "base_uri": "https://localhost:8080/"
        },
        "id": "W6F35S5Bx5GC",
        "outputId": "f90d5fab-26c7-4117-dbc5-b235b41169cc"
      },
      "execution_count": 52,
      "outputs": [
        {
          "output_type": "stream",
          "name": "stdout",
          "text": [
            "          TLALPAN  BENITOJUAREZ  AZCAPOTZALCO   COYOACAN_1  CUAJIMALPA_1  \\\n",
            "count  269.000000   1389.000000   1069.000000  1366.000000           0.0   \n",
            "mean    31.650558     35.779698     40.105706    31.554173           NaN   \n",
            "std     12.275013     14.353920     14.995038    12.763199           NaN   \n",
            "min      6.000000      6.000000      7.000000     5.000000           NaN   \n",
            "25%     24.000000     26.000000     30.000000    23.000000           NaN   \n",
            "50%     31.000000     35.000000     38.000000    30.000000           NaN   \n",
            "75%     37.000000     43.000000     48.000000    38.000000           NaN   \n",
            "max     89.000000    144.000000    139.000000   118.000000           NaN   \n",
            "\n",
            "       GUSTAVOAMADERO  CUAUHTEMOC  IZTACALCO  VENUSTIANOCARRANZA  \\\n",
            "count      633.000000  138.000000        0.0         1005.000000   \n",
            "mean        41.816746   40.644928        NaN           41.175124   \n",
            "std         17.584639   13.775468        NaN           15.680423   \n",
            "min          8.000000   10.000000        NaN            4.000000   \n",
            "25%         32.000000   32.000000        NaN           31.000000   \n",
            "50%         42.000000   40.000000        NaN           40.000000   \n",
            "75%         50.000000   48.000000        NaN           50.000000   \n",
            "max        225.000000   89.000000        NaN          146.000000   \n",
            "\n",
            "       MIGUELHIDALGO  ALVAROOBREGON  IZTAPALAPA_1  CUAJIMALPA_2  TLAHUAC  \\\n",
            "count            0.0     975.000000    917.000000    650.000000      0.0   \n",
            "mean             NaN      32.486154     45.147219     30.070769      NaN   \n",
            "std              NaN      13.041143     22.554909     11.037877      NaN   \n",
            "min              NaN       3.000000      3.000000      6.000000      NaN   \n",
            "25%              NaN      23.000000     31.000000     22.000000      NaN   \n",
            "50%              NaN      31.000000     43.000000     29.000000      NaN   \n",
            "75%              NaN      39.000000     55.000000     37.000000      NaN   \n",
            "max              NaN     120.000000    269.000000     75.000000      NaN   \n",
            "\n",
            "        COYOACAN_2  IZTAPALAPA_2     COYOACAN  CUAJIMALPA   IZTAPALAPA  \n",
            "count  1010.000000    936.000000  1451.000000  650.000000  1078.000000  \n",
            "mean     34.863366     38.195513    32.793591   30.070769    41.392857  \n",
            "std      13.883315     17.234129    12.955412   11.037877    18.759928  \n",
            "min       1.000000      6.000000     5.000000    6.000000     3.000000  \n",
            "25%      26.000000     27.750000    24.000000   22.000000    29.500000  \n",
            "50%      34.000000     37.000000    31.500000   29.000000    40.000000  \n",
            "75%      42.000000     46.000000    39.000000   37.000000    51.000000  \n",
            "max     128.000000    189.000000   118.000000   75.000000   220.500000  \n",
            "       Fecha  TLALPAN  BENITOJUAREZ  AZCAPOTZALCO  COYOACAN_1  CUAJIMALPA_1  \\\n",
            "0 2020-01-01     16.0          87.0           NaN        63.0           NaN   \n",
            "1 2020-02-01      NaN          10.0           NaN         8.0           NaN   \n",
            "2 2020-03-01      NaN          18.0           NaN        22.0           NaN   \n",
            "3 2020-04-01      NaN          65.0           NaN        50.0           NaN   \n",
            "4 2020-05-01      NaN          41.0           NaN        28.0           NaN   \n",
            "\n",
            "   GUSTAVOAMADERO  CUAUHTEMOC  IZTACALCO  VENUSTIANOCARRANZA  MIGUELHIDALGO  \\\n",
            "0             NaN        32.0        NaN               102.0            NaN   \n",
            "1             NaN         NaN        NaN                20.0            NaN   \n",
            "2             NaN         NaN        NaN                34.0            NaN   \n",
            "3             NaN         NaN        NaN                80.0            NaN   \n",
            "4             NaN         NaN        NaN                46.0            NaN   \n",
            "\n",
            "   ALVAROOBREGON  IZTAPALAPA_1  CUAJIMALPA_2  TLAHUAC  COYOACAN_2  \\\n",
            "0           72.0          85.0          34.0      NaN       102.0   \n",
            "1            3.0          19.0          13.0      NaN         6.0   \n",
            "2           24.0          18.0          15.0      NaN        27.0   \n",
            "3           67.0          65.0          59.0      NaN        56.0   \n",
            "4           31.0          49.0          23.0      NaN        54.0   \n",
            "\n",
            "   IZTAPALAPA_2  COYOACAN  CUAJIMALPA  IZTAPALAPA  \n",
            "0          94.0      82.5        34.0        89.5  \n",
            "1           NaN       7.0        13.0        19.0  \n",
            "2          28.0      24.5        15.0        23.0  \n",
            "3          55.0      53.0        59.0        60.0  \n",
            "4          54.0      41.0        23.0        51.5  \n",
            "       Fecha  TLALPAN  BENITOJUAREZ  AZCAPOTZALCO  GUSTAVOAMADERO  CUAHUTEMOC  \\\n",
            "0 2020-01-01      NaN           1.4           1.5             NaN         NaN   \n",
            "1 2020-02-01      NaN           0.4           1.1             NaN         NaN   \n",
            "2 2020-03-01      0.4           0.6           1.4             NaN         NaN   \n",
            "3 2020-04-01      0.7           0.6           0.9             NaN         NaN   \n",
            "4 2020-05-01      0.5           1.7           1.3             NaN         NaN   \n",
            "\n",
            "   IZTACALCO  VENUSTIANOCARRANZA  MIGUELHIDALGO  ALVAROOBREGON  TLAHUAC  \\\n",
            "0        1.7                 2.1            1.2            1.1      2.0   \n",
            "1        1.0                 0.6            0.8            0.2      0.2   \n",
            "2        1.2                 1.7            0.8            0.6      0.6   \n",
            "3        0.7                 0.7            0.9            0.8      0.4   \n",
            "4        2.2                 0.8            1.7            0.7      1.2   \n",
            "\n",
            "   CUAJIMALPA  COYOACAN  IZTAPALAPA  \n",
            "0        0.70      1.00        0.95  \n",
            "1        0.20      0.20        0.45  \n",
            "2        0.45      0.60        1.05  \n",
            "3        0.45      0.65        0.85  \n",
            "4        1.10      1.15        1.60  \n",
            "       Fecha  TLALPAN  BENITOJUAREZ  AZCAPOTZALCO  GUSTAVOAMADERO  CUAUHTEMOC  \\\n",
            "0 2020-01-01      NaN          34.0          38.0            36.0         NaN   \n",
            "1 2020-02-01      NaN          23.0          27.0            22.0         NaN   \n",
            "2 2020-03-01     56.0          51.0          51.0            55.0         NaN   \n",
            "3 2020-04-01     90.0          74.0          64.0            74.0         NaN   \n",
            "4 2020-05-01     86.0           NaN          78.0           101.0         NaN   \n",
            "\n",
            "   IZTACALCO  VENUSTIANOCARRANZA  MIGUELHIDALGO  ALVAROOBREGON  TLAHUAC  \\\n",
            "0       31.0                37.0           34.0           45.0     36.0   \n",
            "1       21.0                22.0           22.0           30.0     29.0   \n",
            "2       53.0                48.0           50.0           54.0     48.0   \n",
            "3       65.0                68.0           59.0           86.0     86.0   \n",
            "4       77.0                79.0           65.0           81.0     83.0   \n",
            "\n",
            "   COYOACAN  CUAJIMALPA  IZTAPALAPA  \n",
            "0      41.0        45.5        31.0  \n",
            "1      27.0        26.0        22.5  \n",
            "2      54.0        51.5        45.0  \n",
            "3      84.5        69.0        68.5  \n",
            "4      81.5        80.0        71.0  \n"
          ]
        },
        {
          "output_type": "stream",
          "name": "stderr",
          "text": [
            "<ipython-input-52-f5d4b416a4c2>:15: UserWarning: Parsing dates in DD/MM/YYYY format when dayfirst=False (the default) was specified. This may lead to inconsistently parsed dates! Specify a format to ensure consistent parsing.\n",
            "  PM25_data['Fecha'] = pd.to_datetime(PM25_data['Fecha'], infer_datetime_format=True)\n",
            "<ipython-input-52-f5d4b416a4c2>:16: UserWarning: Parsing dates in DD/MM/YYYY format when dayfirst=False (the default) was specified. This may lead to inconsistently parsed dates! Specify a format to ensure consistent parsing.\n",
            "  co_data['Fecha'] = pd.to_datetime(co_data['Fecha'], infer_datetime_format=True)\n",
            "<ipython-input-52-f5d4b416a4c2>:17: UserWarning: Parsing dates in DD/MM/YYYY format when dayfirst=False (the default) was specified. This may lead to inconsistently parsed dates! Specify a format to ensure consistent parsing.\n",
            "  o3_data['Fecha'] = pd.to_datetime(o3_data['Fecha'], infer_datetime_format=True)\n"
          ]
        }
      ]
    },
    {
      "cell_type": "code",
      "source": [
        "\n",
        "for ind in PM25_data.index:\n",
        "  covid_data_daily.loc[(covid_data_daily.FECHA_SINTOMAS == PM25_data['Fecha'][ind]) & (covid_data_daily.MUNICIPIO_RES ==\"AZCAPOTZALCO\"), ['PM25']] = PM25_data['AZCAPOTZALCO'][ind]\n",
        "  covid_data_daily.loc[(covid_data_daily.FECHA_SINTOMAS == PM25_data['Fecha'][ind]) & (covid_data_daily.MUNICIPIO_RES ==\"COYOACAN\"), ['PM25']] = PM25_data['COYOACAN'][ind]\n",
        "  covid_data_daily.loc[(covid_data_daily.FECHA_SINTOMAS == PM25_data['Fecha'][ind]) & (covid_data_daily.MUNICIPIO_RES ==\"CUAJIMALPA\"), ['PM25']] = PM25_data['CUAJIMALPA'][ind]\n",
        "  covid_data_daily.loc[(covid_data_daily.FECHA_SINTOMAS == PM25_data['Fecha'][ind]) & (covid_data_daily.MUNICIPIO_RES ==\"GUSTAVOAMADERO\"), ['PM25']] = PM25_data['GUSTAVOAMADERO'][ind]\n",
        "  covid_data_daily.loc[(covid_data_daily.FECHA_SINTOMAS == PM25_data['Fecha'][ind]) & (covid_data_daily.MUNICIPIO_RES ==\"IZTACALCO\"), ['PM25']] = PM25_data['IZTACALCO'][ind]\n",
        "  covid_data_daily.loc[(covid_data_daily.FECHA_SINTOMAS == PM25_data['Fecha'][ind]) & (covid_data_daily.MUNICIPIO_RES ==\"IZTAPALAPA\"), ['PM25']] = PM25_data['IZTAPALAPA'][ind]\n",
        "  covid_data_daily.loc[(covid_data_daily.FECHA_SINTOMAS == PM25_data['Fecha'][ind]) & (covid_data_daily.MUNICIPIO_RES ==\"ALVAROOBREGON\"), ['PM25']] = PM25_data['ALVAROOBREGON'][ind]\n",
        "  covid_data_daily.loc[(covid_data_daily.FECHA_SINTOMAS == PM25_data['Fecha'][ind]) & (covid_data_daily.MUNICIPIO_RES ==\"TLAHUAC\"), ['PM25']] = PM25_data['TLAHUAC'][ind]\n",
        "  covid_data_daily.loc[(covid_data_daily.FECHA_SINTOMAS == PM25_data['Fecha'][ind]) & (covid_data_daily.MUNICIPIO_RES ==\"TLALPAN\"), ['PM25']] = PM25_data['TLALPAN'][ind]\n",
        "  covid_data_daily.loc[(covid_data_daily.FECHA_SINTOMAS == PM25_data['Fecha'][ind]) & (covid_data_daily.MUNICIPIO_RES ==\"BENITOJUAREZ\"), ['PM25']] = PM25_data['BENITOJUAREZ'][ind]\n",
        "  covid_data_daily.loc[(covid_data_daily.FECHA_SINTOMAS == PM25_data['Fecha'][ind]) & (covid_data_daily.MUNICIPIO_RES ==\"CUAHUTEMOC\"), ['PM25']] = PM25_data['CUAUHTEMOC'][ind]\n",
        "  covid_data_daily.loc[(covid_data_daily.FECHA_SINTOMAS == PM25_data['Fecha'][ind]) & (covid_data_daily.MUNICIPIO_RES ==\"MIGUELHIDALGO\"), ['PM25']] = PM25_data['MIGUELHIDALGO'][ind]\n",
        "  covid_data_daily.loc[(covid_data_daily.FECHA_SINTOMAS == PM25_data['Fecha'][ind]) & (covid_data_daily.MUNICIPIO_RES ==\"VENUSTIANOCARRANZA\"), ['PM25']] = PM25_data['VENUSTIANOCARRANZA'][ind]\n",
        "\n",
        "\n",
        "print(covid_data_daily.head())"
      ],
      "metadata": {
        "colab": {
          "base_uri": "https://localhost:8080/"
        },
        "id": "PGr-rS3k33Yu",
        "outputId": "1f2aa648-a9b7-4526-ce56-45572626e2ce"
      },
      "execution_count": 54,
      "outputs": [
        {
          "output_type": "stream",
          "name": "stdout",
          "text": [
            "  FECHA_SINTOMAS   MUNICIPIO_RES  CANTIDAD    CO    O3   PM25\n",
            "0     2023-01-01    AZCAPOTZALCO        82  1.72  59.0  139.0\n",
            "1     2023-01-01        COYOACAN       102  0.72  59.0  111.0\n",
            "2     2023-01-01      CUAJIMALPA        13  0.46  62.0    NaN\n",
            "3     2023-01-01  GUSTAVOAMADERO       233   NaN  56.0  225.0\n",
            "4     2023-01-01       IZTACALCO        78  1.50  60.0    NaN\n"
          ]
        }
      ]
    },
    {
      "cell_type": "code",
      "source": [
        "for ind in o3_data.index:\n",
        "  covid_data_daily.loc[(covid_data_daily.FECHA_SINTOMAS == o3_data['Fecha'][ind]) & (covid_data_daily.MUNICIPIO_RES ==\"AZCAPOTZALCO\"), ['O3']] = o3_data['AZCAPOTZALCO'][ind]\n",
        "  covid_data_daily.loc[(covid_data_daily.FECHA_SINTOMAS == o3_data['Fecha'][ind]) & (covid_data_daily.MUNICIPIO_RES ==\"COYOACAN\"), ['O3']] = o3_data['COYOACAN'][ind]\n",
        "  covid_data_daily.loc[(covid_data_daily.FECHA_SINTOMAS == o3_data['Fecha'][ind]) & (covid_data_daily.MUNICIPIO_RES ==\"CUAJIMALPA\"), ['O3']] = o3_data['CUAJIMALPA'][ind]\n",
        "  covid_data_daily.loc[(covid_data_daily.FECHA_SINTOMAS == o3_data['Fecha'][ind]) & (covid_data_daily.MUNICIPIO_RES ==\"GUSTAVOAMADERO\"), ['O3']] = o3_data['GUSTAVOAMADERO'][ind]\n",
        "  covid_data_daily.loc[(covid_data_daily.FECHA_SINTOMAS == o3_data['Fecha'][ind]) & (covid_data_daily.MUNICIPIO_RES ==\"IZTACALCO\"), ['O3']] = o3_data['IZTACALCO'][ind]\n",
        "  covid_data_daily.loc[(covid_data_daily.FECHA_SINTOMAS == o3_data['Fecha'][ind]) & (covid_data_daily.MUNICIPIO_RES ==\"IZTAPALAPA\"), ['O3']] = o3_data['IZTAPALAPA'][ind]\n",
        "  covid_data_daily.loc[(covid_data_daily.FECHA_SINTOMAS == o3_data['Fecha'][ind]) & (covid_data_daily.MUNICIPIO_RES ==\"ALVAROOBREGON\"), ['O3']] = o3_data['ALVAROOBREGON'][ind]\n",
        "  covid_data_daily.loc[(covid_data_daily.FECHA_SINTOMAS == o3_data['Fecha'][ind]) & (covid_data_daily.MUNICIPIO_RES ==\"TLAHUAC\"), ['O3']] = o3_data['TLAHUAC'][ind]\n",
        "  covid_data_daily.loc[(covid_data_daily.FECHA_SINTOMAS == o3_data['Fecha'][ind]) & (covid_data_daily.MUNICIPIO_RES ==\"TLALPAN\"), ['O3']] = o3_data['TLALPAN'][ind]\n",
        "  covid_data_daily.loc[(covid_data_daily.FECHA_SINTOMAS == o3_data['Fecha'][ind]) & (covid_data_daily.MUNICIPIO_RES ==\"BENITOJUAREZ\"), ['O3']] = o3_data['BENITOJUAREZ'][ind]\n",
        "  covid_data_daily.loc[(covid_data_daily.FECHA_SINTOMAS == o3_data['Fecha'][ind]) & (covid_data_daily.MUNICIPIO_RES ==\"CUAHUTEMOC\"), ['O3']] = o3_data['CUAUHTEMOC'][ind]\n",
        "  covid_data_daily.loc[(covid_data_daily.FECHA_SINTOMAS == o3_data['Fecha'][ind]) & (covid_data_daily.MUNICIPIO_RES ==\"MIGUELHIDALGO\"), ['O3']] = o3_data['MIGUELHIDALGO'][ind]\n",
        "  covid_data_daily.loc[(covid_data_daily.FECHA_SINTOMAS == o3_data['Fecha'][ind]) & (covid_data_daily.MUNICIPIO_RES ==\"VENUSTIANOCARRANZA\"), ['O3']] = o3_data['VENUSTIANOCARRANZA'][ind]\n",
        "\n",
        "\n",
        "print(covid_data_daily.head())"
      ],
      "metadata": {
        "colab": {
          "base_uri": "https://localhost:8080/"
        },
        "id": "KrS6q8ZhI-Al",
        "outputId": "c6b2673c-db7c-4a14-f823-2bddc219f2e7"
      },
      "execution_count": 50,
      "outputs": [
        {
          "output_type": "stream",
          "name": "stdout",
          "text": [
            "  FECHA_SINTOMAS   MUNICIPIO_RES  CANTIDAD  CO    O3  PM25\n",
            "0     2023-01-01    AZCAPOTZALCO        82 NaN  59.0  1.72\n",
            "1     2023-01-01        COYOACAN       102 NaN  59.0  0.72\n",
            "2     2023-01-01      CUAJIMALPA        13 NaN  62.0  0.46\n",
            "3     2023-01-01  GUSTAVOAMADERO       233 NaN  56.0   NaN\n",
            "4     2023-01-01       IZTACALCO        78 NaN  60.0  1.50\n"
          ]
        }
      ]
    },
    {
      "cell_type": "code",
      "source": [
        "for ind in co_data.index:\n",
        "  covid_data_daily.loc[(covid_data_daily.FECHA_SINTOMAS == co_data['Fecha'][ind]) & (covid_data_daily.MUNICIPIO_RES ==\"AZCAPOTZALCO\"), ['CO']] = co_data['AZCAPOTZALCO'][ind]\n",
        "  covid_data_daily.loc[(covid_data_daily.FECHA_SINTOMAS == co_data['Fecha'][ind]) & (covid_data_daily.MUNICIPIO_RES ==\"COYOACAN\"), ['CO']] = co_data['COYOACAN'][ind]\n",
        "  covid_data_daily.loc[(covid_data_daily.FECHA_SINTOMAS == co_data['Fecha'][ind]) & (covid_data_daily.MUNICIPIO_RES ==\"CUAJIMALPA\"), ['CO']] = co_data['CUAJIMALPA'][ind]\n",
        "  covid_data_daily.loc[(covid_data_daily.FECHA_SINTOMAS == co_data['Fecha'][ind]) & (covid_data_daily.MUNICIPIO_RES ==\"GUSTAVOAMADERO\"), ['CO']] = co_data['GUSTAVOAMADERO'][ind]\n",
        "  covid_data_daily.loc[(covid_data_daily.FECHA_SINTOMAS == co_data['Fecha'][ind]) & (covid_data_daily.MUNICIPIO_RES ==\"IZTACALCO\"), ['CO']] = co_data['IZTACALCO'][ind]\n",
        "  covid_data_daily.loc[(covid_data_daily.FECHA_SINTOMAS == co_data['Fecha'][ind]) & (covid_data_daily.MUNICIPIO_RES ==\"IZTAPALAPA\"), ['CO']] = co_data['IZTAPALAPA'][ind]\n",
        "  covid_data_daily.loc[(covid_data_daily.FECHA_SINTOMAS == co_data['Fecha'][ind]) & (covid_data_daily.MUNICIPIO_RES ==\"ALVAROOBREGON\"), ['CO']] = co_data['ALVAROOBREGON'][ind]\n",
        "  covid_data_daily.loc[(covid_data_daily.FECHA_SINTOMAS == co_data['Fecha'][ind]) & (covid_data_daily.MUNICIPIO_RES ==\"TLAHUAC\"), ['CO']] = co_data['TLAHUAC'][ind]\n",
        "  covid_data_daily.loc[(covid_data_daily.FECHA_SINTOMAS == co_data['Fecha'][ind]) & (covid_data_daily.MUNICIPIO_RES ==\"TLALPAN\"), ['CO']] = co_data['TLALPAN'][ind]\n",
        "  covid_data_daily.loc[(covid_data_daily.FECHA_SINTOMAS == co_data['Fecha'][ind]) & (covid_data_daily.MUNICIPIO_RES ==\"BENITOJUAREZ\"), ['CO']] = co_data['BENITOJUAREZ'][ind]\n",
        "  covid_data_daily.loc[(covid_data_daily.FECHA_SINTOMAS == co_data['Fecha'][ind]) & (covid_data_daily.MUNICIPIO_RES ==\"CUAHUTEMOC\"), ['CO']] = co_data['CUAHUTEMOC'][ind]\n",
        "  covid_data_daily.loc[(covid_data_daily.FECHA_SINTOMAS == co_data['Fecha'][ind]) & (covid_data_daily.MUNICIPIO_RES ==\"MIGUELHIDALGO\"), ['CO']] = co_data['MIGUELHIDALGO'][ind]\n",
        "  covid_data_daily.loc[(covid_data_daily.FECHA_SINTOMAS == co_data['Fecha'][ind]) & (covid_data_daily.MUNICIPIO_RES ==\"VENUSTIANOCARRANZA\"), ['CO']] = co_data['VENUSTIANOCARRANZA'][ind]\n",
        "\n",
        "\n",
        "print(covid_data_daily.head())"
      ],
      "metadata": {
        "colab": {
          "base_uri": "https://localhost:8080/"
        },
        "id": "rMkT0PYJI-f4",
        "outputId": "01537fb5-162b-444d-fec6-85e05d81e291"
      },
      "execution_count": 51,
      "outputs": [
        {
          "output_type": "stream",
          "name": "stdout",
          "text": [
            "  FECHA_SINTOMAS   MUNICIPIO_RES  CANTIDAD    CO    O3  PM25\n",
            "0     2023-01-01    AZCAPOTZALCO        82  1.72  59.0  1.72\n",
            "1     2023-01-01        COYOACAN       102  0.72  59.0  0.72\n",
            "2     2023-01-01      CUAJIMALPA        13  0.46  62.0  0.46\n",
            "3     2023-01-01  GUSTAVOAMADERO       233   NaN  56.0   NaN\n",
            "4     2023-01-01       IZTACALCO        78  1.50  60.0  1.50\n"
          ]
        }
      ]
    },
    {
      "cell_type": "code",
      "source": [
        "#Importamos las bibliotecas que vamos a utilizar\n",
        "import math\n",
        "import random\n",
        "import pandas as pd\n",
        "import numpy as np\n",
        "\n",
        "#Datasets\n",
        "from sklearn.datasets import load_iris\n",
        "\n",
        "#Model selection\n",
        "from sklearn.model_selection import train_test_split, GridSearchCV, cross_val_score, StratifiedKFold, KFold\n",
        "\n",
        "#Metrics\n",
        "from sklearn.metrics import accuracy_score\n",
        "\n",
        "#Classfier\n",
        "from sklearn import svm\n",
        "from sklearn.naive_bayes import GaussianNB\n",
        "from sklearn.naive_bayes import CategoricalNB\n",
        "from sklearn.neighbors import KNeighborsClassifier\n",
        "from sklearn.tree import DecisionTreeClassifier\n",
        "\n",
        "#Preprocessing\n",
        "from sklearn.preprocessing import MinMaxScaler, StandardScaler, OneHotEncoder\n",
        "from sklearn.impute import SimpleImputer\n",
        "\n",
        "#Pipeline\n",
        "from sklearn.pipeline import Pipeline\n",
        "from sklearn.compose import ColumnTransformer\n",
        "from sklearn.compose import ColumnTransformer\n",
        "\n",
        "from sklearn.tree import DecisionTreeRegressor\n",
        "from sklearn.neighbors import KNeighborsRegressor\n",
        "#Metrics\n",
        "from sklearn.metrics import r2_score\n",
        "from sklearn import svm\n",
        "# Separate features and target variable\n",
        "\n",
        "X = covid_data_daily[['MUNICIPIO_RES','CO','O3','PM25']]\n",
        "y = covid_data_daily['CANTIDAD']\n",
        "\n",
        "# Split the data into training and testing sets using stratified split\n",
        "X_train, X_test, y_train, y_test = train_test_split(X, y, test_size=0.2, random_state=42)\n",
        "\n",
        "X.describe()\n",
        "\n",
        "covid_data_daily.dtypes"
      ],
      "metadata": {
        "colab": {
          "base_uri": "https://localhost:8080/"
        },
        "id": "f2hPoNHMOUDj",
        "outputId": "09dcb771-8809-4798-8513-815f04099a9a"
      },
      "execution_count": 59,
      "outputs": [
        {
          "output_type": "execute_result",
          "data": {
            "text/plain": [
              "FECHA_SINTOMAS    datetime64[ns]\n",
              "MUNICIPIO_RES             object\n",
              "CANTIDAD                   int64\n",
              "CO                       float64\n",
              "O3                       float64\n",
              "PM25                     float64\n",
              "dtype: object"
            ]
          },
          "metadata": {},
          "execution_count": 59
        }
      ]
    },
    {
      "cell_type": "code",
      "source": [
        "\n",
        "# Define numerical and categorical features\n",
        "numerical_features = X.select_dtypes(include=['float64']).columns\n",
        "categorical_features = X.select_dtypes(include=['object']).columns\n",
        "\n",
        "# Create preprocessing steps for numerical and categorical features\n",
        "numerical_transformer = Pipeline(steps=[\n",
        "    ('imputer', SimpleImputer(strategy='mean')),\n",
        "    ('scaler', StandardScaler())\n",
        "])\n",
        "\n",
        "categorical_transformer = Pipeline(steps=[\n",
        "    ('imputer', SimpleImputer(strategy='most_frequent')),\n",
        "    ('onehot', OneHotEncoder(handle_unknown='ignore'))\n",
        "])\n",
        "\n",
        "# Create column transformer to apply transformations to numerical and categorical columns\n",
        "preprocessor = ColumnTransformer(\n",
        "    transformers=[\n",
        "        ('num', numerical_transformer, numerical_features),\n",
        "        ('cat', categorical_transformer, categorical_features)\n",
        "    ])"
      ],
      "metadata": {
        "id": "Khgonib-M-cT"
      },
      "execution_count": 60,
      "outputs": []
    },
    {
      "cell_type": "code",
      "source": [
        "# each of these models will take a turn as the second Pipeline step\n",
        "rg1 = DecisionTreeRegressor()\n",
        "rg2 = svm.SVR()"
      ],
      "metadata": {
        "id": "R7IcT_B8Pj1t"
      },
      "execution_count": 61,
      "outputs": []
    },
    {
      "cell_type": "code",
      "source": [
        "# create the Pipeline\n",
        "pipe = Pipeline([('preprocessor', preprocessor), ('regressor', rg1)])"
      ],
      "metadata": {
        "id": "LEvbmBbaPmVB"
      },
      "execution_count": 62,
      "outputs": []
    },
    {
      "cell_type": "code",
      "source": [
        "\n",
        "# create the parameter dictionary for rg1\n",
        "params1 = {}\n",
        "#params1['classifier__alpha'] = [1.0, 2.0]\n",
        "params1['regressor__criterion'] = ['squared_error','absolute_error','friedman_mse', 'poisson']\n",
        "params1['regressor__max_depth'] = [None, 5, 10, 15, 20]\n",
        "params1['regressor__min_samples_split'] = [2, 5, 10]\n",
        "params1['regressor__min_samples_leaf']= [ 1, 2, 4,8]\n",
        "params1['regressor'] = [rg1]\n",
        "\n",
        "# create the parameter dictionary for rg2\n",
        "params2 = {}\n",
        "params2['regressor__kernel']= ['linear', 'rbf', 'poly']\n",
        "params2['regressor__C'] = [0.1,1,10]\n",
        "params2['regressor__gamma']= ['scale', 'auto']\n",
        "params2['regressor__degree']= [2,3,4]\n",
        "params2['regressor'] = [rg2]\n",
        "\n",
        "# create the parameter dictionary for clf2\n",
        "#params2 = {}\n",
        "#params2['regressor__n_neighbors'] =  [3, 5, 7]\n",
        "#params2['regressor__weights'] = ['uniform', 'distance']\n",
        "#params2['regressor'] = [rg2]\n",
        ""
      ],
      "metadata": {
        "id": "ex3BQVMuPnxI"
      },
      "execution_count": 63,
      "outputs": []
    },
    {
      "cell_type": "code",
      "source": [
        "# create a list of parameter dictionaries\n",
        "params = [params1, params2]"
      ],
      "metadata": {
        "id": "wlYnlcAcPpg-"
      },
      "execution_count": 64,
      "outputs": []
    },
    {
      "cell_type": "code",
      "source": [
        "# this will search every parameter combination within each dictionary\n",
        "grid = GridSearchCV(pipe, params,scoring='neg_mean_squared_error', error_score='raise')\n",
        "grid.fit(X_train, y_train)\n",
        "grid.best_params_\n",
        "print(grid.best_params_)"
      ],
      "metadata": {
        "colab": {
          "base_uri": "https://localhost:8080/"
        },
        "id": "ktnGZq3sPrwA",
        "outputId": "e5b2da2a-dc2d-48d7-efc4-21b8518b1d3e"
      },
      "execution_count": 65,
      "outputs": [
        {
          "output_type": "stream",
          "name": "stdout",
          "text": [
            "{'regressor': DecisionTreeRegressor(criterion='poisson', max_depth=5, min_samples_leaf=2,\n",
            "                      min_samples_split=10), 'regressor__criterion': 'poisson', 'regressor__max_depth': 5, 'regressor__min_samples_leaf': 2, 'regressor__min_samples_split': 10}\n"
          ]
        }
      ]
    },
    {
      "cell_type": "code",
      "source": [
        "# Access the best model (best estimator) directly\n",
        "best_model = grid.best_estimator_\n",
        "best_model_name = best_model.named_steps['regressor'].__class__.__name__\n",
        "# Now you can use the best_model for further analysis or evaluation\n",
        "best_predictions = best_model.predict(X_test)\n",
        "best_accuracy = r2_score(y_test, best_predictions)\n",
        "\n",
        "print(f\"Best Model Test Accuracy: {best_accuracy}\")\n",
        "\n",
        "print(f\"Best Model: {best_model_name}\")\n",
        "print(f\"Best Model parameters: {best_model['regressor'].get_params()}\")\n",
        ""
      ],
      "metadata": {
        "colab": {
          "base_uri": "https://localhost:8080/"
        },
        "id": "UIY-9rcQPtbJ",
        "outputId": "eaeec6dc-8874-45f9-d9f4-dd34af1fa9af"
      },
      "execution_count": 66,
      "outputs": [
        {
          "output_type": "stream",
          "name": "stdout",
          "text": [
            "Best Model Test Accuracy: 0.14330580226499623\n",
            "Best Model: DecisionTreeRegressor\n",
            "Best Model parameters: {'ccp_alpha': 0.0, 'criterion': 'poisson', 'max_depth': 5, 'max_features': None, 'max_leaf_nodes': None, 'min_impurity_decrease': 0.0, 'min_samples_leaf': 2, 'min_samples_split': 10, 'min_weight_fraction_leaf': 0.0, 'random_state': None, 'splitter': 'best'}\n"
          ]
        }
      ]
    }
  ]
}