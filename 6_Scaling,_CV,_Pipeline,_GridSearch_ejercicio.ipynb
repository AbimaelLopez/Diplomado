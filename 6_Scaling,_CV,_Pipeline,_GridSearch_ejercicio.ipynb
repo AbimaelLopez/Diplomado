{
  "nbformat": 4,
  "nbformat_minor": 0,
  "metadata": {
    "colab": {
      "provenance": [],
      "include_colab_link": true
    },
    "kernelspec": {
      "name": "python3",
      "display_name": "Python 3"
    },
    "language_info": {
      "name": "python"
    }
  },
  "cells": [
    {
      "cell_type": "markdown",
      "metadata": {
        "id": "view-in-github",
        "colab_type": "text"
      },
      "source": [
        "<a href=\"https://colab.research.google.com/github/AbimaelLopez/Diplomado/blob/main/6_Scaling%2C_CV%2C_Pipeline%2C_GridSearch_ejercicio.ipynb\" target=\"_parent\"><img src=\"https://colab.research.google.com/assets/colab-badge.svg\" alt=\"Open In Colab\"/></a>"
      ]
    },
    {
      "cell_type": "markdown",
      "source": [
        "# **6. Escalamiento y validación cruzada**\n",
        "\n",
        "### Objetivo\n",
        "Que la o el estudiante conozca el efecto del escalamiento en las características. Asimismo, que aprenda a utilizar las clases Cross Validation, Pipeline y GridSearch de la biblioteca Sklearn.\n",
        "\n",
        "### Descripción del procedimiento a seguir\n",
        "- Se carga y preprocesa el conjunto de datos apple_quality\n",
        "- Se utiliza el escalador y se evalúa.\n",
        "- Se utiliza la clase para validación cruzada.\n",
        "- Se define un Pipeline\n",
        "- Se hace búsqueda de hiperparámetros con GridSearchCV\n",
        "- Se deja como ejercicio trabajar con el conjunto de datos Californa Housing\n",
        "\n",
        "\n",
        "### Datos\n",
        "**Profesora**: Dra. Jessica Beltrán Márquez<br>\n",
        "Maestría en Ciencia de Datos y Optimización<br>\n",
        "Centro de Investigación en Matemáticas Aplicadas <br>\n",
        "Universidad Autónoma de Coahuila\n",
        "\n",
        "\n",
        "### Bibliografía\n",
        "1. https://seaborn.pydata.org/\n",
        "2. https://pandas.pydata.org/\n",
        "3. https://numpy.org/\n",
        "4. https://matplotlib.org/\n",
        "5. https://scikit-learn.org/stable/\n"
      ],
      "metadata": {
        "id": "VH9N67xNAwSJ"
      }
    },
    {
      "cell_type": "markdown",
      "source": [
        "### **1. Importar bibliotecas**\n"
      ],
      "metadata": {
        "id": "sDAM9VYo9XZN"
      }
    },
    {
      "cell_type": "code",
      "source": [
        "import pandas as pd\n",
        "import matplotlib.pyplot as plt\n",
        "import seaborn as sns\n",
        "#Modelo de clasificación\n",
        "from sklearn.neighbors import KNeighborsClassifier\n",
        "#Datasplit\n",
        "from sklearn.model_selection import train_test_split\n",
        "#Metricas\n",
        "from sklearn.metrics import accuracy_score, confusion_matrix\n",
        "from sklearn.metrics import f1_score\n",
        "#Preprocesamiento\n",
        "from sklearn.preprocessing import StandardScaler\n",
        "from sklearn.preprocessing import MinMaxScaler"
      ],
      "metadata": {
        "id": "tfgtwRsp9dR9"
      },
      "execution_count": 1,
      "outputs": []
    },
    {
      "cell_type": "markdown",
      "source": [
        "### **2 Escalamiento de datos, entrenamiento y elección de hiperparámetros con conjunto de validación y evaluación en conjunto de prueba de conjunto de datos Apple Quality**"
      ],
      "metadata": {
        "id": "HDiNj91qpLsk"
      }
    },
    {
      "cell_type": "markdown",
      "source": [
        "**2.1. Carga de datos**\n",
        "- Se carga el archivo apple_quality.csv y se visualiza una muestra.\n",
        "\n",
        "- Modificamos los valores de la columna 'Quality', tenemos 'good' y 'bad', y los pasamos a 1 y 0."
      ],
      "metadata": {
        "id": "qfMzkff69ljd"
      }
    },
    {
      "cell_type": "code",
      "source": [
        "file_path = '/content/apple_quality.csv'  # Replace with your actual file path\n",
        "df = pd.read_csv(file_path)\n",
        "df.dropna(inplace=True)\n",
        "df['Quality'] = df['Quality'].map({'good': 1, 'bad': 0})\n",
        "df.drop(columns=['A_id'], inplace=True)\n",
        "df.head()"
      ],
      "metadata": {
        "id": "FSjspjtq9hgu",
        "colab": {
          "base_uri": "https://localhost:8080/",
          "height": 206
        },
        "outputId": "786bfc34-9729-4394-c269-e2fb180c955b"
      },
      "execution_count": 4,
      "outputs": [
        {
          "output_type": "execute_result",
          "data": {
            "text/plain": [
              "       Size    Weight  Sweetness  Crunchiness  Juiciness  Ripeness  \\\n",
              "0 -3.970049 -2.512336   5.346330    -1.012009   1.844900  0.329840   \n",
              "1 -1.195217 -2.839257   3.664059     1.588232   0.853286  0.867530   \n",
              "2 -0.292024 -1.351282  -1.738429    -0.342616   2.838636 -0.038033   \n",
              "3 -0.657196 -2.271627   1.324874    -0.097875   3.637970 -3.413761   \n",
              "4  1.364217 -1.296612  -0.384658    -0.553006   3.030874 -1.303849   \n",
              "\n",
              "        Acidity  Quality  \n",
              "0  -0.491590483        1  \n",
              "1  -0.722809367        1  \n",
              "2   2.621636473        0  \n",
              "3   0.790723217        1  \n",
              "4   0.501984036        1  "
            ],
            "text/html": [
              "\n",
              "  <div id=\"df-88409afb-9d7e-4d65-b66b-97f513fe73f8\" class=\"colab-df-container\">\n",
              "    <div>\n",
              "<style scoped>\n",
              "    .dataframe tbody tr th:only-of-type {\n",
              "        vertical-align: middle;\n",
              "    }\n",
              "\n",
              "    .dataframe tbody tr th {\n",
              "        vertical-align: top;\n",
              "    }\n",
              "\n",
              "    .dataframe thead th {\n",
              "        text-align: right;\n",
              "    }\n",
              "</style>\n",
              "<table border=\"1\" class=\"dataframe\">\n",
              "  <thead>\n",
              "    <tr style=\"text-align: right;\">\n",
              "      <th></th>\n",
              "      <th>Size</th>\n",
              "      <th>Weight</th>\n",
              "      <th>Sweetness</th>\n",
              "      <th>Crunchiness</th>\n",
              "      <th>Juiciness</th>\n",
              "      <th>Ripeness</th>\n",
              "      <th>Acidity</th>\n",
              "      <th>Quality</th>\n",
              "    </tr>\n",
              "  </thead>\n",
              "  <tbody>\n",
              "    <tr>\n",
              "      <th>0</th>\n",
              "      <td>-3.970049</td>\n",
              "      <td>-2.512336</td>\n",
              "      <td>5.346330</td>\n",
              "      <td>-1.012009</td>\n",
              "      <td>1.844900</td>\n",
              "      <td>0.329840</td>\n",
              "      <td>-0.491590483</td>\n",
              "      <td>1</td>\n",
              "    </tr>\n",
              "    <tr>\n",
              "      <th>1</th>\n",
              "      <td>-1.195217</td>\n",
              "      <td>-2.839257</td>\n",
              "      <td>3.664059</td>\n",
              "      <td>1.588232</td>\n",
              "      <td>0.853286</td>\n",
              "      <td>0.867530</td>\n",
              "      <td>-0.722809367</td>\n",
              "      <td>1</td>\n",
              "    </tr>\n",
              "    <tr>\n",
              "      <th>2</th>\n",
              "      <td>-0.292024</td>\n",
              "      <td>-1.351282</td>\n",
              "      <td>-1.738429</td>\n",
              "      <td>-0.342616</td>\n",
              "      <td>2.838636</td>\n",
              "      <td>-0.038033</td>\n",
              "      <td>2.621636473</td>\n",
              "      <td>0</td>\n",
              "    </tr>\n",
              "    <tr>\n",
              "      <th>3</th>\n",
              "      <td>-0.657196</td>\n",
              "      <td>-2.271627</td>\n",
              "      <td>1.324874</td>\n",
              "      <td>-0.097875</td>\n",
              "      <td>3.637970</td>\n",
              "      <td>-3.413761</td>\n",
              "      <td>0.790723217</td>\n",
              "      <td>1</td>\n",
              "    </tr>\n",
              "    <tr>\n",
              "      <th>4</th>\n",
              "      <td>1.364217</td>\n",
              "      <td>-1.296612</td>\n",
              "      <td>-0.384658</td>\n",
              "      <td>-0.553006</td>\n",
              "      <td>3.030874</td>\n",
              "      <td>-1.303849</td>\n",
              "      <td>0.501984036</td>\n",
              "      <td>1</td>\n",
              "    </tr>\n",
              "  </tbody>\n",
              "</table>\n",
              "</div>\n",
              "    <div class=\"colab-df-buttons\">\n",
              "\n",
              "  <div class=\"colab-df-container\">\n",
              "    <button class=\"colab-df-convert\" onclick=\"convertToInteractive('df-88409afb-9d7e-4d65-b66b-97f513fe73f8')\"\n",
              "            title=\"Convert this dataframe to an interactive table.\"\n",
              "            style=\"display:none;\">\n",
              "\n",
              "  <svg xmlns=\"http://www.w3.org/2000/svg\" height=\"24px\" viewBox=\"0 -960 960 960\">\n",
              "    <path d=\"M120-120v-720h720v720H120Zm60-500h600v-160H180v160Zm220 220h160v-160H400v160Zm0 220h160v-160H400v160ZM180-400h160v-160H180v160Zm440 0h160v-160H620v160ZM180-180h160v-160H180v160Zm440 0h160v-160H620v160Z\"/>\n",
              "  </svg>\n",
              "    </button>\n",
              "\n",
              "  <style>\n",
              "    .colab-df-container {\n",
              "      display:flex;\n",
              "      gap: 12px;\n",
              "    }\n",
              "\n",
              "    .colab-df-convert {\n",
              "      background-color: #E8F0FE;\n",
              "      border: none;\n",
              "      border-radius: 50%;\n",
              "      cursor: pointer;\n",
              "      display: none;\n",
              "      fill: #1967D2;\n",
              "      height: 32px;\n",
              "      padding: 0 0 0 0;\n",
              "      width: 32px;\n",
              "    }\n",
              "\n",
              "    .colab-df-convert:hover {\n",
              "      background-color: #E2EBFA;\n",
              "      box-shadow: 0px 1px 2px rgba(60, 64, 67, 0.3), 0px 1px 3px 1px rgba(60, 64, 67, 0.15);\n",
              "      fill: #174EA6;\n",
              "    }\n",
              "\n",
              "    .colab-df-buttons div {\n",
              "      margin-bottom: 4px;\n",
              "    }\n",
              "\n",
              "    [theme=dark] .colab-df-convert {\n",
              "      background-color: #3B4455;\n",
              "      fill: #D2E3FC;\n",
              "    }\n",
              "\n",
              "    [theme=dark] .colab-df-convert:hover {\n",
              "      background-color: #434B5C;\n",
              "      box-shadow: 0px 1px 3px 1px rgba(0, 0, 0, 0.15);\n",
              "      filter: drop-shadow(0px 1px 2px rgba(0, 0, 0, 0.3));\n",
              "      fill: #FFFFFF;\n",
              "    }\n",
              "  </style>\n",
              "\n",
              "    <script>\n",
              "      const buttonEl =\n",
              "        document.querySelector('#df-88409afb-9d7e-4d65-b66b-97f513fe73f8 button.colab-df-convert');\n",
              "      buttonEl.style.display =\n",
              "        google.colab.kernel.accessAllowed ? 'block' : 'none';\n",
              "\n",
              "      async function convertToInteractive(key) {\n",
              "        const element = document.querySelector('#df-88409afb-9d7e-4d65-b66b-97f513fe73f8');\n",
              "        const dataTable =\n",
              "          await google.colab.kernel.invokeFunction('convertToInteractive',\n",
              "                                                    [key], {});\n",
              "        if (!dataTable) return;\n",
              "\n",
              "        const docLinkHtml = 'Like what you see? Visit the ' +\n",
              "          '<a target=\"_blank\" href=https://colab.research.google.com/notebooks/data_table.ipynb>data table notebook</a>'\n",
              "          + ' to learn more about interactive tables.';\n",
              "        element.innerHTML = '';\n",
              "        dataTable['output_type'] = 'display_data';\n",
              "        await google.colab.output.renderOutput(dataTable, element);\n",
              "        const docLink = document.createElement('div');\n",
              "        docLink.innerHTML = docLinkHtml;\n",
              "        element.appendChild(docLink);\n",
              "      }\n",
              "    </script>\n",
              "  </div>\n",
              "\n",
              "\n",
              "<div id=\"df-b12510f8-3be3-491c-a6cd-fc3c204210b2\">\n",
              "  <button class=\"colab-df-quickchart\" onclick=\"quickchart('df-b12510f8-3be3-491c-a6cd-fc3c204210b2')\"\n",
              "            title=\"Suggest charts\"\n",
              "            style=\"display:none;\">\n",
              "\n",
              "<svg xmlns=\"http://www.w3.org/2000/svg\" height=\"24px\"viewBox=\"0 0 24 24\"\n",
              "     width=\"24px\">\n",
              "    <g>\n",
              "        <path d=\"M19 3H5c-1.1 0-2 .9-2 2v14c0 1.1.9 2 2 2h14c1.1 0 2-.9 2-2V5c0-1.1-.9-2-2-2zM9 17H7v-7h2v7zm4 0h-2V7h2v10zm4 0h-2v-4h2v4z\"/>\n",
              "    </g>\n",
              "</svg>\n",
              "  </button>\n",
              "\n",
              "<style>\n",
              "  .colab-df-quickchart {\n",
              "      --bg-color: #E8F0FE;\n",
              "      --fill-color: #1967D2;\n",
              "      --hover-bg-color: #E2EBFA;\n",
              "      --hover-fill-color: #174EA6;\n",
              "      --disabled-fill-color: #AAA;\n",
              "      --disabled-bg-color: #DDD;\n",
              "  }\n",
              "\n",
              "  [theme=dark] .colab-df-quickchart {\n",
              "      --bg-color: #3B4455;\n",
              "      --fill-color: #D2E3FC;\n",
              "      --hover-bg-color: #434B5C;\n",
              "      --hover-fill-color: #FFFFFF;\n",
              "      --disabled-bg-color: #3B4455;\n",
              "      --disabled-fill-color: #666;\n",
              "  }\n",
              "\n",
              "  .colab-df-quickchart {\n",
              "    background-color: var(--bg-color);\n",
              "    border: none;\n",
              "    border-radius: 50%;\n",
              "    cursor: pointer;\n",
              "    display: none;\n",
              "    fill: var(--fill-color);\n",
              "    height: 32px;\n",
              "    padding: 0;\n",
              "    width: 32px;\n",
              "  }\n",
              "\n",
              "  .colab-df-quickchart:hover {\n",
              "    background-color: var(--hover-bg-color);\n",
              "    box-shadow: 0 1px 2px rgba(60, 64, 67, 0.3), 0 1px 3px 1px rgba(60, 64, 67, 0.15);\n",
              "    fill: var(--button-hover-fill-color);\n",
              "  }\n",
              "\n",
              "  .colab-df-quickchart-complete:disabled,\n",
              "  .colab-df-quickchart-complete:disabled:hover {\n",
              "    background-color: var(--disabled-bg-color);\n",
              "    fill: var(--disabled-fill-color);\n",
              "    box-shadow: none;\n",
              "  }\n",
              "\n",
              "  .colab-df-spinner {\n",
              "    border: 2px solid var(--fill-color);\n",
              "    border-color: transparent;\n",
              "    border-bottom-color: var(--fill-color);\n",
              "    animation:\n",
              "      spin 1s steps(1) infinite;\n",
              "  }\n",
              "\n",
              "  @keyframes spin {\n",
              "    0% {\n",
              "      border-color: transparent;\n",
              "      border-bottom-color: var(--fill-color);\n",
              "      border-left-color: var(--fill-color);\n",
              "    }\n",
              "    20% {\n",
              "      border-color: transparent;\n",
              "      border-left-color: var(--fill-color);\n",
              "      border-top-color: var(--fill-color);\n",
              "    }\n",
              "    30% {\n",
              "      border-color: transparent;\n",
              "      border-left-color: var(--fill-color);\n",
              "      border-top-color: var(--fill-color);\n",
              "      border-right-color: var(--fill-color);\n",
              "    }\n",
              "    40% {\n",
              "      border-color: transparent;\n",
              "      border-right-color: var(--fill-color);\n",
              "      border-top-color: var(--fill-color);\n",
              "    }\n",
              "    60% {\n",
              "      border-color: transparent;\n",
              "      border-right-color: var(--fill-color);\n",
              "    }\n",
              "    80% {\n",
              "      border-color: transparent;\n",
              "      border-right-color: var(--fill-color);\n",
              "      border-bottom-color: var(--fill-color);\n",
              "    }\n",
              "    90% {\n",
              "      border-color: transparent;\n",
              "      border-bottom-color: var(--fill-color);\n",
              "    }\n",
              "  }\n",
              "</style>\n",
              "\n",
              "  <script>\n",
              "    async function quickchart(key) {\n",
              "      const quickchartButtonEl =\n",
              "        document.querySelector('#' + key + ' button');\n",
              "      quickchartButtonEl.disabled = true;  // To prevent multiple clicks.\n",
              "      quickchartButtonEl.classList.add('colab-df-spinner');\n",
              "      try {\n",
              "        const charts = await google.colab.kernel.invokeFunction(\n",
              "            'suggestCharts', [key], {});\n",
              "      } catch (error) {\n",
              "        console.error('Error during call to suggestCharts:', error);\n",
              "      }\n",
              "      quickchartButtonEl.classList.remove('colab-df-spinner');\n",
              "      quickchartButtonEl.classList.add('colab-df-quickchart-complete');\n",
              "    }\n",
              "    (() => {\n",
              "      let quickchartButtonEl =\n",
              "        document.querySelector('#df-b12510f8-3be3-491c-a6cd-fc3c204210b2 button');\n",
              "      quickchartButtonEl.style.display =\n",
              "        google.colab.kernel.accessAllowed ? 'block' : 'none';\n",
              "    })();\n",
              "  </script>\n",
              "</div>\n",
              "\n",
              "    </div>\n",
              "  </div>\n"
            ]
          },
          "metadata": {},
          "execution_count": 4
        }
      ]
    },
    {
      "cell_type": "markdown",
      "source": [
        "**2.2. Separación de características y etiquetas y escalamiento de las características**\n",
        "- Se crea una nueva variable llamada X que contendrá las características de los ejemplos del dataset.\n",
        "- Se crea una nueva variable llamada y que contendrá las etiquetas de los ejemplos del dataset."
      ],
      "metadata": {
        "id": "Y5UzVQ2090s8"
      }
    },
    {
      "cell_type": "code",
      "source": [
        "X = df.iloc[:,:-1]  #Todas las columnas menos la última\n",
        "y= df.iloc[:,-1] #La última columna"
      ],
      "metadata": {
        "id": "nyCmjCaf96Ig"
      },
      "execution_count": 5,
      "outputs": []
    },
    {
      "cell_type": "markdown",
      "source": [
        "**2.3. Separación en subconjuntos de entrenamiento, validación y prueba.**\n",
        "- Se utiliza la función *train_test_split* de la biblioteca Scikit-learn para separar el conjunto de datos introducido en dos. Se separa en subconjunto de entrenamiento (70%) y uno temporal (30%).\n"
      ],
      "metadata": {
        "id": "jF1oxPMd-BuR"
      }
    },
    {
      "cell_type": "code",
      "source": [
        "X_train, X_temp, y_train, y_temp = train_test_split(X, y, test_size=0.3, random_state=0, stratify=y)\n",
        "X_val, X_test, y_val, y_test = train_test_split(X_temp, y_temp, test_size=0.5, random_state=0, stratify=y_temp)\n",
        "\n",
        "print(\"Training set shape:\", X_train.shape)\n",
        "print(\"Validation set shape:\", X_val.shape)\n",
        "print(\"Test set shape:\", X_test.shape)\n"
      ],
      "metadata": {
        "id": "Py8fPB6b-EjF",
        "colab": {
          "base_uri": "https://localhost:8080/"
        },
        "outputId": "33a9e1d8-c76d-4cc8-a2c0-9aab6e4b95e9"
      },
      "execution_count": 6,
      "outputs": [
        {
          "output_type": "stream",
          "name": "stdout",
          "text": [
            "Training set shape: (2800, 7)\n",
            "Validation set shape: (600, 7)\n",
            "Test set shape: (600, 7)\n"
          ]
        }
      ]
    },
    {
      "cell_type": "markdown",
      "source": [
        "**2.4 Se instancia un método para escalar datos y se ajusta a los datos de entrenamiento, posteriormente se aplica el escalamiento también al conjunto de datos de validación y de prueba**"
      ],
      "metadata": {
        "id": "_nh8myKctTxg"
      }
    },
    {
      "cell_type": "code",
      "source": [
        "#scaler = MinMaxScaler()\n",
        "scaler = StandardScaler()\n",
        " #Con los datos de entrenamiento se encuentran los parámetros del escalador, se usa fit_transform()\n",
        "X_train = pd.DataFrame(scaler.fit_transform(X_train), columns=X_train.columns)\n",
        "\n",
        "#Para los datos de validación y prueba, solo se usa transform(). ya que no se vuelve a ajustar.\n",
        "X_val = pd.DataFrame(scaler.transform(X_val), columns=X_val.columns)\n",
        "X_test = pd.DataFrame(scaler.transform(X_test), columns=X_test.columns)"
      ],
      "metadata": {
        "id": "4MpdMXjzssou"
      },
      "execution_count": 7,
      "outputs": []
    },
    {
      "cell_type": "markdown",
      "source": [
        "**2.5. Entrenaniemto del algoritmo de clasificación K vecinos más cercanos(KNN) y evaluación**\n",
        "\n",
        "Para esta práctica, vamos a entrenar y evaluar usando varios números de vecinos (hyperparámetros):\n",
        "- nns = [1,3,5,7,9,11,13,15]\n",
        "- Entrenamos el modelo con los datos de entrenamiento\n",
        "- Evaluamos el modelo con los datos de validación\n",
        "\n",
        "Lo haremos en un ciclo for, y almacenaremos los resultados del *f1_score* en una lista. Posteriormente, obtendremos el mejor valor *f1_score* y los nn que lo produjeron.\n",
        "\n",
        "Aprovecharemos para gráficar todos los resultados."
      ],
      "metadata": {
        "id": "-NveC4K8-G2c"
      }
    },
    {
      "cell_type": "code",
      "source": [
        "# Initialize the KNN classifier\n",
        "nns = [1,3,5,7,9,11,13,15]\n",
        "f1_vals = []\n",
        "for nn in nns:\n",
        "  knn_classifier = KNeighborsClassifier(n_neighbors=nn)  # Aqui ajustamos el número de vecinos\n",
        "\n",
        "  # Ajustamos el modelo a los datos de entrenamiento\n",
        "  knn_classifier.fit(X_train, y_train)\n",
        "  y_val_pred = knn_classifier.predict(X_val)\n",
        "\n",
        "  # Evaluar con las métricas exactitud y matriz de confusión\n",
        "  f1_vals.append(f1_score(y_val, y_val_pred))\n",
        "\n",
        "plt.plot(nns,f1_vals)\n",
        "\n",
        "max_index = f1_vals.index(max(f1_vals))\n",
        "print(max_index)"
      ],
      "metadata": {
        "colab": {
          "base_uri": "https://localhost:8080/",
          "height": 448
        },
        "id": "mSDkX4XF-hvV",
        "outputId": "2367a8ae-87a8-4489-d15f-b7f3bb79db78"
      },
      "execution_count": 8,
      "outputs": [
        {
          "output_type": "stream",
          "name": "stdout",
          "text": [
            "3\n"
          ]
        },
        {
          "output_type": "display_data",
          "data": {
            "text/plain": [
              "<Figure size 640x480 with 1 Axes>"
            ],
            "image/png": "[encoded data removed]"
          },
          "metadata": {}
        }
      ]
    },
    {
      "cell_type": "markdown",
      "source": [
        "Vemos que gracias al escalamiento, los resultados mejoraron en comparación a no escalar."
      ],
      "metadata": {
        "id": "-xwmQX6P-oAA"
      }
    },
    {
      "cell_type": "markdown",
      "source": [
        "**2.6. Evaluación en el conjunto de prueba con el número de vecinos con los mejores resultados**"
      ],
      "metadata": {
        "id": "XSHIeH6gAD6B"
      }
    },
    {
      "cell_type": "code",
      "source": [
        "# Ajustamos el modelo a los datos de entrenamiento\n",
        "knn_classifier = KNeighborsClassifier(n_neighbors=nns[max_index])\n",
        "knn_classifier.fit(X_train, y_train)\n",
        "y_test_pred = knn_classifier.predict(X_test)\n",
        "\n",
        "# Evaluar con las métricas exactitud y matriz de confusión\n",
        "f_val = f1_score(y_test, y_test_pred)\n",
        "print(f_val)"
      ],
      "metadata": {
        "colab": {
          "base_uri": "https://localhost:8080/"
        },
        "id": "m_taHDr6_KqW",
        "outputId": "396cb6b4-3c2e-435b-b067-12e608a7028c"
      },
      "execution_count": 9,
      "outputs": [
        {
          "output_type": "stream",
          "name": "stdout",
          "text": [
            "0.8950819672131147\n"
          ]
        }
      ]
    },
    {
      "cell_type": "markdown",
      "source": [
        "### **3 Validación cruzada**\n",
        "\n",
        "En esta sección, vamos a realizar validación cruzada. Para ello, el conjunto de datos se separará en conjunto de entrenamiento y prueba."
      ],
      "metadata": {
        "id": "WgQE-mo_ppW9"
      }
    },
    {
      "cell_type": "markdown",
      "source": [
        "**3.1 Importamos las nuevas clases que necesitamos**"
      ],
      "metadata": {
        "id": "SXkbLywo3Q7w"
      }
    },
    {
      "cell_type": "code",
      "source": [
        "from sklearn.model_selection import KFold\n",
        "from sklearn.model_selection import cross_val_score\n"
      ],
      "metadata": {
        "id": "ZgMCtVz5qGYc"
      },
      "execution_count": 10,
      "outputs": []
    },
    {
      "cell_type": "markdown",
      "source": [
        "**3.2 Preparamos nuevamente los datos**\n",
        "- Leemos nuevamente los datos\n",
        "- Reemplazamos la columna 'Quality'\n",
        "- Separamos en entrenamiento y prueba\n",
        "- Escalamos los datos"
      ],
      "metadata": {
        "id": "RrTitZe_3XR2"
      }
    },
    {
      "cell_type": "code",
      "source": [
        "file_path = '/content/apple_quality.csv'  # Replace with your actual file path\n",
        "df = pd.read_csv(file_path)\n",
        "df.dropna(inplace=True)\n",
        "df.drop(columns=['A_id'], inplace=True)\n",
        "df['Quality'] = df['Quality'].map({'good': 1, 'bad': 0})\n",
        "\n",
        "X = df.iloc[:,:-1]  #Todas las columnas menos la última\n",
        "y= df.iloc[:,-1] #La última columna\n",
        "\n",
        "X_train, X_test, y_train, y_test = train_test_split(X, y, test_size=0.3, random_state=0, stratify=y)\n",
        "\n",
        "scaler = StandardScaler()\n",
        "X_train = pd.DataFrame(scaler.fit_transform(X_train), columns=X_train.columns)\n",
        "X_test = pd.DataFrame(scaler.transform(X_test), columns=X_test.columns)"
      ],
      "metadata": {
        "id": "V1kNxaHIqS93"
      },
      "execution_count": 12,
      "outputs": []
    },
    {
      "cell_type": "markdown",
      "source": [
        "**3.3 Realizamos la validación cruzada**\n",
        "- Instanciamos en model un clasificador KNN e indicamos la cantidad de vecinos\n",
        "- Instanciamos KFold indicando la cantidad de splits que queremos y si requerimos reordenar los datos.\n",
        "- Usamos la función cross_val_score para entrenar el modelo con los datos de entrenamiento con las indicaciones de la validación cruzada ya establecidas. También indicamos la métrica compartiva.\n",
        "- Imprimimos los resultados y la media de resultados."
      ],
      "metadata": {
        "id": "Cz8pI2D_3908"
      }
    },
    {
      "cell_type": "code",
      "source": [
        "model = KNeighborsClassifier(n_neighbors=9)\n",
        "\n",
        "# Definir el esquema de validación cruzada (por ejemplo, KFold con 5 divisiones)\n",
        "kf = KFold(n_splits=5, shuffle=True, random_state=42)\n",
        "\n",
        "# Realizar validación cruzada y obtener el rendimiento del modelo\n",
        "cross_val_results = cross_val_score(model, X_train, y_train, cv=kf, scoring='f1')\n",
        "\n",
        "# Imprimir los resultados de la validación cruzada\n",
        "print(\"Resultados de validación cruzada:\", cross_val_results)\n",
        "print(\"Precisión promedio:\", cross_val_results.mean())\n"
      ],
      "metadata": {
        "id": "eykwHb3m1C2g",
        "colab": {
          "base_uri": "https://localhost:8080/"
        },
        "outputId": "fd254fe9-7086-4610-c215-5a5a5ba7cc2b"
      },
      "execution_count": 13,
      "outputs": [
        {
          "output_type": "stream",
          "name": "stdout",
          "text": [
            "Resultados de validación cruzada: [0.89726027 0.88440367 0.88041594 0.91882556 0.86778399]\n",
            "Precisión promedio: 0.889737886930626\n"
          ]
        }
      ]
    },
    {
      "cell_type": "markdown",
      "source": [
        "**3.4 Entrenamos el modelo y predecimos en el conjunto de prueba**\n",
        "NOTA: Esta sección fue solo para introducir la función cross_val_score, pero realmente no le sacamos ningún provecho para seleccionar un mejor modelo, eso lo haremos en la siguiente sección."
      ],
      "metadata": {
        "id": "E5uMj3XU4v1M"
      }
    },
    {
      "cell_type": "code",
      "source": [
        "# Ajustamos el modelo a los datos de entrenamiento\n",
        "model.fit(X_train, y_train)\n",
        "y_test_pred = model.predict(X_test)\n",
        "\n",
        "\n",
        "# Evaluar con las métricas exactitud y matriz de confusión\n",
        "f_test = f1_score(y_test, y_test_pred)\n",
        "print(f_test)"
      ],
      "metadata": {
        "colab": {
          "base_uri": "https://localhost:8080/"
        },
        "id": "sePUzFEWujV1",
        "outputId": "5702c19a-b23d-46e4-806e-8fef6b6dd87c"
      },
      "execution_count": 14,
      "outputs": [
        {
          "output_type": "stream",
          "name": "stdout",
          "text": [
            "0.9171452009844133\n"
          ]
        }
      ]
    },
    {
      "cell_type": "markdown",
      "source": [
        "Podemos imprimir los parámetros del modelo"
      ],
      "metadata": {
        "id": "glr4w7BJ5CT8"
      }
    },
    {
      "cell_type": "code",
      "source": [
        "params = model.get_params()\n",
        "\n",
        "# Print the parameters\n",
        "print(\"Model Parameters:\")\n",
        "for param, value in params.items():\n",
        "    print(f\"{param}: {value}\")"
      ],
      "metadata": {
        "colab": {
          "base_uri": "https://localhost:8080/"
        },
        "id": "3aZIy-VevReH",
        "outputId": "b937dd97-6bb7-4fc0-cac7-dac4c32ce13c"
      },
      "execution_count": 15,
      "outputs": [
        {
          "output_type": "stream",
          "name": "stdout",
          "text": [
            "Model Parameters:\n",
            "algorithm: auto\n",
            "leaf_size: 30\n",
            "metric: minkowski\n",
            "metric_params: None\n",
            "n_jobs: None\n",
            "n_neighbors: 9\n",
            "p: 2\n",
            "weights: uniform\n"
          ]
        }
      ]
    },
    {
      "cell_type": "markdown",
      "source": [
        "### **4. Pipeline y Grid Search**\n",
        "\n",
        "En esta sección introducimos dos nuevas herramientas: Pipeline y GridSearch\n",
        "\n",
        "**Pipeline** permite definir una secuencia de transformaciones o procesos que se realizaran sobre un conjunto de datos y obtener un predictor.\n",
        "\n",
        "https://scikit-learn.org/stable/modules/generated/sklearn.pipeline.Pipeline.html\n",
        "\n",
        "**GridSearchCV** ayuda a seleccionar los mejores hiperparámetros a través de una búsqueda sobre una 'rejilla' con todas las combinaciones de hiperparámetros y el uso de validación cruzada\n",
        "\n",
        "https://scikit-learn.org/stable/modules/generated/sklearn.model_selection.GridSearchCV.html\n"
      ],
      "metadata": {
        "id": "abJ2f1rKr1Cb"
      }
    },
    {
      "cell_type": "markdown",
      "source": [
        "**4.1 Importamos las herramientas**"
      ],
      "metadata": {
        "id": "iQqAa9Dv6dWR"
      }
    },
    {
      "cell_type": "code",
      "source": [
        "from sklearn.model_selection import GridSearchCV\n",
        "from sklearn.pipeline import Pipeline"
      ],
      "metadata": {
        "id": "ecOg4mRFr3OL"
      },
      "execution_count": 16,
      "outputs": []
    },
    {
      "cell_type": "markdown",
      "source": [
        "**4.2 Cargamos y separamos los datos**"
      ],
      "metadata": {
        "id": "YrKWyyKk6kPN"
      }
    },
    {
      "cell_type": "code",
      "source": [
        "file_path = '/content/apple_quality.csv'  # Replace with your actual file path\n",
        "df = pd.read_csv(file_path)\n",
        "df.dropna(inplace=True)\n",
        "df.drop(columns=['A_id'], inplace=True)\n",
        "df['Quality'] = df['Quality'].map({'good': 1, 'bad': 0})\n",
        "\n",
        "X = df.iloc[:,:-1]  #Todas las columnas menos la última\n",
        "y= df.iloc[:,-1] #La última columna\n",
        "\n",
        "X_train, X_test, y_train, y_test = train_test_split(X, y, test_size=0.3, random_state=0, stratify=y)"
      ],
      "metadata": {
        "id": "JVd_TZ2zxqNL"
      },
      "execution_count": 18,
      "outputs": []
    },
    {
      "cell_type": "markdown",
      "source": [
        "**4.3 Instanciamos un modelo y un escalador**"
      ],
      "metadata": {
        "id": "9XHUQl3m6rfJ"
      }
    },
    {
      "cell_type": "code",
      "source": [
        "# Define the KNN model\n",
        "knn_model = KNeighborsClassifier()\n",
        "\n",
        "# Define the scaler\n",
        "scaler = StandardScaler()"
      ],
      "metadata": {
        "id": "A9J-2LiT6vbt"
      },
      "execution_count": 19,
      "outputs": []
    },
    {
      "cell_type": "markdown",
      "source": [
        "**4.4 Creamos una Pipeline, indicando la secuencia que se debe seguir**"
      ],
      "metadata": {
        "id": "aE1yuRtk6w94"
      }
    },
    {
      "cell_type": "code",
      "source": [
        "# Create a pipeline with scaler and KNN classifier\n",
        "pipeline = Pipeline([\n",
        "    ('scaler', scaler),\n",
        "    ('knn', knn_model)\n",
        "])"
      ],
      "metadata": {
        "id": "u06wWnAM616R"
      },
      "execution_count": 20,
      "outputs": []
    },
    {
      "cell_type": "markdown",
      "source": [
        "**4.5 Definimos la 'rejilla' de búsqueda de hiperparámetros**"
      ],
      "metadata": {
        "id": "tc_WihvU63TK"
      }
    },
    {
      "cell_type": "code",
      "source": [
        "# Define the hyperparameters you want to search over\n",
        "param_grid = {\n",
        "    'knn__n_neighbors': [1,3, 5, 7, 9,11]\n",
        "}"
      ],
      "metadata": {
        "id": "XRNFN2XS69IY"
      },
      "execution_count": 21,
      "outputs": []
    },
    {
      "cell_type": "markdown",
      "source": [
        "**4.6 Hacemos la validación cruzada**\n",
        "En este caso, en vez de pasar el modelo, pasamos el pipeline definido, es decir, se seguiran los pasos indicados en la definición del pipeline."
      ],
      "metadata": {
        "id": "yXP9beYF6_69"
      }
    },
    {
      "cell_type": "code",
      "source": [
        "# Define the cross-validation scheme\n",
        "kf = KFold(n_splits=5, shuffle=True, random_state=42)\n",
        "\n",
        "# Use GridSearchCV with the pipeline to find the best hyperparameter\n",
        "grid_search = GridSearchCV(pipeline, param_grid, cv=kf, scoring='f1')\n",
        "grid_search.fit(X_train, y_train)\n",
        "\n",
        "# Print the best hyperparameter and its corresponding F1 score\n",
        "print(\"Best hyperparameter k:\", grid_search.best_params_['knn__n_neighbors'])\n",
        "print(\"Best F1 score:\", grid_search.best_score_)\n"
      ],
      "metadata": {
        "colab": {
          "base_uri": "https://localhost:8080/"
        },
        "id": "h8TMpwJFr9nc",
        "outputId": "88478ef5-eb72-4de4-ebb1-f2bfa4c2ab1b"
      },
      "execution_count": 22,
      "outputs": [
        {
          "output_type": "stream",
          "name": "stdout",
          "text": [
            "Best hyperparameter k: 5\n",
            "Best F1 score: 0.8921899918534887\n"
          ]
        }
      ]
    },
    {
      "cell_type": "markdown",
      "source": [
        "**4.7 Nos quedamos con el mejor modelo**"
      ],
      "metadata": {
        "id": "E5vPQKIv7Uoc"
      }
    },
    {
      "cell_type": "code",
      "source": [
        "# Extract the best model from the grid search\n",
        "best_model = grid_search.best_estimator_\n"
      ],
      "metadata": {
        "id": "5mxCSSqO7YU9"
      },
      "execution_count": 23,
      "outputs": []
    },
    {
      "cell_type": "markdown",
      "source": [
        "**4.8 Predecimos y evaluamos en el conjunto de prueba**\n",
        "- Escalamos el conjunto de datos de prueba de acuerdo a los valores ajustados con el mejor modelo\n",
        "- Predecimos"
      ],
      "metadata": {
        "id": "gg1nI46y7a4p"
      }
    },
    {
      "cell_type": "code",
      "source": [
        "# Assuming X_test is your test data\n",
        "X_test_scaled = best_model.named_steps['scaler'].transform(X_test)\n",
        "\n",
        "# Make predictions on the scaled test data\n",
        "y_test_pred = best_model.predict(X_test_scaled)\n",
        "\n",
        "f_test = f1_score(y_test, y_test_pred)\n",
        "print(f_test)\n"
      ],
      "metadata": {
        "colab": {
          "base_uri": "https://localhost:8080/"
        },
        "id": "ITvqzskgxJQp",
        "outputId": "5002fea6-75b2-4497-a206-5ebaa4ce8dac"
      },
      "execution_count": 24,
      "outputs": [
        {
          "output_type": "stream",
          "name": "stdout",
          "text": [
            "0.7477551020408164\n"
          ]
        },
        {
          "output_type": "stream",
          "name": "stderr",
          "text": [
            "/usr/local/lib/python3.10/dist-packages/sklearn/base.py:439: UserWarning: X does not have valid feature names, but StandardScaler was fitted with feature names\n",
            "  warnings.warn(\n"
          ]
        }
      ]
    },
    {
      "cell_type": "markdown",
      "source": [
        "### **5. Ejercicio, Regresión sobre conjunto de datos California Housing**\n",
        "- Importa las clases requeridas de la biblioteca sklearn\n",
        "- Descarga el conjunto de datos en https://www.kaggle.com/datasets/camnugent/california-housing-prices.\n",
        "- Lee la información y el significado de las columnas\n",
        "- Crea vectores de caracteristicas con las columnas (['longitude', 'latitude', 'housing_median_age', 'total_rooms', 'total_bedrooms', 'population', 'households', 'median_income'])\n",
        "- Crea un vector de targets con la columna  'median_house_value'\n",
        "- Separa los datos en entrenamiento y prueba\n",
        "- Crea un pipeline para escalar los datos y para usar un regresor KNN\n",
        "- Define un espacio de búsqueda de hiperparametros con 5 valores diferentes de k y con la estrategia de ponderación de distancias: uniforme y weighted.\n",
        "- Haz una búsqueda de hiperparámetros Grid usando validación cruzada considerando la métrica MAE (o negative MAE). Si puedes probar también con Random Search, mejor.\n",
        "- Con el mejor modelo, predice y obtén la métrica MAE con el conjunto de prueba.\n",
        "- Imprime los parámetros del mejor modelo.\n",
        "\n",
        "NOTA: Para este ejercicio, se formaran equipos de 4 personas."
      ],
      "metadata": {
        "id": "SW1a3ywjGb8q"
      }
    },
    {
      "cell_type": "code",
      "source": [
        "import pandas as pd\n",
        "import matplotlib.pyplot as plt\n",
        "import seaborn as sns\n",
        "#Modelo de clasificación\n",
        "from sklearn.neighbors import KNeighborsRegressor\n",
        "#Datasplit\n",
        "from sklearn.model_selection import train_test_split\n",
        "#Metricas\n",
        "from sklearn.metrics import accuracy_score, confusion_matrix\n",
        "from sklearn.metrics import f1_score, mean_absolute_error\n",
        "#Preprocesamiento\n",
        "from sklearn.preprocessing import StandardScaler\n",
        "from sklearn.preprocessing import MinMaxScaler"
      ],
      "metadata": {
        "id": "BtLHL6OAMkK1"
      },
      "execution_count": 68,
      "outputs": []
    },
    {
      "cell_type": "code",
      "source": [
        "file_path = '/content/housing.csv'  # Replace with your actual file path\n",
        "df = pd.read_csv(file_path)\n",
        "df.dropna(inplace=True)\n",
        "#df['Quality'] = df['Quality'].map({'good': 1, 'bad': 0})\n",
        "#df.drop(columns=['A_id'], inplace=True)\n",
        "df.head()"
      ],
      "metadata": {
        "colab": {
          "base_uri": "https://localhost:8080/",
          "height": 226
        },
        "id": "AcnYwXKnzrym",
        "outputId": "698b664d-e450-4f19-a2df-8258635e609d"
      },
      "execution_count": 69,
      "outputs": [
        {
          "output_type": "execute_result",
          "data": {
            "text/plain": [
              "   longitude  latitude  housing_median_age  total_rooms  total_bedrooms  \\\n",
              "0    -122.23     37.88                41.0        880.0           129.0   \n",
              "1    -122.22     37.86                21.0       7099.0          1106.0   \n",
              "2    -122.24     37.85                52.0       1467.0           190.0   \n",
              "3    -122.25     37.85                52.0       1274.0           235.0   \n",
              "4    -122.25     37.85                52.0       1627.0           280.0   \n",
              "\n",
              "   population  households  median_income  median_house_value ocean_proximity  \n",
              "0       322.0       126.0         8.3252            452600.0        NEAR BAY  \n",
              "1      2401.0      1138.0         8.3014            358500.0        NEAR BAY  \n",
              "2       496.0       177.0         7.2574            352100.0        NEAR BAY  \n",
              "3       558.0       219.0         5.6431            341300.0        NEAR BAY  \n",
              "4       565.0       259.0         3.8462            342200.0        NEAR BAY  "
            ],
            "text/html": [
              "\n",
              "  <div id=\"df-24b8824f-2b37-46c2-89b3-5c382fb085dc\" class=\"colab-df-container\">\n",
              "    <div>\n",
              "<style scoped>\n",
              "    .dataframe tbody tr th:only-of-type {\n",
              "        vertical-align: middle;\n",
              "    }\n",
              "\n",
              "    .dataframe tbody tr th {\n",
              "        vertical-align: top;\n",
              "    }\n",
              "\n",
              "    .dataframe thead th {\n",
              "        text-align: right;\n",
              "    }\n",
              "</style>\n",
              "<table border=\"1\" class=\"dataframe\">\n",
              "  <thead>\n",
              "    <tr style=\"text-align: right;\">\n",
              "      <th></th>\n",
              "      <th>longitude</th>\n",
              "      <th>latitude</th>\n",
              "      <th>housing_median_age</th>\n",
              "      <th>total_rooms</th>\n",
              "      <th>total_bedrooms</th>\n",
              "      <th>population</th>\n",
              "      <th>households</th>\n",
              "      <th>median_income</th>\n",
              "      <th>median_house_value</th>\n",
              "      <th>ocean_proximity</th>\n",
              "    </tr>\n",
              "  </thead>\n",
              "  <tbody>\n",
              "    <tr>\n",
              "      <th>0</th>\n",
              "      <td>-122.23</td>\n",
              "      <td>37.88</td>\n",
              "      <td>41.0</td>\n",
              "      <td>880.0</td>\n",
              "      <td>129.0</td>\n",
              "      <td>322.0</td>\n",
              "      <td>126.0</td>\n",
              "      <td>8.3252</td>\n",
              "      <td>452600.0</td>\n",
              "      <td>NEAR BAY</td>\n",
              "    </tr>\n",
              "    <tr>\n",
              "      <th>1</th>\n",
              "      <td>-122.22</td>\n",
              "      <td>37.86</td>\n",
              "      <td>21.0</td>\n",
              "      <td>7099.0</td>\n",
              "      <td>1106.0</td>\n",
              "      <td>2401.0</td>\n",
              "      <td>1138.0</td>\n",
              "      <td>8.3014</td>\n",
              "      <td>358500.0</td>\n",
              "      <td>NEAR BAY</td>\n",
              "    </tr>\n",
              "    <tr>\n",
              "      <th>2</th>\n",
              "      <td>-122.24</td>\n",
              "      <td>37.85</td>\n",
              "      <td>52.0</td>\n",
              "      <td>1467.0</td>\n",
              "      <td>190.0</td>\n",
              "      <td>496.0</td>\n",
              "      <td>177.0</td>\n",
              "      <td>7.2574</td>\n",
              "      <td>352100.0</td>\n",
              "      <td>NEAR BAY</td>\n",
              "    </tr>\n",
              "    <tr>\n",
              "      <th>3</th>\n",
              "      <td>-122.25</td>\n",
              "      <td>37.85</td>\n",
              "      <td>52.0</td>\n",
              "      <td>1274.0</td>\n",
              "      <td>235.0</td>\n",
              "      <td>558.0</td>\n",
              "      <td>219.0</td>\n",
              "      <td>5.6431</td>\n",
              "      <td>341300.0</td>\n",
              "      <td>NEAR BAY</td>\n",
              "    </tr>\n",
              "    <tr>\n",
              "      <th>4</th>\n",
              "      <td>-122.25</td>\n",
              "      <td>37.85</td>\n",
              "      <td>52.0</td>\n",
              "      <td>1627.0</td>\n",
              "      <td>280.0</td>\n",
              "      <td>565.0</td>\n",
              "      <td>259.0</td>\n",
              "      <td>3.8462</td>\n",
              "      <td>342200.0</td>\n",
              "      <td>NEAR BAY</td>\n",
              "    </tr>\n",
              "  </tbody>\n",
              "</table>\n",
              "</div>\n",
              "    <div class=\"colab-df-buttons\">\n",
              "\n",
              "  <div class=\"colab-df-container\">\n",
              "    <button class=\"colab-df-convert\" onclick=\"convertToInteractive('df-24b8824f-2b37-46c2-89b3-5c382fb085dc')\"\n",
              "            title=\"Convert this dataframe to an interactive table.\"\n",
              "            style=\"display:none;\">\n",
              "\n",
              "  <svg xmlns=\"http://www.w3.org/2000/svg\" height=\"24px\" viewBox=\"0 -960 960 960\">\n",
              "    <path d=\"M120-120v-720h720v720H120Zm60-500h600v-160H180v160Zm220 220h160v-160H400v160Zm0 220h160v-160H400v160ZM180-400h160v-160H180v160Zm440 0h160v-160H620v160ZM180-180h160v-160H180v160Zm440 0h160v-160H620v160Z\"/>\n",
              "  </svg>\n",
              "    </button>\n",
              "\n",
              "  <style>\n",
              "    .colab-df-container {\n",
              "      display:flex;\n",
              "      gap: 12px;\n",
              "    }\n",
              "\n",
              "    .colab-df-convert {\n",
              "      background-color: #E8F0FE;\n",
              "      border: none;\n",
              "      border-radius: 50%;\n",
              "      cursor: pointer;\n",
              "      display: none;\n",
              "      fill: #1967D2;\n",
              "      height: 32px;\n",
              "      padding: 0 0 0 0;\n",
              "      width: 32px;\n",
              "    }\n",
              "\n",
              "    .colab-df-convert:hover {\n",
              "      background-color: #E2EBFA;\n",
              "      box-shadow: 0px 1px 2px rgba(60, 64, 67, 0.3), 0px 1px 3px 1px rgba(60, 64, 67, 0.15);\n",
              "      fill: #174EA6;\n",
              "    }\n",
              "\n",
              "    .colab-df-buttons div {\n",
              "      margin-bottom: 4px;\n",
              "    }\n",
              "\n",
              "    [theme=dark] .colab-df-convert {\n",
              "      background-color: #3B4455;\n",
              "      fill: #D2E3FC;\n",
              "    }\n",
              "\n",
              "    [theme=dark] .colab-df-convert:hover {\n",
              "      background-color: #434B5C;\n",
              "      box-shadow: 0px 1px 3px 1px rgba(0, 0, 0, 0.15);\n",
              "      filter: drop-shadow(0px 1px 2px rgba(0, 0, 0, 0.3));\n",
              "      fill: #FFFFFF;\n",
              "    }\n",
              "  </style>\n",
              "\n",
              "    <script>\n",
              "      const buttonEl =\n",
              "        document.querySelector('#df-24b8824f-2b37-46c2-89b3-5c382fb085dc button.colab-df-convert');\n",
              "      buttonEl.style.display =\n",
              "        google.colab.kernel.accessAllowed ? 'block' : 'none';\n",
              "\n",
              "      async function convertToInteractive(key) {\n",
              "        const element = document.querySelector('#df-24b8824f-2b37-46c2-89b3-5c382fb085dc');\n",
              "        const dataTable =\n",
              "          await google.colab.kernel.invokeFunction('convertToInteractive',\n",
              "                                                    [key], {});\n",
              "        if (!dataTable) return;\n",
              "\n",
              "        const docLinkHtml = 'Like what you see? Visit the ' +\n",
              "          '<a target=\"_blank\" href=https://colab.research.google.com/notebooks/data_table.ipynb>data table notebook</a>'\n",
              "          + ' to learn more about interactive tables.';\n",
              "        element.innerHTML = '';\n",
              "        dataTable['output_type'] = 'display_data';\n",
              "        await google.colab.output.renderOutput(dataTable, element);\n",
              "        const docLink = document.createElement('div');\n",
              "        docLink.innerHTML = docLinkHtml;\n",
              "        element.appendChild(docLink);\n",
              "      }\n",
              "    </script>\n",
              "  </div>\n",
              "\n",
              "\n",
              "<div id=\"df-8aeb2dc9-0a53-4bb6-b97f-0de592b601df\">\n",
              "  <button class=\"colab-df-quickchart\" onclick=\"quickchart('df-8aeb2dc9-0a53-4bb6-b97f-0de592b601df')\"\n",
              "            title=\"Suggest charts\"\n",
              "            style=\"display:none;\">\n",
              "\n",
              "<svg xmlns=\"http://www.w3.org/2000/svg\" height=\"24px\"viewBox=\"0 0 24 24\"\n",
              "     width=\"24px\">\n",
              "    <g>\n",
              "        <path d=\"M19 3H5c-1.1 0-2 .9-2 2v14c0 1.1.9 2 2 2h14c1.1 0 2-.9 2-2V5c0-1.1-.9-2-2-2zM9 17H7v-7h2v7zm4 0h-2V7h2v10zm4 0h-2v-4h2v4z\"/>\n",
              "    </g>\n",
              "</svg>\n",
              "  </button>\n",
              "\n",
              "<style>\n",
              "  .colab-df-quickchart {\n",
              "      --bg-color: #E8F0FE;\n",
              "      --fill-color: #1967D2;\n",
              "      --hover-bg-color: #E2EBFA;\n",
              "      --hover-fill-color: #174EA6;\n",
              "      --disabled-fill-color: #AAA;\n",
              "      --disabled-bg-color: #DDD;\n",
              "  }\n",
              "\n",
              "  [theme=dark] .colab-df-quickchart {\n",
              "      --bg-color: #3B4455;\n",
              "      --fill-color: #D2E3FC;\n",
              "      --hover-bg-color: #434B5C;\n",
              "      --hover-fill-color: #FFFFFF;\n",
              "      --disabled-bg-color: #3B4455;\n",
              "      --disabled-fill-color: #666;\n",
              "  }\n",
              "\n",
              "  .colab-df-quickchart {\n",
              "    background-color: var(--bg-color);\n",
              "    border: none;\n",
              "    border-radius: 50%;\n",
              "    cursor: pointer;\n",
              "    display: none;\n",
              "    fill: var(--fill-color);\n",
              "    height: 32px;\n",
              "    padding: 0;\n",
              "    width: 32px;\n",
              "  }\n",
              "\n",
              "  .colab-df-quickchart:hover {\n",
              "    background-color: var(--hover-bg-color);\n",
              "    box-shadow: 0 1px 2px rgba(60, 64, 67, 0.3), 0 1px 3px 1px rgba(60, 64, 67, 0.15);\n",
              "    fill: var(--button-hover-fill-color);\n",
              "  }\n",
              "\n",
              "  .colab-df-quickchart-complete:disabled,\n",
              "  .colab-df-quickchart-complete:disabled:hover {\n",
              "    background-color: var(--disabled-bg-color);\n",
              "    fill: var(--disabled-fill-color);\n",
              "    box-shadow: none;\n",
              "  }\n",
              "\n",
              "  .colab-df-spinner {\n",
              "    border: 2px solid var(--fill-color);\n",
              "    border-color: transparent;\n",
              "    border-bottom-color: var(--fill-color);\n",
              "    animation:\n",
              "      spin 1s steps(1) infinite;\n",
              "  }\n",
              "\n",
              "  @keyframes spin {\n",
              "    0% {\n",
              "      border-color: transparent;\n",
              "      border-bottom-color: var(--fill-color);\n",
              "      border-left-color: var(--fill-color);\n",
              "    }\n",
              "    20% {\n",
              "      border-color: transparent;\n",
              "      border-left-color: var(--fill-color);\n",
              "      border-top-color: var(--fill-color);\n",
              "    }\n",
              "    30% {\n",
              "      border-color: transparent;\n",
              "      border-left-color: var(--fill-color);\n",
              "      border-top-color: var(--fill-color);\n",
              "      border-right-color: var(--fill-color);\n",
              "    }\n",
              "    40% {\n",
              "      border-color: transparent;\n",
              "      border-right-color: var(--fill-color);\n",
              "      border-top-color: var(--fill-color);\n",
              "    }\n",
              "    60% {\n",
              "      border-color: transparent;\n",
              "      border-right-color: var(--fill-color);\n",
              "    }\n",
              "    80% {\n",
              "      border-color: transparent;\n",
              "      border-right-color: var(--fill-color);\n",
              "      border-bottom-color: var(--fill-color);\n",
              "    }\n",
              "    90% {\n",
              "      border-color: transparent;\n",
              "      border-bottom-color: var(--fill-color);\n",
              "    }\n",
              "  }\n",
              "</style>\n",
              "\n",
              "  <script>\n",
              "    async function quickchart(key) {\n",
              "      const quickchartButtonEl =\n",
              "        document.querySelector('#' + key + ' button');\n",
              "      quickchartButtonEl.disabled = true;  // To prevent multiple clicks.\n",
              "      quickchartButtonEl.classList.add('colab-df-spinner');\n",
              "      try {\n",
              "        const charts = await google.colab.kernel.invokeFunction(\n",
              "            'suggestCharts', [key], {});\n",
              "      } catch (error) {\n",
              "        console.error('Error during call to suggestCharts:', error);\n",
              "      }\n",
              "      quickchartButtonEl.classList.remove('colab-df-spinner');\n",
              "      quickchartButtonEl.classList.add('colab-df-quickchart-complete');\n",
              "    }\n",
              "    (() => {\n",
              "      let quickchartButtonEl =\n",
              "        document.querySelector('#df-8aeb2dc9-0a53-4bb6-b97f-0de592b601df button');\n",
              "      quickchartButtonEl.style.display =\n",
              "        google.colab.kernel.accessAllowed ? 'block' : 'none';\n",
              "    })();\n",
              "  </script>\n",
              "</div>\n",
              "\n",
              "    </div>\n",
              "  </div>\n"
            ]
          },
          "metadata": {},
          "execution_count": 69
        }
      ]
    },
    {
      "cell_type": "code",
      "source": [
        "X = df[['longitude', 'latitude', 'housing_median_age', 'total_rooms', 'total_bedrooms', 'population', 'households', 'median_income']]\n",
        "y = df['median_house_value']\n",
        "X_train, X_test, y_train, y_test = train_test_split(X, y, test_size=0.3, random_state=0)"
      ],
      "metadata": {
        "id": "1dKI2yIr1cm9"
      },
      "execution_count": 70,
      "outputs": []
    },
    {
      "cell_type": "code",
      "source": [
        "# Define the KNN model\n",
        "knn_model = KNeighborsRegressor()\n",
        "\n",
        "# Define the scaler\n",
        "scaler = StandardScaler()"
      ],
      "metadata": {
        "id": "1CmMX2xk3Nkx"
      },
      "execution_count": 71,
      "outputs": []
    },
    {
      "cell_type": "code",
      "source": [
        "# Create a pipeline with scaler and KNN classifier\n",
        "pipeline = Pipeline([\n",
        "    ('scaler', scaler),\n",
        "    ('knn', knn_model)\n",
        "])"
      ],
      "metadata": {
        "id": "rJZAa0U63Xc3"
      },
      "execution_count": 72,
      "outputs": []
    },
    {
      "cell_type": "code",
      "source": [
        "param_grid = {\n",
        "    'knn__n_neighbors': [3, 5, 7, 9,11],\n",
        "    'knn__weights': ['uniform','distance']\n",
        "}"
      ],
      "metadata": {
        "id": "l41dY5cr32kV"
      },
      "execution_count": 73,
      "outputs": []
    },
    {
      "cell_type": "markdown",
      "source": [],
      "metadata": {
        "id": "f8zG5UCgBrBM"
      }
    },
    {
      "cell_type": "code",
      "source": [
        "# Define the cross-validation scheme\n",
        "kf = KFold(n_splits=5, shuffle=True, random_state=42)\n",
        "\n",
        "# Use GridSearchCV with the pipeline to find the best hyperparameter\n",
        "grid_search = GridSearchCV(pipeline, param_grid, cv=kf, scoring='neg_mean_absolute_error')\n",
        "grid_search.fit(X_train, y_train)\n",
        "\n",
        "# Print the best hyperparameter and its corresponding F1 score\n",
        "print(\"Best hyperparameter k:\", grid_search.best_params_['knn__n_neighbors'])\n",
        "print(\"Best hyperparameter w:\", grid_search.best_params_['knn__weights'])\n",
        "print(\"Best neg mae score:\", grid_search.best_score_)\n"
      ],
      "metadata": {
        "colab": {
          "base_uri": "https://localhost:8080/"
        },
        "id": "7sQubY9E-OTZ",
        "outputId": "957c5985-86dc-4b14-9a39-fb7f2bc8cba7"
      },
      "execution_count": 74,
      "outputs": [
        {
          "output_type": "stream",
          "name": "stdout",
          "text": [
            "Best hyperparameter k: 7\n",
            "Best hyperparameter w: distance\n",
            "Best neg mae score: -41884.354155256246\n"
          ]
        }
      ]
    },
    {
      "cell_type": "code",
      "source": [
        "# Extract the best model from the grid search\n",
        "best_model = grid_search.best_estimator_"
      ],
      "metadata": {
        "id": "nmVqYJSZCmmr"
      },
      "execution_count": 88,
      "outputs": []
    },
    {
      "cell_type": "code",
      "source": [
        "# Assuming X_test is your test data\n",
        "X_test_scaled = best_model.named_steps['scaler'].transform(X_test)\n",
        "\n",
        "# Make predictions on the scaled test data\n",
        "y_test_pred = best_model.predict(X_test_scaled)\n",
        "\n",
        "mae_test = mean_absolute_error(y_test, y_test_pred)\n",
        "print(mae_test)\n"
      ],
      "metadata": {
        "colab": {
          "base_uri": "https://localhost:8080/"
        },
        "id": "sI71s4VuCoiO",
        "outputId": "d43aeefb-a38a-49e6-918b-d5707337a552"
      },
      "execution_count": 90,
      "outputs": [
        {
          "output_type": "stream",
          "name": "stdout",
          "text": [
            "126352.96103691054\n"
          ]
        },
        {
          "output_type": "stream",
          "name": "stderr",
          "text": [
            "/usr/local/lib/python3.10/dist-packages/sklearn/base.py:439: UserWarning: X does not have valid feature names, but StandardScaler was fitted with feature names\n",
            "  warnings.warn(\n"
          ]
        }
      ]
    }
  ]
}