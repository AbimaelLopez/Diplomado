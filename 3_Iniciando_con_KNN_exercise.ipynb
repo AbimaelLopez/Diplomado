{
  "nbformat": 4,
  "nbformat_minor": 0,
  "metadata": {
    "colab": {
      "provenance": [],
      "include_colab_link": true
    },
    "kernelspec": {
      "name": "python3",
      "display_name": "Python 3"
    },
    "language_info": {
      "name": "python"
    }
  },
  "cells": [
    {
      "cell_type": "markdown",
      "metadata": {
        "id": "view-in-github",
        "colab_type": "text"
      },
      "source": [
        "<a href=\"https://colab.research.google.com/github/AbimaelLopez/Diplomado/blob/main/3_Iniciando_con_KNN_exercise.ipynb\" target=\"_parent\"><img src=\"https://colab.research.google.com/assets/colab-badge.svg\" alt=\"Open In Colab\"/></a>"
      ]
    },
    {
      "cell_type": "markdown",
      "source": [
        "# **3 Iniciando con KNN<br>**\n",
        "\n",
        "### Objetivo\n",
        "Que la o el estudiante comprenda los elementos básicos que componen al algoritmo supervisado K-Nearest Neighbors para un problema de clasificación.\n",
        "\n",
        "### Descripción del procedimiento a seguir\n",
        "- Se carga el conjunto de datos \"fewDataKNN\" <br>\n",
        "- Se define un punto nuevo al que se le desea predecir su clase.\n",
        "- Se crea una función para graficar los puntos del dataset y el nuevo.\n",
        "- Se crea una función para encontrar los vecinos más cercanos.\n",
        "- Se define una función para hacer la predicción.\n",
        "- Se utiliza una función de KNN de la biblioteca Sklearn y se comparan resultados.\n",
        "- Se deja como ejercicio cambiar la distancia utilizada.\n",
        "\n",
        "### Datos\n",
        "**Profesora**: Dra. Jessica Beltrán Márquez<br>\n",
        "Maestría en Ciencia de Datos y Optimización <br>\n",
        "Centro de Investigación en Matemáticas Aplicadas <br>\n",
        "Universidad Autónoma de Coahuila\n",
        "\n",
        "\n",
        "### Bibliografía\n",
        "1. https://pandas.pydata.org/\n",
        "2. https://matplotlib.org/\n",
        "3. https://scipy.org/"
      ],
      "metadata": {
        "id": "44ENPSFOHV1C"
      }
    },
    {
      "cell_type": "markdown",
      "source": [
        "### **1. Importar bibliotecas**\n",
        "Para esta práctica se presenta la biblioteca Scipy [https://scipy.org/] enfocada al aprendizaje automático en Python."
      ],
      "metadata": {
        "id": "193J6yEQH4Xt"
      }
    },
    {
      "cell_type": "code",
      "execution_count": null,
      "metadata": {
        "id": "uDH4SV5YVIwo"
      },
      "outputs": [],
      "source": [
        "import numpy as np\n",
        "import pandas as pd\n",
        "import matplotlib.pyplot as plt\n",
        "from scipy.spatial.distance import euclidean   #Importamos la distancia Euclideana"
      ]
    },
    {
      "cell_type": "markdown",
      "source": [
        "### **2. Carga de datos**\n",
        "- Leemos el archivo \"fewDataKNN.csv\"\n",
        "\n",
        "Este es un conjunto de datos sintético que cuenta con 12 ejemplos bidimensionales $\\{x_i,y_i,i=0,...,11\\} $ que pertenecen a dos clases $\\{C1,C2\\}$.\n",
        "\n",
        "<br>\n",
        "\n",
        "NOTA: En este ejemplo, todo el DataFrame es nuestro conjunto de datos de entrenamiento. El dato de prueba lo generamos más adelante. Este es un ejemplo didáctico para entender el funcionamiento de KNN."
      ],
      "metadata": {
        "id": "LRI3jbwFIPO5"
      }
    },
    {
      "cell_type": "code",
      "source": [
        "df = pd.read_csv('/content/fewDataKNN.csv')\n",
        "df"
      ],
      "metadata": {
        "colab": {
          "base_uri": "https://localhost:8080/",
          "height": 425
        },
        "id": "s9smvZKFVQjM",
        "outputId": "b7bb09c4-51d3-4584-e5e5-712cc84be468"
      },
      "execution_count": null,
      "outputs": [
        {
          "output_type": "execute_result",
          "data": {
            "text/plain": [
              "           x         y Class\n",
              "0   0.350135  0.605580    C1\n",
              "1   0.376398  0.637072    C1\n",
              "2   0.410869  0.597293    C1\n",
              "3   0.302533  0.632099    C1\n",
              "4   0.337004  0.690110    C1\n",
              "5   0.479810  0.633757    C1\n",
              "6   0.312382  0.598950    C2\n",
              "7   0.335362  0.572431    C2\n",
              "8   0.269704  0.602265    C2\n",
              "9   0.381323  0.562486    C2\n",
              "10  0.438774  0.557514    C2\n",
              "11  0.355060  0.511105    C2"
            ],
            "text/html": [
              "\n",
              "  <div id=\"df-4e2e17b4-c6a1-4e3b-ab9b-69f023cc98a5\" class=\"colab-df-container\">\n",
              "    <div>\n",
              "<style scoped>\n",
              "    .dataframe tbody tr th:only-of-type {\n",
              "        vertical-align: middle;\n",
              "    }\n",
              "\n",
              "    .dataframe tbody tr th {\n",
              "        vertical-align: top;\n",
              "    }\n",
              "\n",
              "    .dataframe thead th {\n",
              "        text-align: right;\n",
              "    }\n",
              "</style>\n",
              "<table border=\"1\" class=\"dataframe\">\n",
              "  <thead>\n",
              "    <tr style=\"text-align: right;\">\n",
              "      <th></th>\n",
              "      <th>x</th>\n",
              "      <th>y</th>\n",
              "      <th>Class</th>\n",
              "    </tr>\n",
              "  </thead>\n",
              "  <tbody>\n",
              "    <tr>\n",
              "      <th>0</th>\n",
              "      <td>0.350135</td>\n",
              "      <td>0.605580</td>\n",
              "      <td>C1</td>\n",
              "    </tr>\n",
              "    <tr>\n",
              "      <th>1</th>\n",
              "      <td>0.376398</td>\n",
              "      <td>0.637072</td>\n",
              "      <td>C1</td>\n",
              "    </tr>\n",
              "    <tr>\n",
              "      <th>2</th>\n",
              "      <td>0.410869</td>\n",
              "      <td>0.597293</td>\n",
              "      <td>C1</td>\n",
              "    </tr>\n",
              "    <tr>\n",
              "      <th>3</th>\n",
              "      <td>0.302533</td>\n",
              "      <td>0.632099</td>\n",
              "      <td>C1</td>\n",
              "    </tr>\n",
              "    <tr>\n",
              "      <th>4</th>\n",
              "      <td>0.337004</td>\n",
              "      <td>0.690110</td>\n",
              "      <td>C1</td>\n",
              "    </tr>\n",
              "    <tr>\n",
              "      <th>5</th>\n",
              "      <td>0.479810</td>\n",
              "      <td>0.633757</td>\n",
              "      <td>C1</td>\n",
              "    </tr>\n",
              "    <tr>\n",
              "      <th>6</th>\n",
              "      <td>0.312382</td>\n",
              "      <td>0.598950</td>\n",
              "      <td>C2</td>\n",
              "    </tr>\n",
              "    <tr>\n",
              "      <th>7</th>\n",
              "      <td>0.335362</td>\n",
              "      <td>0.572431</td>\n",
              "      <td>C2</td>\n",
              "    </tr>\n",
              "    <tr>\n",
              "      <th>8</th>\n",
              "      <td>0.269704</td>\n",
              "      <td>0.602265</td>\n",
              "      <td>C2</td>\n",
              "    </tr>\n",
              "    <tr>\n",
              "      <th>9</th>\n",
              "      <td>0.381323</td>\n",
              "      <td>0.562486</td>\n",
              "      <td>C2</td>\n",
              "    </tr>\n",
              "    <tr>\n",
              "      <th>10</th>\n",
              "      <td>0.438774</td>\n",
              "      <td>0.557514</td>\n",
              "      <td>C2</td>\n",
              "    </tr>\n",
              "    <tr>\n",
              "      <th>11</th>\n",
              "      <td>0.355060</td>\n",
              "      <td>0.511105</td>\n",
              "      <td>C2</td>\n",
              "    </tr>\n",
              "  </tbody>\n",
              "</table>\n",
              "</div>\n",
              "    <div class=\"colab-df-buttons\">\n",
              "\n",
              "  <div class=\"colab-df-container\">\n",
              "    <button class=\"colab-df-convert\" onclick=\"convertToInteractive('df-4e2e17b4-c6a1-4e3b-ab9b-69f023cc98a5')\"\n",
              "            title=\"Convert this dataframe to an interactive table.\"\n",
              "            style=\"display:none;\">\n",
              "\n",
              "  <svg xmlns=\"http://www.w3.org/2000/svg\" height=\"24px\" viewBox=\"0 -960 960 960\">\n",
              "    <path d=\"M120-120v-720h720v720H120Zm60-500h600v-160H180v160Zm220 220h160v-160H400v160Zm0 220h160v-160H400v160ZM180-400h160v-160H180v160Zm440 0h160v-160H620v160ZM180-180h160v-160H180v160Zm440 0h160v-160H620v160Z\"/>\n",
              "  </svg>\n",
              "    </button>\n",
              "\n",
              "  <style>\n",
              "    .colab-df-container {\n",
              "      display:flex;\n",
              "      gap: 12px;\n",
              "    }\n",
              "\n",
              "    .colab-df-convert {\n",
              "      background-color: #E8F0FE;\n",
              "      border: none;\n",
              "      border-radius: 50%;\n",
              "      cursor: pointer;\n",
              "      display: none;\n",
              "      fill: #1967D2;\n",
              "      height: 32px;\n",
              "      padding: 0 0 0 0;\n",
              "      width: 32px;\n",
              "    }\n",
              "\n",
              "    .colab-df-convert:hover {\n",
              "      background-color: #E2EBFA;\n",
              "      box-shadow: 0px 1px 2px rgba(60, 64, 67, 0.3), 0px 1px 3px 1px rgba(60, 64, 67, 0.15);\n",
              "      fill: #174EA6;\n",
              "    }\n",
              "\n",
              "    .colab-df-buttons div {\n",
              "      margin-bottom: 4px;\n",
              "    }\n",
              "\n",
              "    [theme=dark] .colab-df-convert {\n",
              "      background-color: #3B4455;\n",
              "      fill: #D2E3FC;\n",
              "    }\n",
              "\n",
              "    [theme=dark] .colab-df-convert:hover {\n",
              "      background-color: #434B5C;\n",
              "      box-shadow: 0px 1px 3px 1px rgba(0, 0, 0, 0.15);\n",
              "      filter: drop-shadow(0px 1px 2px rgba(0, 0, 0, 0.3));\n",
              "      fill: #FFFFFF;\n",
              "    }\n",
              "  </style>\n",
              "\n",
              "    <script>\n",
              "      const buttonEl =\n",
              "        document.querySelector('#df-4e2e17b4-c6a1-4e3b-ab9b-69f023cc98a5 button.colab-df-convert');\n",
              "      buttonEl.style.display =\n",
              "        google.colab.kernel.accessAllowed ? 'block' : 'none';\n",
              "\n",
              "      async function convertToInteractive(key) {\n",
              "        const element = document.querySelector('#df-4e2e17b4-c6a1-4e3b-ab9b-69f023cc98a5');\n",
              "        const dataTable =\n",
              "          await google.colab.kernel.invokeFunction('convertToInteractive',\n",
              "                                                    [key], {});\n",
              "        if (!dataTable) return;\n",
              "\n",
              "        const docLinkHtml = 'Like what you see? Visit the ' +\n",
              "          '<a target=\"_blank\" href=https://colab.research.google.com/notebooks/data_table.ipynb>data table notebook</a>'\n",
              "          + ' to learn more about interactive tables.';\n",
              "        element.innerHTML = '';\n",
              "        dataTable['output_type'] = 'display_data';\n",
              "        await google.colab.output.renderOutput(dataTable, element);\n",
              "        const docLink = document.createElement('div');\n",
              "        docLink.innerHTML = docLinkHtml;\n",
              "        element.appendChild(docLink);\n",
              "      }\n",
              "    </script>\n",
              "  </div>\n",
              "\n",
              "\n",
              "<div id=\"df-ffab4393-4c49-4fbf-8792-08e1a132b416\">\n",
              "  <button class=\"colab-df-quickchart\" onclick=\"quickchart('df-ffab4393-4c49-4fbf-8792-08e1a132b416')\"\n",
              "            title=\"Suggest charts\"\n",
              "            style=\"display:none;\">\n",
              "\n",
              "<svg xmlns=\"http://www.w3.org/2000/svg\" height=\"24px\"viewBox=\"0 0 24 24\"\n",
              "     width=\"24px\">\n",
              "    <g>\n",
              "        <path d=\"M19 3H5c-1.1 0-2 .9-2 2v14c0 1.1.9 2 2 2h14c1.1 0 2-.9 2-2V5c0-1.1-.9-2-2-2zM9 17H7v-7h2v7zm4 0h-2V7h2v10zm4 0h-2v-4h2v4z\"/>\n",
              "    </g>\n",
              "</svg>\n",
              "  </button>\n",
              "\n",
              "<style>\n",
              "  .colab-df-quickchart {\n",
              "      --bg-color: #E8F0FE;\n",
              "      --fill-color: #1967D2;\n",
              "      --hover-bg-color: #E2EBFA;\n",
              "      --hover-fill-color: #174EA6;\n",
              "      --disabled-fill-color: #AAA;\n",
              "      --disabled-bg-color: #DDD;\n",
              "  }\n",
              "\n",
              "  [theme=dark] .colab-df-quickchart {\n",
              "      --bg-color: #3B4455;\n",
              "      --fill-color: #D2E3FC;\n",
              "      --hover-bg-color: #434B5C;\n",
              "      --hover-fill-color: #FFFFFF;\n",
              "      --disabled-bg-color: #3B4455;\n",
              "      --disabled-fill-color: #666;\n",
              "  }\n",
              "\n",
              "  .colab-df-quickchart {\n",
              "    background-color: var(--bg-color);\n",
              "    border: none;\n",
              "    border-radius: 50%;\n",
              "    cursor: pointer;\n",
              "    display: none;\n",
              "    fill: var(--fill-color);\n",
              "    height: 32px;\n",
              "    padding: 0;\n",
              "    width: 32px;\n",
              "  }\n",
              "\n",
              "  .colab-df-quickchart:hover {\n",
              "    background-color: var(--hover-bg-color);\n",
              "    box-shadow: 0 1px 2px rgba(60, 64, 67, 0.3), 0 1px 3px 1px rgba(60, 64, 67, 0.15);\n",
              "    fill: var(--button-hover-fill-color);\n",
              "  }\n",
              "\n",
              "  .colab-df-quickchart-complete:disabled,\n",
              "  .colab-df-quickchart-complete:disabled:hover {\n",
              "    background-color: var(--disabled-bg-color);\n",
              "    fill: var(--disabled-fill-color);\n",
              "    box-shadow: none;\n",
              "  }\n",
              "\n",
              "  .colab-df-spinner {\n",
              "    border: 2px solid var(--fill-color);\n",
              "    border-color: transparent;\n",
              "    border-bottom-color: var(--fill-color);\n",
              "    animation:\n",
              "      spin 1s steps(1) infinite;\n",
              "  }\n",
              "\n",
              "  @keyframes spin {\n",
              "    0% {\n",
              "      border-color: transparent;\n",
              "      border-bottom-color: var(--fill-color);\n",
              "      border-left-color: var(--fill-color);\n",
              "    }\n",
              "    20% {\n",
              "      border-color: transparent;\n",
              "      border-left-color: var(--fill-color);\n",
              "      border-top-color: var(--fill-color);\n",
              "    }\n",
              "    30% {\n",
              "      border-color: transparent;\n",
              "      border-left-color: var(--fill-color);\n",
              "      border-top-color: var(--fill-color);\n",
              "      border-right-color: var(--fill-color);\n",
              "    }\n",
              "    40% {\n",
              "      border-color: transparent;\n",
              "      border-right-color: var(--fill-color);\n",
              "      border-top-color: var(--fill-color);\n",
              "    }\n",
              "    60% {\n",
              "      border-color: transparent;\n",
              "      border-right-color: var(--fill-color);\n",
              "    }\n",
              "    80% {\n",
              "      border-color: transparent;\n",
              "      border-right-color: var(--fill-color);\n",
              "      border-bottom-color: var(--fill-color);\n",
              "    }\n",
              "    90% {\n",
              "      border-color: transparent;\n",
              "      border-bottom-color: var(--fill-color);\n",
              "    }\n",
              "  }\n",
              "</style>\n",
              "\n",
              "  <script>\n",
              "    async function quickchart(key) {\n",
              "      const quickchartButtonEl =\n",
              "        document.querySelector('#' + key + ' button');\n",
              "      quickchartButtonEl.disabled = true;  // To prevent multiple clicks.\n",
              "      quickchartButtonEl.classList.add('colab-df-spinner');\n",
              "      try {\n",
              "        const charts = await google.colab.kernel.invokeFunction(\n",
              "            'suggestCharts', [key], {});\n",
              "      } catch (error) {\n",
              "        console.error('Error during call to suggestCharts:', error);\n",
              "      }\n",
              "      quickchartButtonEl.classList.remove('colab-df-spinner');\n",
              "      quickchartButtonEl.classList.add('colab-df-quickchart-complete');\n",
              "    }\n",
              "    (() => {\n",
              "      let quickchartButtonEl =\n",
              "        document.querySelector('#df-ffab4393-4c49-4fbf-8792-08e1a132b416 button');\n",
              "      quickchartButtonEl.style.display =\n",
              "        google.colab.kernel.accessAllowed ? 'block' : 'none';\n",
              "    })();\n",
              "  </script>\n",
              "</div>\n",
              "\n",
              "  <div id=\"id_f4a24c37-0949-4acd-b3da-8a390fb48b10\">\n",
              "    <style>\n",
              "      .colab-df-generate {\n",
              "        background-color: #E8F0FE;\n",
              "        border: none;\n",
              "        border-radius: 50%;\n",
              "        cursor: pointer;\n",
              "        display: none;\n",
              "        fill: #1967D2;\n",
              "        height: 32px;\n",
              "        padding: 0 0 0 0;\n",
              "        width: 32px;\n",
              "      }\n",
              "\n",
              "      .colab-df-generate:hover {\n",
              "        background-color: #E2EBFA;\n",
              "        box-shadow: 0px 1px 2px rgba(60, 64, 67, 0.3), 0px 1px 3px 1px rgba(60, 64, 67, 0.15);\n",
              "        fill: #174EA6;\n",
              "      }\n",
              "\n",
              "      [theme=dark] .colab-df-generate {\n",
              "        background-color: #3B4455;\n",
              "        fill: #D2E3FC;\n",
              "      }\n",
              "\n",
              "      [theme=dark] .colab-df-generate:hover {\n",
              "        background-color: #434B5C;\n",
              "        box-shadow: 0px 1px 3px 1px rgba(0, 0, 0, 0.15);\n",
              "        filter: drop-shadow(0px 1px 2px rgba(0, 0, 0, 0.3));\n",
              "        fill: #FFFFFF;\n",
              "      }\n",
              "    </style>\n",
              "    <button class=\"colab-df-generate\" onclick=\"generateWithVariable('df')\"\n",
              "            title=\"Generate code using this dataframe.\"\n",
              "            style=\"display:none;\">\n",
              "\n",
              "  <svg xmlns=\"http://www.w3.org/2000/svg\" height=\"24px\"viewBox=\"0 0 24 24\"\n",
              "       width=\"24px\">\n",
              "    <path d=\"M7,19H8.4L18.45,9,17,7.55,7,17.6ZM5,21V16.75L18.45,3.32a2,2,0,0,1,2.83,0l1.4,1.43a1.91,1.91,0,0,1,.58,1.4,1.91,1.91,0,0,1-.58,1.4L9.25,21ZM18.45,9,17,7.55Zm-12,3A5.31,5.31,0,0,0,4.9,8.1,5.31,5.31,0,0,0,1,6.5,5.31,5.31,0,0,0,4.9,4.9,5.31,5.31,0,0,0,6.5,1,5.31,5.31,0,0,0,8.1,4.9,5.31,5.31,0,0,0,12,6.5,5.46,5.46,0,0,0,6.5,12Z\"/>\n",
              "  </svg>\n",
              "    </button>\n",
              "    <script>\n",
              "      (() => {\n",
              "      const buttonEl =\n",
              "        document.querySelector('#id_f4a24c37-0949-4acd-b3da-8a390fb48b10 button.colab-df-generate');\n",
              "      buttonEl.style.display =\n",
              "        google.colab.kernel.accessAllowed ? 'block' : 'none';\n",
              "\n",
              "      buttonEl.onclick = () => {\n",
              "        google.colab.notebook.generateWithVariable('df');\n",
              "      }\n",
              "      })();\n",
              "    </script>\n",
              "  </div>\n",
              "\n",
              "    </div>\n",
              "  </div>\n"
            ]
          },
          "metadata": {},
          "execution_count": 2
        }
      ]
    },
    {
      "cell_type": "markdown",
      "source": [
        "### **3. Creamos un dataframe con sólo un punto**\n",
        "Queremos conocer a que clase pertenece este punto nuevo."
      ],
      "metadata": {
        "id": "cGhuonPwIbQd"
      }
    },
    {
      "cell_type": "code",
      "source": [
        "# Create a new dataframe for the additional point\n",
        "new_p = pd.DataFrame({'x': [0.375], 'y': [0.58]})"
      ],
      "metadata": {
        "id": "L3keNrK5VqOu"
      },
      "execution_count": null,
      "outputs": []
    },
    {
      "cell_type": "markdown",
      "source": [
        "### **4. Graficamos los puntos del conjunto de datos y el punto nuevo**\n",
        "Los puntos de cada clase se identifican con un color distinto."
      ],
      "metadata": {
        "id": "ad8a2ME1KayA"
      }
    },
    {
      "cell_type": "code",
      "source": [
        "def plotDSandNewPoint(df,new_p):\n",
        "  fig = plt.figure()\n",
        "  df_1 = df[df['Class']=='C1']\n",
        "  df_2 = df[df['Class']=='C2']\n",
        "  plt.scatter(df_1['x'],df_1['y'],c='blue',label='C1')\n",
        "  plt.scatter(df_2['x'],df_2['y'],c='green',label='C2')\n",
        "  plt.scatter(new_p['x'],new_p['y'],c='red', label='New Point')\n",
        "  # Add labels and title\n",
        "  plt.xlabel('X-axis')\n",
        "  plt.ylabel('Y-axis')\n",
        "  plt.title('Scatter Plot with Dataset and New Point')\n",
        "  # Add legend\n",
        "  plt.legend()\n",
        "  # Show the plot\n",
        "  plt.show()\n",
        "  return fig\n",
        "\n",
        "fig=plotDSandNewPoint(df,new_p)"
      ],
      "metadata": {
        "colab": {
          "base_uri": "https://localhost:8080/",
          "height": 472
        },
        "id": "SCeCkKOvVSvA",
        "outputId": "46837885-a707-4f89-e89f-a35d938ad0aa"
      },
      "execution_count": null,
      "outputs": [
        {
          "output_type": "display_data",
          "data": {
            "text/plain": [
              "<Figure size 640x480 with 1 Axes>"
            ],
            "image/png": "[encoded data removed]"
          },
          "metadata": {}
        }
      ]
    },
    {
      "cell_type": "markdown",
      "source": [
        "### **5. Creamos la función *getKNearest()* para obtener los vecinos más cercanos**\n",
        "Recibe: <br>\n",
        "- df = El conjunto de datos\n",
        "- new_p = El punto nuevo\n",
        "- nn = Cantidad de vecinos más cercanos que se desean\n",
        "\n",
        "Entrega: <br>\n",
        "- sorted_indices: Un DataFrame que contiene a nn puntos más cercanos."
      ],
      "metadata": {
        "id": "6bSozZyQKq1E"
      }
    },
    {
      "cell_type": "code",
      "source": [
        "def getKNearest(df,new_p,nn):\n",
        "  distances = []\n",
        "\n",
        "  point2 = (new_p.iloc[0,0], new_p.iloc[0,1])\n",
        "\n",
        "  for i in range(len(df)):\n",
        "    point1 = (df.iloc[i]['x'], df.iloc[i]['y'])\n",
        "    distances.append(euclidean(point1, point2))\n",
        "\n",
        "  sorted_indices = sorted(range(len(distances)), key=lambda k: distances[k])[:nn]\n",
        "  return sorted_indices\n",
        "\n",
        "closest = getKNearest(df,new_p,3)"
      ],
      "metadata": {
        "id": "V_p83eyyVSyy"
      },
      "execution_count": null,
      "outputs": []
    },
    {
      "cell_type": "code",
      "source": [
        "df.iloc[closest,:].head()"
      ],
      "metadata": {
        "colab": {
          "base_uri": "https://localhost:8080/",
          "height": 143
        },
        "id": "h3Hvwph4ZEHK",
        "outputId": "17cfd3de-1425-4e21-f554-ddc12cdbbdc1"
      },
      "execution_count": null,
      "outputs": [
        {
          "output_type": "execute_result",
          "data": {
            "text/plain": [
              "          x         y Class\n",
              "9  0.381323  0.562486    C2\n",
              "0  0.350135  0.605580    C1\n",
              "2  0.410869  0.597293    C1"
            ],
            "text/html": [
              "\n",
              "  <div id=\"df-a5f0ca3a-e047-4ae0-a25c-e381cd1cb77d\" class=\"colab-df-container\">\n",
              "    <div>\n",
              "<style scoped>\n",
              "    .dataframe tbody tr th:only-of-type {\n",
              "        vertical-align: middle;\n",
              "    }\n",
              "\n",
              "    .dataframe tbody tr th {\n",
              "        vertical-align: top;\n",
              "    }\n",
              "\n",
              "    .dataframe thead th {\n",
              "        text-align: right;\n",
              "    }\n",
              "</style>\n",
              "<table border=\"1\" class=\"dataframe\">\n",
              "  <thead>\n",
              "    <tr style=\"text-align: right;\">\n",
              "      <th></th>\n",
              "      <th>x</th>\n",
              "      <th>y</th>\n",
              "      <th>Class</th>\n",
              "    </tr>\n",
              "  </thead>\n",
              "  <tbody>\n",
              "    <tr>\n",
              "      <th>9</th>\n",
              "      <td>0.381323</td>\n",
              "      <td>0.562486</td>\n",
              "      <td>C2</td>\n",
              "    </tr>\n",
              "    <tr>\n",
              "      <th>0</th>\n",
              "      <td>0.350135</td>\n",
              "      <td>0.605580</td>\n",
              "      <td>C1</td>\n",
              "    </tr>\n",
              "    <tr>\n",
              "      <th>2</th>\n",
              "      <td>0.410869</td>\n",
              "      <td>0.597293</td>\n",
              "      <td>C1</td>\n",
              "    </tr>\n",
              "  </tbody>\n",
              "</table>\n",
              "</div>\n",
              "    <div class=\"colab-df-buttons\">\n",
              "\n",
              "  <div class=\"colab-df-container\">\n",
              "    <button class=\"colab-df-convert\" onclick=\"convertToInteractive('df-a5f0ca3a-e047-4ae0-a25c-e381cd1cb77d')\"\n",
              "            title=\"Convert this dataframe to an interactive table.\"\n",
              "            style=\"display:none;\">\n",
              "\n",
              "  <svg xmlns=\"http://www.w3.org/2000/svg\" height=\"24px\" viewBox=\"0 -960 960 960\">\n",
              "    <path d=\"M120-120v-720h720v720H120Zm60-500h600v-160H180v160Zm220 220h160v-160H400v160Zm0 220h160v-160H400v160ZM180-400h160v-160H180v160Zm440 0h160v-160H620v160ZM180-180h160v-160H180v160Zm440 0h160v-160H620v160Z\"/>\n",
              "  </svg>\n",
              "    </button>\n",
              "\n",
              "  <style>\n",
              "    .colab-df-container {\n",
              "      display:flex;\n",
              "      gap: 12px;\n",
              "    }\n",
              "\n",
              "    .colab-df-convert {\n",
              "      background-color: #E8F0FE;\n",
              "      border: none;\n",
              "      border-radius: 50%;\n",
              "      cursor: pointer;\n",
              "      display: none;\n",
              "      fill: #1967D2;\n",
              "      height: 32px;\n",
              "      padding: 0 0 0 0;\n",
              "      width: 32px;\n",
              "    }\n",
              "\n",
              "    .colab-df-convert:hover {\n",
              "      background-color: #E2EBFA;\n",
              "      box-shadow: 0px 1px 2px rgba(60, 64, 67, 0.3), 0px 1px 3px 1px rgba(60, 64, 67, 0.15);\n",
              "      fill: #174EA6;\n",
              "    }\n",
              "\n",
              "    .colab-df-buttons div {\n",
              "      margin-bottom: 4px;\n",
              "    }\n",
              "\n",
              "    [theme=dark] .colab-df-convert {\n",
              "      background-color: #3B4455;\n",
              "      fill: #D2E3FC;\n",
              "    }\n",
              "\n",
              "    [theme=dark] .colab-df-convert:hover {\n",
              "      background-color: #434B5C;\n",
              "      box-shadow: 0px 1px 3px 1px rgba(0, 0, 0, 0.15);\n",
              "      filter: drop-shadow(0px 1px 2px rgba(0, 0, 0, 0.3));\n",
              "      fill: #FFFFFF;\n",
              "    }\n",
              "  </style>\n",
              "\n",
              "    <script>\n",
              "      const buttonEl =\n",
              "        document.querySelector('#df-a5f0ca3a-e047-4ae0-a25c-e381cd1cb77d button.colab-df-convert');\n",
              "      buttonEl.style.display =\n",
              "        google.colab.kernel.accessAllowed ? 'block' : 'none';\n",
              "\n",
              "      async function convertToInteractive(key) {\n",
              "        const element = document.querySelector('#df-a5f0ca3a-e047-4ae0-a25c-e381cd1cb77d');\n",
              "        const dataTable =\n",
              "          await google.colab.kernel.invokeFunction('convertToInteractive',\n",
              "                                                    [key], {});\n",
              "        if (!dataTable) return;\n",
              "\n",
              "        const docLinkHtml = 'Like what you see? Visit the ' +\n",
              "          '<a target=\"_blank\" href=https://colab.research.google.com/notebooks/data_table.ipynb>data table notebook</a>'\n",
              "          + ' to learn more about interactive tables.';\n",
              "        element.innerHTML = '';\n",
              "        dataTable['output_type'] = 'display_data';\n",
              "        await google.colab.output.renderOutput(dataTable, element);\n",
              "        const docLink = document.createElement('div');\n",
              "        docLink.innerHTML = docLinkHtml;\n",
              "        element.appendChild(docLink);\n",
              "      }\n",
              "    </script>\n",
              "  </div>\n",
              "\n",
              "\n",
              "<div id=\"df-40d480e0-6ea1-492c-81b7-e13d798ebaeb\">\n",
              "  <button class=\"colab-df-quickchart\" onclick=\"quickchart('df-40d480e0-6ea1-492c-81b7-e13d798ebaeb')\"\n",
              "            title=\"Suggest charts\"\n",
              "            style=\"display:none;\">\n",
              "\n",
              "<svg xmlns=\"http://www.w3.org/2000/svg\" height=\"24px\"viewBox=\"0 0 24 24\"\n",
              "     width=\"24px\">\n",
              "    <g>\n",
              "        <path d=\"M19 3H5c-1.1 0-2 .9-2 2v14c0 1.1.9 2 2 2h14c1.1 0 2-.9 2-2V5c0-1.1-.9-2-2-2zM9 17H7v-7h2v7zm4 0h-2V7h2v10zm4 0h-2v-4h2v4z\"/>\n",
              "    </g>\n",
              "</svg>\n",
              "  </button>\n",
              "\n",
              "<style>\n",
              "  .colab-df-quickchart {\n",
              "      --bg-color: #E8F0FE;\n",
              "      --fill-color: #1967D2;\n",
              "      --hover-bg-color: #E2EBFA;\n",
              "      --hover-fill-color: #174EA6;\n",
              "      --disabled-fill-color: #AAA;\n",
              "      --disabled-bg-color: #DDD;\n",
              "  }\n",
              "\n",
              "  [theme=dark] .colab-df-quickchart {\n",
              "      --bg-color: #3B4455;\n",
              "      --fill-color: #D2E3FC;\n",
              "      --hover-bg-color: #434B5C;\n",
              "      --hover-fill-color: #FFFFFF;\n",
              "      --disabled-bg-color: #3B4455;\n",
              "      --disabled-fill-color: #666;\n",
              "  }\n",
              "\n",
              "  .colab-df-quickchart {\n",
              "    background-color: var(--bg-color);\n",
              "    border: none;\n",
              "    border-radius: 50%;\n",
              "    cursor: pointer;\n",
              "    display: none;\n",
              "    fill: var(--fill-color);\n",
              "    height: 32px;\n",
              "    padding: 0;\n",
              "    width: 32px;\n",
              "  }\n",
              "\n",
              "  .colab-df-quickchart:hover {\n",
              "    background-color: var(--hover-bg-color);\n",
              "    box-shadow: 0 1px 2px rgba(60, 64, 67, 0.3), 0 1px 3px 1px rgba(60, 64, 67, 0.15);\n",
              "    fill: var(--button-hover-fill-color);\n",
              "  }\n",
              "\n",
              "  .colab-df-quickchart-complete:disabled,\n",
              "  .colab-df-quickchart-complete:disabled:hover {\n",
              "    background-color: var(--disabled-bg-color);\n",
              "    fill: var(--disabled-fill-color);\n",
              "    box-shadow: none;\n",
              "  }\n",
              "\n",
              "  .colab-df-spinner {\n",
              "    border: 2px solid var(--fill-color);\n",
              "    border-color: transparent;\n",
              "    border-bottom-color: var(--fill-color);\n",
              "    animation:\n",
              "      spin 1s steps(1) infinite;\n",
              "  }\n",
              "\n",
              "  @keyframes spin {\n",
              "    0% {\n",
              "      border-color: transparent;\n",
              "      border-bottom-color: var(--fill-color);\n",
              "      border-left-color: var(--fill-color);\n",
              "    }\n",
              "    20% {\n",
              "      border-color: transparent;\n",
              "      border-left-color: var(--fill-color);\n",
              "      border-top-color: var(--fill-color);\n",
              "    }\n",
              "    30% {\n",
              "      border-color: transparent;\n",
              "      border-left-color: var(--fill-color);\n",
              "      border-top-color: var(--fill-color);\n",
              "      border-right-color: var(--fill-color);\n",
              "    }\n",
              "    40% {\n",
              "      border-color: transparent;\n",
              "      border-right-color: var(--fill-color);\n",
              "      border-top-color: var(--fill-color);\n",
              "    }\n",
              "    60% {\n",
              "      border-color: transparent;\n",
              "      border-right-color: var(--fill-color);\n",
              "    }\n",
              "    80% {\n",
              "      border-color: transparent;\n",
              "      border-right-color: var(--fill-color);\n",
              "      border-bottom-color: var(--fill-color);\n",
              "    }\n",
              "    90% {\n",
              "      border-color: transparent;\n",
              "      border-bottom-color: var(--fill-color);\n",
              "    }\n",
              "  }\n",
              "</style>\n",
              "\n",
              "  <script>\n",
              "    async function quickchart(key) {\n",
              "      const quickchartButtonEl =\n",
              "        document.querySelector('#' + key + ' button');\n",
              "      quickchartButtonEl.disabled = true;  // To prevent multiple clicks.\n",
              "      quickchartButtonEl.classList.add('colab-df-spinner');\n",
              "      try {\n",
              "        const charts = await google.colab.kernel.invokeFunction(\n",
              "            'suggestCharts', [key], {});\n",
              "      } catch (error) {\n",
              "        console.error('Error during call to suggestCharts:', error);\n",
              "      }\n",
              "      quickchartButtonEl.classList.remove('colab-df-spinner');\n",
              "      quickchartButtonEl.classList.add('colab-df-quickchart-complete');\n",
              "    }\n",
              "    (() => {\n",
              "      let quickchartButtonEl =\n",
              "        document.querySelector('#df-40d480e0-6ea1-492c-81b7-e13d798ebaeb button');\n",
              "      quickchartButtonEl.style.display =\n",
              "        google.colab.kernel.accessAllowed ? 'block' : 'none';\n",
              "    })();\n",
              "  </script>\n",
              "</div>\n",
              "\n",
              "    </div>\n",
              "  </div>\n"
            ]
          },
          "metadata": {},
          "execution_count": 6
        }
      ]
    },
    {
      "cell_type": "markdown",
      "source": [
        "### **6. Grafica con los puntos más cercanos**\n",
        "Se define función para graficar los puntos del dataset, el punto nuevo y los nn vecinos más cercanos."
      ],
      "metadata": {
        "id": "MHRdDJTALX0d"
      }
    },
    {
      "cell_type": "code",
      "source": [
        "def plotWithClosestPoints(df, new_p,closest):\n",
        "  fig = plt.figure()\n",
        "  df_1 = df[df['Class']=='C1']\n",
        "  df_2 = df[df['Class']=='C2']\n",
        "  plt.scatter(df_1['x'],df_1['y'],c='blue',label='C1')\n",
        "  plt.scatter(df_2['x'],df_2['y'],c='green',label='C2')\n",
        "  plt.scatter(new_p['x'],new_p['y'],c='red', label='New Point')\n",
        "  plt.scatter(df.iloc[closest]['x'],df.iloc[closest]['y'],c='yellow',  marker='o', s=200,alpha=0.3, label='Closest points')\n",
        "\n",
        "  plt.xlabel('X-axis')\n",
        "  plt.ylabel('Y-axis')\n",
        "  plt.title('Scatter Plot with Dataset, New Point and closest to new point')\n",
        "\n",
        "  plt.legend()\n",
        "\n",
        "  plt.show()\n",
        "\n"
      ],
      "metadata": {
        "id": "U4O0yI00ZPTB"
      },
      "execution_count": null,
      "outputs": []
    },
    {
      "cell_type": "markdown",
      "source": [
        "### **7. Definimos y usamos la función *predictionKNN()* que combina lo que hemos hecho hasta el momento**\n",
        "Recibe: <br>\n",
        "- df = El conjunto de datos\n",
        "- new_p = El punto nuevo\n",
        "- nn = Cantidad de vecinos más cercanos que se desean\n",
        "\n",
        "Entrega: <br>\n",
        "- prediction: La clase predicha.\n",
        "\n",
        "<br>\n",
        "\n",
        "Usamos la función *getKNearest()* para encontrar los vecinos más cercanos.\n",
        "Se utiliza la función *value_counts()* para contar la cantidad de elementos presente en cada clase de los vecinos más cercanos. Posteriormente se obtiene el nombre de la clase con la mayor cantidad de elementos con *idmax()*. Además, se grafica usando la función *plotWithClosestPoints()*."
      ],
      "metadata": {
        "id": "oFD4wrffLrnX"
      }
    },
    {
      "cell_type": "code",
      "source": [
        "def predictionKNN(df,new_p, nn):\n",
        "  closest = getKNearest(df,new_p,nn)\n",
        "  class_counts= df.iloc[closest]['Class'].value_counts()\n",
        "  # Get the class with the maximum count\n",
        "  prediction = class_counts.idxmax() #most_frequent_class\n",
        "  plotWithClosestPoints(df, new_p,closest)\n",
        "  print(\"Se predice que el nuevo punto es: \", prediction)\n",
        "  return prediction\n",
        "\n",
        "new_p = pd.DataFrame({'x': [0.375], 'y': [0.58]})\n",
        "prediction = predictionKNN(df,new_p, 3)"
      ],
      "metadata": {
        "colab": {
          "base_uri": "https://localhost:8080/",
          "height": 489
        },
        "id": "xMD5VJPEbUOI",
        "outputId": "1ac00397-77a6-4509-dbb0-4537900785a0"
      },
      "execution_count": null,
      "outputs": [
        {
          "output_type": "display_data",
          "data": {
            "text/plain": [
              "<Figure size 640x480 with 1 Axes>"
            ],
            "image/png": "[encoded data removed]"
          },
          "metadata": {}
        },
        {
          "output_type": "stream",
          "name": "stdout",
          "text": [
            "Se predice que el nuevo punto es:  C1\n"
          ]
        }
      ]
    },
    {
      "cell_type": "markdown",
      "source": [
        "### **8. Usamos el clasificador *KNeighborsClassifier* de la biblioteca Sklearn**\n",
        "En la siguiente celda usamos un modelo de KNN incluído en Sklearn, podemos comparar los resultados con nuestra función. Tenemos que importar lo correspondiente (from sklearn.neighbors import KNeighborsClassifier)\n",
        "\n",
        "Instanciamos un objeto en knn_classifier, indicando la cantidad de vecinos más cercanos en n_neighbors.\n",
        "\n",
        "Ajustamos el modelo a los datos de entrenamiento usando *fit()*. Hacemos la predicción usando *predict()* .\n",
        "\n",
        "NOTA: Recuerda que en este ejemplo didáctico, todo df es el conjunto de entrenamiento y el de prueba es el nuevo punto.\n"
      ],
      "metadata": {
        "id": "iGnG2z5xNJMQ"
      }
    },
    {
      "cell_type": "code",
      "source": [
        "from sklearn.neighbors import KNeighborsClassifier   #Modelo de clasificación\n",
        "# Initialize the KNN classifier\n",
        "knn_classifier = KNeighborsClassifier(n_neighbors=3)  # Aqui ajustamos el número de vecinos\n",
        "\n",
        "# Ajustamos el modelo a los datos de entrenamiento\n",
        "X = df.iloc[:,:-1]\n",
        "y = df.iloc[:,-1]\n",
        "\n",
        "knn_classifier.fit(X, y)\n",
        "\n",
        "pred = knn_classifier.predict(new_p)\n",
        "print(pred)\n"
      ],
      "metadata": {
        "colab": {
          "base_uri": "https://localhost:8080/"
        },
        "id": "o_AIb5qcdQTO",
        "outputId": "def4baa5-fd27-4b82-899e-dafda15c3542"
      },
      "execution_count": null,
      "outputs": [
        {
          "output_type": "stream",
          "name": "stdout",
          "text": [
            "['C1']\n"
          ]
        }
      ]
    },
    {
      "cell_type": "markdown",
      "source": [
        "### **9. Ejercicio Probar otra distancia**\n",
        "En este ejercicio, debes modificar nuestra función para cambiar la distancia Euclidiana por la distancia Coseno.\n",
        "<br>\n",
        "También en la función de Sklearn debes indicar que quieres usar la distancia coseno.\n"
      ],
      "metadata": {
        "id": "HPDYk3HGOLB5"
      }
    },
    {
      "cell_type": "markdown",
      "source": [
        "**9.1 Modificando nuestra función**"
      ],
      "metadata": {
        "id": "EclPrtgcOnjC"
      }
    },
    {
      "cell_type": "code",
      "source": [
        "# Investiga si debes importar algo\n",
        "from scipy.spatial.distance import cosine\n",
        "\n",
        "\n",
        "#Leemos de nuevo el dataset y definimos el nuevo punto (solo para recordar)\n",
        "\n",
        "nn=3\n",
        "df = pd.read_csv('/content/fewDataKNN.csv')\n",
        "new_p = pd.DataFrame({'x': [0.375], 'y': [0.58]})\n",
        "\n",
        "#Cambia el renglón en donde se indica\n",
        "def getKNearest(df,new_p,nn):\n",
        "  distances = []\n",
        "  point2 = (new_p.iloc[0,0], new_p.iloc[0,1])\n",
        "\n",
        "  for i in range(len(df)):\n",
        "    point1 = (df.iloc[i]['x'], df.iloc[i]['y'])\n",
        "\n",
        "    ##### Debes cambiar este renglón#######\n",
        "    distances.append(cosine(point1, point2))\n",
        "\n",
        "  sorted_indices = sorted(range(len(distances)), key=lambda k: distances[k])[:nn]\n",
        "  return sorted_indices\n",
        "\n",
        "closest = getKNearest(df,new_p,nn)\n",
        "\n",
        "def predictionKNN(df,new_p, nn):\n",
        "  closest = getKNearest(df,new_p,nn)\n",
        "  class_counts= df.iloc[closest]['Class'].value_counts()\n",
        "  # Get the class with the maximum count\n",
        "  most_frequent_class = class_counts.idxmax()\n",
        "  plotWithClosestPoints(df, new_p,closest)\n",
        "\n",
        "  print(\"The new point is predicted to be: \", most_frequent_class)\n",
        "\n",
        "predictionKNN(df,new_p, nn)"
      ],
      "metadata": {
        "id": "5bURUve4h7T0",
        "colab": {
          "base_uri": "https://localhost:8080/",
          "height": 489
        },
        "outputId": "a91dbdd4-2e66-48a2-9204-791029784ae8"
      },
      "execution_count": null,
      "outputs": [
        {
          "output_type": "display_data",
          "data": {
            "text/plain": [
              "<Figure size 640x480 with 1 Axes>"
            ],
            "image/png": "[encoded data removed]"
          },
          "metadata": {}
        },
        {
          "output_type": "stream",
          "name": "stdout",
          "text": [
            "The new point is predicted to be:  C2\n"
          ]
        }
      ]
    },
    {
      "cell_type": "markdown",
      "source": [
        "**Responde**\n",
        "¿Qué cambia en los resultados al cambiar de distancia?"
      ],
      "metadata": {
        "id": "FeYT6PF1Pgru"
      }
    },
    {
      "cell_type": "markdown",
      "source": [
        "**9.2 Indicando la métrica en la función KNeighborsClassifier**"
      ],
      "metadata": {
        "id": "pcZQKKhbPBSK"
      }
    },
    {
      "cell_type": "code",
      "source": [
        "#Agrega lo correspondiente\n",
        "knn_classifier = KNeighborsClassifier(<Debes agregar algo>, n_neighbors=3)\n",
        "\n",
        "# Ajustamos el modelo a los datos de entrenamiento\n",
        "X = df.iloc[:,:-1]\n",
        "y = df.iloc[:,-1]\n",
        "\n",
        "knn_classifier.fit(X, y)\n",
        "\n",
        "pred = knn_classifier.predict(new_p)\n",
        "print(pred)"
      ],
      "metadata": {
        "colab": {
          "base_uri": "https://localhost:8080/"
        },
        "id": "6JRLhoXc6c__",
        "outputId": "d956c96d-0f09-4f12-e691-5d63d8fe7ed7"
      },
      "execution_count": null,
      "outputs": [
        {
          "output_type": "stream",
          "name": "stdout",
          "text": [
            "['C2']\n"
          ]
        }
      ]
    },
    {
      "cell_type": "markdown",
      "source": [
        "**Responde** <br>\n",
        "¿Los resultados son iguales a los de nuestra función?"
      ],
      "metadata": {
        "id": "G99WLtvjrBEw"
      }
    },
    {
      "cell_type": "code",
      "source": [],
      "metadata": {
        "id": "wuBWWWIPEKeD"
      },
      "execution_count": null,
      "outputs": []
    }
  ]
}