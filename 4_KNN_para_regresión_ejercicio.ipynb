{
  "nbformat": 4,
  "nbformat_minor": 0,
  "metadata": {
    "colab": {
      "provenance": [],
      "include_colab_link": true
    },
    "kernelspec": {
      "name": "python3",
      "display_name": "Python 3"
    },
    "language_info": {
      "name": "python"
    }
  },
  "cells": [
    {
      "cell_type": "markdown",
      "metadata": {
        "id": "view-in-github",
        "colab_type": "text"
      },
      "source": [
        "<a href=\"https://colab.research.google.com/github/AbimaelLopez/Diplomado/blob/main/4_KNN_para_regresi%C3%B3n_ejercicio.ipynb\" target=\"_parent\"><img src=\"https://colab.research.google.com/assets/colab-badge.svg\" alt=\"Open In Colab\"/></a>"
      ]
    },
    {
      "cell_type": "markdown",
      "source": [
        "# 4 KNN para regresión<br>\n",
        "\n",
        "### Objetivo\n",
        "Que la o el estudiante comprenda los elementos básicos que componen al algoritmo supervisado K-Nearest Neighbors para un problema de regresión.\n",
        "\n",
        "### Descripción del procedimiento a seguir\n",
        "- Se construye un conjunto de datos sintético\n",
        "- Se define un nuevo punto\n",
        "- Se implementa el algoritmo de KNN para regresión\n",
        "- Se deja de ejercicio usar el regresor KNN de la biblioteca sklearn\n",
        "\n",
        "### Datos\n",
        "**Profesora**: Dra. Jessica Beltrán Márquez<br>\n",
        "Maestría en Ciencia de Datos y Optimización <br>\n",
        "Centro de Investigación en Matemáticas Aplicadas <br>\n",
        "Universidad Autónoma de Coahuila\n",
        "\n",
        "\n",
        "### Bibliografía\n",
        "1. https://pandas.pydata.org/\n",
        "2. https://matplotlib.org/\n",
        "3. https://scikit-learn.org\n",
        "4. https://numpy.org/"
      ],
      "metadata": {
        "id": "EznJ5NjYrMAt"
      }
    },
    {
      "cell_type": "markdown",
      "source": [
        "### **1. Importar bibliotecas**"
      ],
      "metadata": {
        "id": "gojUmydSrW21"
      }
    },
    {
      "cell_type": "code",
      "source": [
        "import pandas as pd\n",
        "import numpy as np\n",
        "import matplotlib.pyplot as plt"
      ],
      "metadata": {
        "id": "p3lKAKDRmjIz"
      },
      "execution_count": 1,
      "outputs": []
    },
    {
      "cell_type": "markdown",
      "source": [
        "### **2. Creamos un DataFrame que contiene los datos que usaremos**\n",
        "\n",
        "Este conjunto esta formado por dos columnas, una que indica un tamaño y otra un precio. En este caso, la columna 'Precio' es el target, que incluye valores numéricos que usaremos en este problema de regresión.\n",
        "<br>\n",
        "\n",
        "NOTA: Este es un ejemplo didáctico y todo este dataset se utilizará para entrenamiento. Se probará con un nuevo valor de tamaño."
      ],
      "metadata": {
        "id": "iJT7Bv-ArXun"
      }
    },
    {
      "cell_type": "code",
      "source": [
        "# Crear un diccionario con los datos\n",
        "datos = {\n",
        "    'Tamaño': [120, 150, 100, 180, 200, 130, 160, 140, 190],\n",
        "    'Precio': [250, 300, 200, 350, 400, 270, 320, 280, 370]\n",
        "}\n",
        "\n",
        "# Crear un DataFrame\n",
        "df = pd.DataFrame(datos)"
      ],
      "metadata": {
        "id": "btncKtzwRvmM"
      },
      "execution_count": 2,
      "outputs": []
    },
    {
      "cell_type": "code",
      "source": [
        "df.head()"
      ],
      "metadata": {
        "colab": {
          "base_uri": "https://localhost:8080/",
          "height": 206
        },
        "id": "JsN1TZANm80R",
        "outputId": "1a3264bf-38c6-4a16-cc5b-f11f0360c440"
      },
      "execution_count": 3,
      "outputs": [
        {
          "output_type": "execute_result",
          "data": {
            "text/plain": [
              "   Tamaño  Precio\n",
              "0     120     250\n",
              "1     150     300\n",
              "2     100     200\n",
              "3     180     350\n",
              "4     200     400"
            ],
            "text/html": [
              "\n",
              "  <div id=\"df-446de7fc-6ee6-4ced-a69c-c691891f7972\" class=\"colab-df-container\">\n",
              "    <div>\n",
              "<style scoped>\n",
              "    .dataframe tbody tr th:only-of-type {\n",
              "        vertical-align: middle;\n",
              "    }\n",
              "\n",
              "    .dataframe tbody tr th {\n",
              "        vertical-align: top;\n",
              "    }\n",
              "\n",
              "    .dataframe thead th {\n",
              "        text-align: right;\n",
              "    }\n",
              "</style>\n",
              "<table border=\"1\" class=\"dataframe\">\n",
              "  <thead>\n",
              "    <tr style=\"text-align: right;\">\n",
              "      <th></th>\n",
              "      <th>Tamaño</th>\n",
              "      <th>Precio</th>\n",
              "    </tr>\n",
              "  </thead>\n",
              "  <tbody>\n",
              "    <tr>\n",
              "      <th>0</th>\n",
              "      <td>120</td>\n",
              "      <td>250</td>\n",
              "    </tr>\n",
              "    <tr>\n",
              "      <th>1</th>\n",
              "      <td>150</td>\n",
              "      <td>300</td>\n",
              "    </tr>\n",
              "    <tr>\n",
              "      <th>2</th>\n",
              "      <td>100</td>\n",
              "      <td>200</td>\n",
              "    </tr>\n",
              "    <tr>\n",
              "      <th>3</th>\n",
              "      <td>180</td>\n",
              "      <td>350</td>\n",
              "    </tr>\n",
              "    <tr>\n",
              "      <th>4</th>\n",
              "      <td>200</td>\n",
              "      <td>400</td>\n",
              "    </tr>\n",
              "  </tbody>\n",
              "</table>\n",
              "</div>\n",
              "    <div class=\"colab-df-buttons\">\n",
              "\n",
              "  <div class=\"colab-df-container\">\n",
              "    <button class=\"colab-df-convert\" onclick=\"convertToInteractive('df-446de7fc-6ee6-4ced-a69c-c691891f7972')\"\n",
              "            title=\"Convert this dataframe to an interactive table.\"\n",
              "            style=\"display:none;\">\n",
              "\n",
              "  <svg xmlns=\"http://www.w3.org/2000/svg\" height=\"24px\" viewBox=\"0 -960 960 960\">\n",
              "    <path d=\"M120-120v-720h720v720H120Zm60-500h600v-160H180v160Zm220 220h160v-160H400v160Zm0 220h160v-160H400v160ZM180-400h160v-160H180v160Zm440 0h160v-160H620v160ZM180-180h160v-160H180v160Zm440 0h160v-160H620v160Z\"/>\n",
              "  </svg>\n",
              "    </button>\n",
              "\n",
              "  <style>\n",
              "    .colab-df-container {\n",
              "      display:flex;\n",
              "      gap: 12px;\n",
              "    }\n",
              "\n",
              "    .colab-df-convert {\n",
              "      background-color: #E8F0FE;\n",
              "      border: none;\n",
              "      border-radius: 50%;\n",
              "      cursor: pointer;\n",
              "      display: none;\n",
              "      fill: #1967D2;\n",
              "      height: 32px;\n",
              "      padding: 0 0 0 0;\n",
              "      width: 32px;\n",
              "    }\n",
              "\n",
              "    .colab-df-convert:hover {\n",
              "      background-color: #E2EBFA;\n",
              "      box-shadow: 0px 1px 2px rgba(60, 64, 67, 0.3), 0px 1px 3px 1px rgba(60, 64, 67, 0.15);\n",
              "      fill: #174EA6;\n",
              "    }\n",
              "\n",
              "    .colab-df-buttons div {\n",
              "      margin-bottom: 4px;\n",
              "    }\n",
              "\n",
              "    [theme=dark] .colab-df-convert {\n",
              "      background-color: #3B4455;\n",
              "      fill: #D2E3FC;\n",
              "    }\n",
              "\n",
              "    [theme=dark] .colab-df-convert:hover {\n",
              "      background-color: #434B5C;\n",
              "      box-shadow: 0px 1px 3px 1px rgba(0, 0, 0, 0.15);\n",
              "      filter: drop-shadow(0px 1px 2px rgba(0, 0, 0, 0.3));\n",
              "      fill: #FFFFFF;\n",
              "    }\n",
              "  </style>\n",
              "\n",
              "    <script>\n",
              "      const buttonEl =\n",
              "        document.querySelector('#df-446de7fc-6ee6-4ced-a69c-c691891f7972 button.colab-df-convert');\n",
              "      buttonEl.style.display =\n",
              "        google.colab.kernel.accessAllowed ? 'block' : 'none';\n",
              "\n",
              "      async function convertToInteractive(key) {\n",
              "        const element = document.querySelector('#df-446de7fc-6ee6-4ced-a69c-c691891f7972');\n",
              "        const dataTable =\n",
              "          await google.colab.kernel.invokeFunction('convertToInteractive',\n",
              "                                                    [key], {});\n",
              "        if (!dataTable) return;\n",
              "\n",
              "        const docLinkHtml = 'Like what you see? Visit the ' +\n",
              "          '<a target=\"_blank\" href=https://colab.research.google.com/notebooks/data_table.ipynb>data table notebook</a>'\n",
              "          + ' to learn more about interactive tables.';\n",
              "        element.innerHTML = '';\n",
              "        dataTable['output_type'] = 'display_data';\n",
              "        await google.colab.output.renderOutput(dataTable, element);\n",
              "        const docLink = document.createElement('div');\n",
              "        docLink.innerHTML = docLinkHtml;\n",
              "        element.appendChild(docLink);\n",
              "      }\n",
              "    </script>\n",
              "  </div>\n",
              "\n",
              "\n",
              "<div id=\"df-f43989f1-c0ab-4c22-b1b1-423c0d244bb2\">\n",
              "  <button class=\"colab-df-quickchart\" onclick=\"quickchart('df-f43989f1-c0ab-4c22-b1b1-423c0d244bb2')\"\n",
              "            title=\"Suggest charts\"\n",
              "            style=\"display:none;\">\n",
              "\n",
              "<svg xmlns=\"http://www.w3.org/2000/svg\" height=\"24px\"viewBox=\"0 0 24 24\"\n",
              "     width=\"24px\">\n",
              "    <g>\n",
              "        <path d=\"M19 3H5c-1.1 0-2 .9-2 2v14c0 1.1.9 2 2 2h14c1.1 0 2-.9 2-2V5c0-1.1-.9-2-2-2zM9 17H7v-7h2v7zm4 0h-2V7h2v10zm4 0h-2v-4h2v4z\"/>\n",
              "    </g>\n",
              "</svg>\n",
              "  </button>\n",
              "\n",
              "<style>\n",
              "  .colab-df-quickchart {\n",
              "      --bg-color: #E8F0FE;\n",
              "      --fill-color: #1967D2;\n",
              "      --hover-bg-color: #E2EBFA;\n",
              "      --hover-fill-color: #174EA6;\n",
              "      --disabled-fill-color: #AAA;\n",
              "      --disabled-bg-color: #DDD;\n",
              "  }\n",
              "\n",
              "  [theme=dark] .colab-df-quickchart {\n",
              "      --bg-color: #3B4455;\n",
              "      --fill-color: #D2E3FC;\n",
              "      --hover-bg-color: #434B5C;\n",
              "      --hover-fill-color: #FFFFFF;\n",
              "      --disabled-bg-color: #3B4455;\n",
              "      --disabled-fill-color: #666;\n",
              "  }\n",
              "\n",
              "  .colab-df-quickchart {\n",
              "    background-color: var(--bg-color);\n",
              "    border: none;\n",
              "    border-radius: 50%;\n",
              "    cursor: pointer;\n",
              "    display: none;\n",
              "    fill: var(--fill-color);\n",
              "    height: 32px;\n",
              "    padding: 0;\n",
              "    width: 32px;\n",
              "  }\n",
              "\n",
              "  .colab-df-quickchart:hover {\n",
              "    background-color: var(--hover-bg-color);\n",
              "    box-shadow: 0 1px 2px rgba(60, 64, 67, 0.3), 0 1px 3px 1px rgba(60, 64, 67, 0.15);\n",
              "    fill: var(--button-hover-fill-color);\n",
              "  }\n",
              "\n",
              "  .colab-df-quickchart-complete:disabled,\n",
              "  .colab-df-quickchart-complete:disabled:hover {\n",
              "    background-color: var(--disabled-bg-color);\n",
              "    fill: var(--disabled-fill-color);\n",
              "    box-shadow: none;\n",
              "  }\n",
              "\n",
              "  .colab-df-spinner {\n",
              "    border: 2px solid var(--fill-color);\n",
              "    border-color: transparent;\n",
              "    border-bottom-color: var(--fill-color);\n",
              "    animation:\n",
              "      spin 1s steps(1) infinite;\n",
              "  }\n",
              "\n",
              "  @keyframes spin {\n",
              "    0% {\n",
              "      border-color: transparent;\n",
              "      border-bottom-color: var(--fill-color);\n",
              "      border-left-color: var(--fill-color);\n",
              "    }\n",
              "    20% {\n",
              "      border-color: transparent;\n",
              "      border-left-color: var(--fill-color);\n",
              "      border-top-color: var(--fill-color);\n",
              "    }\n",
              "    30% {\n",
              "      border-color: transparent;\n",
              "      border-left-color: var(--fill-color);\n",
              "      border-top-color: var(--fill-color);\n",
              "      border-right-color: var(--fill-color);\n",
              "    }\n",
              "    40% {\n",
              "      border-color: transparent;\n",
              "      border-right-color: var(--fill-color);\n",
              "      border-top-color: var(--fill-color);\n",
              "    }\n",
              "    60% {\n",
              "      border-color: transparent;\n",
              "      border-right-color: var(--fill-color);\n",
              "    }\n",
              "    80% {\n",
              "      border-color: transparent;\n",
              "      border-right-color: var(--fill-color);\n",
              "      border-bottom-color: var(--fill-color);\n",
              "    }\n",
              "    90% {\n",
              "      border-color: transparent;\n",
              "      border-bottom-color: var(--fill-color);\n",
              "    }\n",
              "  }\n",
              "</style>\n",
              "\n",
              "  <script>\n",
              "    async function quickchart(key) {\n",
              "      const quickchartButtonEl =\n",
              "        document.querySelector('#' + key + ' button');\n",
              "      quickchartButtonEl.disabled = true;  // To prevent multiple clicks.\n",
              "      quickchartButtonEl.classList.add('colab-df-spinner');\n",
              "      try {\n",
              "        const charts = await google.colab.kernel.invokeFunction(\n",
              "            'suggestCharts', [key], {});\n",
              "      } catch (error) {\n",
              "        console.error('Error during call to suggestCharts:', error);\n",
              "      }\n",
              "      quickchartButtonEl.classList.remove('colab-df-spinner');\n",
              "      quickchartButtonEl.classList.add('colab-df-quickchart-complete');\n",
              "    }\n",
              "    (() => {\n",
              "      let quickchartButtonEl =\n",
              "        document.querySelector('#df-f43989f1-c0ab-4c22-b1b1-423c0d244bb2 button');\n",
              "      quickchartButtonEl.style.display =\n",
              "        google.colab.kernel.accessAllowed ? 'block' : 'none';\n",
              "    })();\n",
              "  </script>\n",
              "</div>\n",
              "\n",
              "    </div>\n",
              "  </div>\n"
            ]
          },
          "metadata": {},
          "execution_count": 3
        }
      ]
    },
    {
      "cell_type": "markdown",
      "source": [
        "### **3. Convertir a arreglos numpy**\n",
        "Para este ejercicio, vamos a convertir los DataFrames a arreglos numpy."
      ],
      "metadata": {
        "id": "DSGTaSJCr9K6"
      }
    },
    {
      "cell_type": "code",
      "source": [
        "#Nuestro vector de características\n",
        "X = np.array(df['Tamaño'])"
      ],
      "metadata": {
        "id": "FmzlHKlLqP1Q"
      },
      "execution_count": 4,
      "outputs": []
    },
    {
      "cell_type": "code",
      "source": [
        "#Nuestro vector de targets\n",
        "y = np.array(df['Precio'])"
      ],
      "metadata": {
        "id": "LErdR4nwqVrw"
      },
      "execution_count": 5,
      "outputs": []
    },
    {
      "cell_type": "markdown",
      "source": [
        "### **4. Definimos un nuevo punto, del que queremos predecir el valor**"
      ],
      "metadata": {
        "id": "ghZAPoQasZRv"
      }
    },
    {
      "cell_type": "code",
      "source": [
        "new_p = np.array([163])"
      ],
      "metadata": {
        "id": "S1uHQpwhsf-R"
      },
      "execution_count": 6,
      "outputs": []
    },
    {
      "cell_type": "markdown",
      "source": [
        "### **5. Programamos el algoritmo de KNN para regresión**\n",
        "En este caso, a diferencia de cuando se trabaja con problemas de clasificación,  no se usa un esquema de votación para elegir la clase predica, sino que se obtiene el valor medio entre los valores de los vecinos más cercanos."
      ],
      "metadata": {
        "id": "TPDeNZzisiG1"
      }
    },
    {
      "cell_type": "code",
      "source": [
        "#Definimos el número de vecinos más cercanos que queremos\n",
        "k=4\n",
        "\n",
        "# Se calcula la distanca entre el nuevo punto y todos los puntos del dataset\n",
        "distances = [np.linalg.norm(new_p - x) for x in X]\n",
        "\n",
        "# Se ordenan las distancias de menor a mayor y se eligen el índice de las primeras k\n",
        "k_indices = np.argsort(distances)[:k]\n",
        "\n",
        "# Se obtienen los valores target de los vecinos más cercanos\n",
        "k_nearest_neighbors = [y[i] for i in k_indices]\n",
        "\n",
        "# Se calcula la media de los valores target de los vecinos más cercanos\n",
        "prediction = np.mean(k_nearest_neighbors)\n",
        "\n",
        "#Imprimimos el valor predicho\n",
        "print(prediction)"
      ],
      "metadata": {
        "colab": {
          "base_uri": "https://localhost:8080/"
        },
        "id": "JYo0ajKkqYdQ",
        "outputId": "afe7c149-c639-4936-e850-bd250f343c49"
      },
      "execution_count": 7,
      "outputs": [
        {
          "output_type": "stream",
          "name": "stdout",
          "text": [
            "312.5\n"
          ]
        }
      ]
    },
    {
      "cell_type": "markdown",
      "source": [
        "### **6. Graficamos los puntos del dataset, los vecinos más cercanos y el valor target predicho**"
      ],
      "metadata": {
        "id": "JBIxxB6dtkoR"
      }
    },
    {
      "cell_type": "code",
      "source": [
        "# Graficamos los puntos del conjunto ed datos\n",
        "plt.scatter(X, y, label=\"Training Data\", color=\"blue\")\n",
        "\n",
        "# Graficamos los vecinos más cercanos\n",
        "plt.scatter(X[k_indices],y[k_indices],label='Closest points', color ='yellow', marker='o', s=120, alpha=0.3)\n",
        "\n",
        "# Graficamos el valor target predicho\n",
        "plt.scatter(new_p, prediction, label=\"Test Predictions\", color=\"red\", marker=\"x\")\n",
        "\n",
        "plt.xlabel(\"X Values\")\n",
        "plt.ylabel(\"Y Values\")\n",
        "plt.legend()\n",
        "plt.show()"
      ],
      "metadata": {
        "id": "rhnPX3yrqoTy",
        "colab": {
          "base_uri": "https://localhost:8080/",
          "height": 449
        },
        "outputId": "8c9ee8b5-dd6b-4705-eb9c-37d513f11949"
      },
      "execution_count": 8,
      "outputs": [
        {
          "output_type": "display_data",
          "data": {
            "text/plain": [
              "<Figure size 640x480 with 1 Axes>"
            ],
            "image/png": "[encoded data removed]"
          },
          "metadata": {}
        }
      ]
    },
    {
      "cell_type": "markdown",
      "source": [
        "### **7. Ejercicio. Utiliza el *KNeighborsRegressor* de la biblioteca Sklearn para hacer predicciones**\n",
        "\n",
        "- Entrena con el mismo conjunto de datos\n",
        "- Prueba con el mismo nuevo punto\n",
        "\n",
        "NOTA: Quizás te salga un error *'Reshape your data either using array.reshape(-1, 1) if your data has a single feature or array.reshape(1, -1) if it contains a single sample'*. Si esto, sucede, modifica X por X.reshape(-1, 1) y haz la otra modificación necesaria.\n",
        "\n",
        "Puedes encontrar información en:\n",
        "https://scikit-learn.org/stable/modules/generated/sklearn.neighbors.KNeighborsRegressor.html#sklearn.neighbors.KNeighborsRegressor"
      ],
      "metadata": {
        "id": "qQUuTJBKuVSJ"
      }
    },
    {
      "cell_type": "code",
      "source": [
        "import pandas as pd\n",
        "import numpy as np\n",
        "import matplotlib.pyplot as plt\n",
        "\n"
      ],
      "metadata": {
        "id": "GI77KfJuqoy4"
      },
      "execution_count": 9,
      "outputs": []
    },
    {
      "cell_type": "code",
      "source": [
        "# Crear un diccionario con los datos\n",
        "datos = {\n",
        "    'Tamaño': [120, 150, 100, 180, 200, 130, 160, 140, 190],\n",
        "    'Precio': [250, 300, 200, 350, 400, 270, 320, 280, 370]\n",
        "}\n",
        "\n",
        "# Crear un DataFrame\n",
        "df = pd.DataFrame(datos)"
      ],
      "metadata": {
        "id": "spx-C-URYrzM"
      },
      "execution_count": 10,
      "outputs": []
    },
    {
      "cell_type": "code",
      "source": [
        "from sklearn.neighbors import KNeighborsRegressor   #Modelo de clasificación\n",
        "# Initialize the KNN classifier\n",
        "knn_classifier = KNeighborsRegressor(n_neighbors=4)  # Aqui ajustamos el número de vecinos\n",
        "\n",
        "# Ajustamos el modelo a los datos de entrenamiento\n",
        "X = df.iloc[:,:-1]\n",
        "y = df.iloc[:,-1]\n",
        "\n",
        "knn_classifier.fit(X, y)\n",
        "\n",
        "new_p = pd.DataFrame({'Tamaño': [163]})\n",
        "\n",
        "pred = knn_classifier.predict(new_p)\n",
        "print(pred)\n"
      ],
      "metadata": {
        "id": "zHzAPy08qrhh",
        "outputId": "b8bc8973-de23-4be3-b593-267adb9fcafc",
        "colab": {
          "base_uri": "https://localhost:8080/"
        }
      },
      "execution_count": 19,
      "outputs": [
        {
          "output_type": "stream",
          "name": "stdout",
          "text": [
            "[312.5]\n"
          ]
        }
      ]
    },
    {
      "cell_type": "code",
      "source": [],
      "metadata": {
        "id": "IBdEXqGLaD33"
      },
      "execution_count": null,
      "outputs": []
    },
    {
      "cell_type": "code",
      "source": [],
      "metadata": {
        "id": "T3wDG-BvaBbx"
      },
      "execution_count": 19,
      "outputs": []
    }
  ]
}